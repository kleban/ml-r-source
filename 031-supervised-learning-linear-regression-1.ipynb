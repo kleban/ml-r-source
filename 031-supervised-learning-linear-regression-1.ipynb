{
 "cells": [
  {
   "cell_type": "markdown",
   "id": "c2414ff5",
   "metadata": {},
   "source": [
    "# Лінійна регресія. Престиж професій"
   ]
  },
  {
   "cell_type": "markdown",
   "id": "639689a3-afbe-4929-a2c9-d951474b0d41",
   "metadata": {},
   "source": [
    "Курс: Математичне моделювання в R"
   ]
  },
  {
   "cell_type": "markdown",
   "id": "c7ced297",
   "metadata": {},
   "source": [
    "---"
   ]
  },
  {
   "cell_type": "markdown",
   "id": "55badbfe-6ae4-43c2-8c01-a65dafe04f06",
   "metadata": {},
   "source": [
    "::: {.callout-important}\n",
    "# Перевірити матеріали лекції!!! \n",
    "\n",
    "Розділ про мультиколінеарність та вибір найкращої моделі.\n",
    ":::"
   ]
  },
  {
   "cell_type": "code",
   "execution_count": null,
   "id": "e2fedc40-9c87-43a1-9182-6e7aea8595c8",
   "metadata": {
    "vscode": {
     "languageId": "r"
    }
   },
   "outputs": [],
   "source": [
    "# install.packages(\"carData\")\n",
    "# install.packages(\"corrplot\")\n",
    "# install.packages(\"car\")\n",
    "# install.packages(\"modelr\")\n",
    "# install.packages(\"lmtest\")\n",
    "# install.packages(\"leaps\")"
   ]
  },
  {
   "cell_type": "code",
   "execution_count": 1,
   "id": "4e02085c-30ab-48cc-b9f0-92c361fd2e73",
   "metadata": {
    "vscode": {
     "languageId": "r"
    }
   },
   "outputs": [
    {
     "data": {
      "text/html": [
       "'Ukrainian_Ukraine.1251'"
      ],
      "text/latex": [
       "'Ukrainian\\_Ukraine.1251'"
      ],
      "text/markdown": [
       "'Ukrainian_Ukraine.1251'"
      ],
      "text/plain": [
       "[1] \"Ukrainian_Ukraine.1251\""
      ]
     },
     "metadata": {},
     "output_type": "display_data"
    }
   ],
   "source": [
    "Sys.setlocale(\"LC_CTYPE\", \"ukrainian\")\n",
    "options(warn = -1)"
   ]
  },
  {
   "cell_type": "markdown",
   "id": "607361bd-ec64-40da-9d45-497af39439f0",
   "metadata": {},
   "source": [
    "## Dataset overview"
   ]
  },
  {
   "cell_type": "markdown",
   "id": "2b42e836-2832-424c-a95d-b16f99edd692",
   "metadata": {},
   "source": [
    "У даному навчальному матеріалі використано класичний приклад даних з інформацією про престижність професій у Канаді 1971 року. Джерело: `carData::Prestige`."
   ]
  },
  {
   "cell_type": "code",
   "execution_count": 2,
   "id": "3d7ba959-9062-4a20-8c7d-d8c1c5ff272e",
   "metadata": {
    "vscode": {
     "languageId": "r"
    }
   },
   "outputs": [
    {
     "data": {
      "text/html": [
       "<table class=\"dataframe\">\n",
       "<caption>A data.frame: 6 × 6</caption>\n",
       "<thead>\n",
       "\t<tr><th></th><th scope=col>education</th><th scope=col>income</th><th scope=col>women</th><th scope=col>prestige</th><th scope=col>census</th><th scope=col>type</th></tr>\n",
       "\t<tr><th></th><th scope=col>&lt;dbl&gt;</th><th scope=col>&lt;int&gt;</th><th scope=col>&lt;dbl&gt;</th><th scope=col>&lt;dbl&gt;</th><th scope=col>&lt;int&gt;</th><th scope=col>&lt;fct&gt;</th></tr>\n",
       "</thead>\n",
       "<tbody>\n",
       "\t<tr><th scope=row>gov.administrators</th><td>13.11</td><td>12351</td><td>11.16</td><td>68.8</td><td>1113</td><td>prof</td></tr>\n",
       "\t<tr><th scope=row>general.managers</th><td>12.26</td><td>25879</td><td> 4.02</td><td>69.1</td><td>1130</td><td>prof</td></tr>\n",
       "\t<tr><th scope=row>accountants</th><td>12.77</td><td> 9271</td><td>15.70</td><td>63.4</td><td>1171</td><td>prof</td></tr>\n",
       "\t<tr><th scope=row>purchasing.officers</th><td>11.42</td><td> 8865</td><td> 9.11</td><td>56.8</td><td>1175</td><td>prof</td></tr>\n",
       "\t<tr><th scope=row>chemists</th><td>14.62</td><td> 8403</td><td>11.68</td><td>73.5</td><td>2111</td><td>prof</td></tr>\n",
       "\t<tr><th scope=row>physicists</th><td>15.64</td><td>11030</td><td> 5.13</td><td>77.6</td><td>2113</td><td>prof</td></tr>\n",
       "</tbody>\n",
       "</table>\n"
      ],
      "text/latex": [
       "A data.frame: 6 × 6\n",
       "\\begin{tabular}{r|llllll}\n",
       "  & education & income & women & prestige & census & type\\\\\n",
       "  & <dbl> & <int> & <dbl> & <dbl> & <int> & <fct>\\\\\n",
       "\\hline\n",
       "\tgov.administrators & 13.11 & 12351 & 11.16 & 68.8 & 1113 & prof\\\\\n",
       "\tgeneral.managers & 12.26 & 25879 &  4.02 & 69.1 & 1130 & prof\\\\\n",
       "\taccountants & 12.77 &  9271 & 15.70 & 63.4 & 1171 & prof\\\\\n",
       "\tpurchasing.officers & 11.42 &  8865 &  9.11 & 56.8 & 1175 & prof\\\\\n",
       "\tchemists & 14.62 &  8403 & 11.68 & 73.5 & 2111 & prof\\\\\n",
       "\tphysicists & 15.64 & 11030 &  5.13 & 77.6 & 2113 & prof\\\\\n",
       "\\end{tabular}\n"
      ],
      "text/markdown": [
       "\n",
       "A data.frame: 6 × 6\n",
       "\n",
       "| <!--/--> | education &lt;dbl&gt; | income &lt;int&gt; | women &lt;dbl&gt; | prestige &lt;dbl&gt; | census &lt;int&gt; | type &lt;fct&gt; |\n",
       "|---|---|---|---|---|---|---|\n",
       "| gov.administrators | 13.11 | 12351 | 11.16 | 68.8 | 1113 | prof |\n",
       "| general.managers | 12.26 | 25879 |  4.02 | 69.1 | 1130 | prof |\n",
       "| accountants | 12.77 |  9271 | 15.70 | 63.4 | 1171 | prof |\n",
       "| purchasing.officers | 11.42 |  8865 |  9.11 | 56.8 | 1175 | prof |\n",
       "| chemists | 14.62 |  8403 | 11.68 | 73.5 | 2111 | prof |\n",
       "| physicists | 15.64 | 11030 |  5.13 | 77.6 | 2113 | prof |\n",
       "\n"
      ],
      "text/plain": [
       "                    education income women prestige census type\n",
       "gov.administrators  13.11     12351  11.16 68.8     1113   prof\n",
       "general.managers    12.26     25879   4.02 69.1     1130   prof\n",
       "accountants         12.77      9271  15.70 63.4     1171   prof\n",
       "purchasing.officers 11.42      8865   9.11 56.8     1175   prof\n",
       "chemists            14.62      8403  11.68 73.5     2111   prof\n",
       "physicists          15.64     11030   5.13 77.6     2113   prof"
      ]
     },
     "metadata": {},
     "output_type": "display_data"
    }
   ],
   "source": [
    "library(carData)\n",
    "data <- carData::Prestige\n",
    "head(data)"
   ]
  },
  {
   "cell_type": "markdown",
   "id": "a57d3750-c013-4db1-b8e2-b5b91c718ee3",
   "metadata": {},
   "source": [
    "Переглянемо структуру даних:"
   ]
  },
  {
   "cell_type": "code",
   "execution_count": 3,
   "id": "ef5294f4-f217-47ec-8369-b6b7c9803718",
   "metadata": {
    "vscode": {
     "languageId": "r"
    }
   },
   "outputs": [
    {
     "name": "stdout",
     "output_type": "stream",
     "text": [
      "'data.frame':\t102 obs. of  6 variables:\n",
      " $ education: num  13.1 12.3 12.8 11.4 14.6 ...\n",
      " $ income   : int  12351 25879 9271 8865 8403 11030 8258 14163 11377 11023 ...\n",
      " $ women    : num  11.16 4.02 15.7 9.11 11.68 ...\n",
      " $ prestige : num  68.8 69.1 63.4 56.8 73.5 77.6 72.6 78.1 73.1 68.8 ...\n",
      " $ census   : int  1113 1130 1171 1175 2111 2113 2133 2141 2143 2153 ...\n",
      " $ type     : Factor w/ 3 levels \"bc\",\"prof\",\"wc\": 2 2 2 2 2 2 2 2 2 2 ...\n"
     ]
    }
   ],
   "source": [
    "str(data)"
   ]
  },
  {
   "cell_type": "markdown",
   "id": "98e528ff-dbb3-40a6-8998-7259e8b6f4e2",
   "metadata": {},
   "source": [
    "Значення показників вибірки:\n",
    "\n",
    "- [x] `prestige` – престиж професії за Pineo-Porter score, на основі дослідження середини 1960-х. **It is target!!!**\n",
    "- [x] `education` - середня кількість років освіти.\n",
    "- [x] `income` – середній дохід респондентів, дол.\n",
    "- [x] `women` – частка жінок у галузі\n",
    "- [x] `census` – канадський код професії.\n",
    "- [x] `type` – тип професії: bc, Blue Collar; prof, Professional, Managerial, and Technical; wc, White Collar.\n",
    "\n",
    "Оглянемо описову статистику факторів:"
   ]
  },
  {
   "cell_type": "code",
   "execution_count": 4,
   "id": "ad844aa6-439b-4de2-b845-b039533233f4",
   "metadata": {
    "vscode": {
     "languageId": "r"
    }
   },
   "outputs": [
    {
     "data": {
      "text/plain": [
       "   education          income          women           prestige    \n",
       " Min.   : 6.380   Min.   :  611   Min.   : 0.000   Min.   :14.80  \n",
       " 1st Qu.: 8.445   1st Qu.: 4106   1st Qu.: 3.592   1st Qu.:35.23  \n",
       " Median :10.540   Median : 5930   Median :13.600   Median :43.60  \n",
       " Mean   :10.738   Mean   : 6798   Mean   :28.979   Mean   :46.83  \n",
       " 3rd Qu.:12.648   3rd Qu.: 8187   3rd Qu.:52.203   3rd Qu.:59.27  \n",
       " Max.   :15.970   Max.   :25879   Max.   :97.510   Max.   :87.20  \n",
       "     census       type   \n",
       " Min.   :1113   bc  :44  \n",
       " 1st Qu.:3120   prof:31  \n",
       " Median :5135   wc  :23  \n",
       " Mean   :5402   NA's: 4  \n",
       " 3rd Qu.:8312            \n",
       " Max.   :9517            "
      ]
     },
     "metadata": {},
     "output_type": "display_data"
    }
   ],
   "source": [
    "summary(data)"
   ]
  },
  {
   "cell_type": "markdown",
   "id": "9f924879-aed3-45f0-a7dc-4979ef00039f",
   "metadata": {},
   "source": [
    "## Train/Test split"
   ]
  },
  {
   "cell_type": "markdown",
   "id": "d5c96219-fd83-463c-90a2-62e513a2be01",
   "metadata": {},
   "source": [
    "Розділимо загальну вибірку на 2 частини: * тренувальна, 70% вибірки, для побудови регресії; * тестова, 30% вибірки, для перевірки точності моделі."
   ]
  },
  {
   "cell_type": "code",
   "execution_count": 4,
   "id": "efb4e46c-4c7e-4ad0-9e46-a582ba366a64",
   "metadata": {
    "vscode": {
     "languageId": "r"
    }
   },
   "outputs": [
    {
     "name": "stdout",
     "output_type": "stream",
     "text": [
      " [1]  66  37  45  60  17  32  29  11  16  96  62  14  34  26  44  50  89  97   1\n",
      "[20]  75  35  81  28  48  43  58  20  55  99   4   7  52  57  67  25  90  70  49\n",
      "[39]  54  86  65   3  68  84   6  76   9  15  13  94  78  69  92  88   5  53  77\n",
      "[58]  61  74  33  95  19  30  87  56 100  93 102  91  47  73\n"
     ]
    }
   ],
   "source": [
    "set.seed(2024) #довільне число як точка \"відправки\" для генератора випадкових чисел\n",
    "\n",
    "# Згенеруємо набір чисел від 1 до кількості спостережень у вибірці і відберемо випадквоим чином 70% із них\n",
    "train_index <- sample(nrow(data), size = 0.7*nrow(data))\n",
    "\n",
    "#Виведемо індекси (номери рядків) обраних для тренування даних\n",
    "print(train_index)"
   ]
  },
  {
   "cell_type": "code",
   "execution_count": 5,
   "id": "617554c7-a0a4-4aca-a0a8-8f4fa65a2e8d",
   "metadata": {
    "vscode": {
     "languageId": "r"
    }
   },
   "outputs": [
    {
     "data": {
      "text/html": [
       "<table class=\"dataframe\">\n",
       "<caption>A data.frame: 6 × 6</caption>\n",
       "<thead>\n",
       "\t<tr><th></th><th scope=col>education</th><th scope=col>income</th><th scope=col>women</th><th scope=col>prestige</th><th scope=col>census</th><th scope=col>type</th></tr>\n",
       "\t<tr><th></th><th scope=col>&lt;dbl&gt;</th><th scope=col>&lt;int&gt;</th><th scope=col>&lt;dbl&gt;</th><th scope=col>&lt;dbl&gt;</th><th scope=col>&lt;int&gt;</th><th scope=col>&lt;fct&gt;</th></tr>\n",
       "</thead>\n",
       "<tbody>\n",
       "\t<tr><th scope=row>elevator.operators</th><td> 7.58</td><td> 3582</td><td>30.08</td><td>20.1</td><td>6193</td><td>bc  </td></tr>\n",
       "\t<tr><th scope=row>bookkeepers</th><td>11.32</td><td> 4348</td><td>68.24</td><td>49.4</td><td>4131</td><td>wc  </td></tr>\n",
       "\t<tr><th scope=row>telephone.operators</th><td>10.51</td><td> 3161</td><td>96.14</td><td>38.1</td><td>4175</td><td>wc  </td></tr>\n",
       "\t<tr><th scope=row>cooks</th><td> 7.74</td><td> 3116</td><td>52.00</td><td>29.7</td><td>6121</td><td>bc  </td></tr>\n",
       "\t<tr><th scope=row>lawyers</th><td>15.77</td><td>19263</td><td> 5.13</td><td>82.3</td><td>2343</td><td>prof</td></tr>\n",
       "\t<tr><th scope=row>commercial.artists</th><td>11.09</td><td> 6197</td><td>21.03</td><td>57.2</td><td>3314</td><td>prof</td></tr>\n",
       "</tbody>\n",
       "</table>\n"
      ],
      "text/latex": [
       "A data.frame: 6 × 6\n",
       "\\begin{tabular}{r|llllll}\n",
       "  & education & income & women & prestige & census & type\\\\\n",
       "  & <dbl> & <int> & <dbl> & <dbl> & <int> & <fct>\\\\\n",
       "\\hline\n",
       "\televator.operators &  7.58 &  3582 & 30.08 & 20.1 & 6193 & bc  \\\\\n",
       "\tbookkeepers & 11.32 &  4348 & 68.24 & 49.4 & 4131 & wc  \\\\\n",
       "\ttelephone.operators & 10.51 &  3161 & 96.14 & 38.1 & 4175 & wc  \\\\\n",
       "\tcooks &  7.74 &  3116 & 52.00 & 29.7 & 6121 & bc  \\\\\n",
       "\tlawyers & 15.77 & 19263 &  5.13 & 82.3 & 2343 & prof\\\\\n",
       "\tcommercial.artists & 11.09 &  6197 & 21.03 & 57.2 & 3314 & prof\\\\\n",
       "\\end{tabular}\n"
      ],
      "text/markdown": [
       "\n",
       "A data.frame: 6 × 6\n",
       "\n",
       "| <!--/--> | education &lt;dbl&gt; | income &lt;int&gt; | women &lt;dbl&gt; | prestige &lt;dbl&gt; | census &lt;int&gt; | type &lt;fct&gt; |\n",
       "|---|---|---|---|---|---|---|\n",
       "| elevator.operators |  7.58 |  3582 | 30.08 | 20.1 | 6193 | bc   |\n",
       "| bookkeepers | 11.32 |  4348 | 68.24 | 49.4 | 4131 | wc   |\n",
       "| telephone.operators | 10.51 |  3161 | 96.14 | 38.1 | 4175 | wc   |\n",
       "| cooks |  7.74 |  3116 | 52.00 | 29.7 | 6121 | bc   |\n",
       "| lawyers | 15.77 | 19263 |  5.13 | 82.3 | 2343 | prof |\n",
       "| commercial.artists | 11.09 |  6197 | 21.03 | 57.2 | 3314 | prof |\n",
       "\n"
      ],
      "text/plain": [
       "                    education income women prestige census type\n",
       "elevator.operators   7.58      3582  30.08 20.1     6193   bc  \n",
       "bookkeepers         11.32      4348  68.24 49.4     4131   wc  \n",
       "telephone.operators 10.51      3161  96.14 38.1     4175   wc  \n",
       "cooks                7.74      3116  52.00 29.7     6121   bc  \n",
       "lawyers             15.77     19263   5.13 82.3     2343   prof\n",
       "commercial.artists  11.09      6197  21.03 57.2     3314   prof"
      ]
     },
     "metadata": {},
     "output_type": "display_data"
    },
    {
     "data": {
      "text/html": [
       "<table class=\"dataframe\">\n",
       "<caption>A data.frame: 6 × 6</caption>\n",
       "<thead>\n",
       "\t<tr><th></th><th scope=col>education</th><th scope=col>income</th><th scope=col>women</th><th scope=col>prestige</th><th scope=col>census</th><th scope=col>type</th></tr>\n",
       "\t<tr><th></th><th scope=col>&lt;dbl&gt;</th><th scope=col>&lt;int&gt;</th><th scope=col>&lt;dbl&gt;</th><th scope=col>&lt;dbl&gt;</th><th scope=col>&lt;int&gt;</th><th scope=col>&lt;fct&gt;</th></tr>\n",
       "</thead>\n",
       "<tbody>\n",
       "\t<tr><th scope=row>general.managers</th><td>12.26</td><td>25879</td><td> 4.02</td><td>69.1</td><td>1130</td><td>prof</td></tr>\n",
       "\t<tr><th scope=row>architects</th><td>15.44</td><td>14163</td><td> 2.69</td><td>78.1</td><td>2141</td><td>prof</td></tr>\n",
       "\t<tr><th scope=row>mining.engineers</th><td>14.64</td><td>11023</td><td> 0.94</td><td>68.8</td><td>2153</td><td>prof</td></tr>\n",
       "\t<tr><th scope=row>draughtsmen</th><td>12.30</td><td> 7059</td><td> 7.83</td><td>60.0</td><td>2163</td><td>prof</td></tr>\n",
       "\t<tr><th scope=row>librarians</th><td>14.15</td><td> 6112</td><td>77.10</td><td>58.1</td><td>2351</td><td>prof</td></tr>\n",
       "\t<tr><th scope=row>university.teachers</th><td>15.97</td><td>12480</td><td>19.59</td><td>84.6</td><td>2711</td><td>prof</td></tr>\n",
       "</tbody>\n",
       "</table>\n"
      ],
      "text/latex": [
       "A data.frame: 6 × 6\n",
       "\\begin{tabular}{r|llllll}\n",
       "  & education & income & women & prestige & census & type\\\\\n",
       "  & <dbl> & <int> & <dbl> & <dbl> & <int> & <fct>\\\\\n",
       "\\hline\n",
       "\tgeneral.managers & 12.26 & 25879 &  4.02 & 69.1 & 1130 & prof\\\\\n",
       "\tarchitects & 15.44 & 14163 &  2.69 & 78.1 & 2141 & prof\\\\\n",
       "\tmining.engineers & 14.64 & 11023 &  0.94 & 68.8 & 2153 & prof\\\\\n",
       "\tdraughtsmen & 12.30 &  7059 &  7.83 & 60.0 & 2163 & prof\\\\\n",
       "\tlibrarians & 14.15 &  6112 & 77.10 & 58.1 & 2351 & prof\\\\\n",
       "\tuniversity.teachers & 15.97 & 12480 & 19.59 & 84.6 & 2711 & prof\\\\\n",
       "\\end{tabular}\n"
      ],
      "text/markdown": [
       "\n",
       "A data.frame: 6 × 6\n",
       "\n",
       "| <!--/--> | education &lt;dbl&gt; | income &lt;int&gt; | women &lt;dbl&gt; | prestige &lt;dbl&gt; | census &lt;int&gt; | type &lt;fct&gt; |\n",
       "|---|---|---|---|---|---|---|\n",
       "| general.managers | 12.26 | 25879 |  4.02 | 69.1 | 1130 | prof |\n",
       "| architects | 15.44 | 14163 |  2.69 | 78.1 | 2141 | prof |\n",
       "| mining.engineers | 14.64 | 11023 |  0.94 | 68.8 | 2153 | prof |\n",
       "| draughtsmen | 12.30 |  7059 |  7.83 | 60.0 | 2163 | prof |\n",
       "| librarians | 14.15 |  6112 | 77.10 | 58.1 | 2351 | prof |\n",
       "| university.teachers | 15.97 | 12480 | 19.59 | 84.6 | 2711 | prof |\n",
       "\n"
      ],
      "text/plain": [
       "                    education income women prestige census type\n",
       "general.managers    12.26     25879   4.02 69.1     1130   prof\n",
       "architects          15.44     14163   2.69 78.1     2141   prof\n",
       "mining.engineers    14.64     11023   0.94 68.8     2153   prof\n",
       "draughtsmen         12.30      7059   7.83 60.0     2163   prof\n",
       "librarians          14.15      6112  77.10 58.1     2351   prof\n",
       "university.teachers 15.97     12480  19.59 84.6     2711   prof"
      ]
     },
     "metadata": {},
     "output_type": "display_data"
    }
   ],
   "source": [
    "#Запишемо по номерах відібраних рядків тренувальний набір даних\n",
    "train_data <- data[train_index, ]\n",
    "head(train_data)\n",
    "\n",
    "#Всі інші значення, що не увійшли в тренувальну вибірку запишемо у тестову\n",
    "test_data <- data[-train_index, ]\n",
    "head(test_data)"
   ]
  },
  {
   "cell_type": "markdown",
   "id": "21005bed-69db-462d-b333-e0401cfa2007",
   "metadata": {},
   "source": [
    "## Short EDA (Exploratory data analysis)"
   ]
  },
  {
   "cell_type": "markdown",
   "id": "41a352b2-9843-4396-8be8-d535da68137f",
   "metadata": {},
   "source": [
    "### Correlation"
   ]
  },
  {
   "cell_type": "markdown",
   "id": "24ec6cb4-5e2f-48a1-82cf-f8203f536bf1",
   "metadata": {},
   "source": [
    "Переглянемо наявність зв’язків між параметрами за допоомгою матриці попарних кореляцій. Дані на перетині рядків вказують на рівень кореляції між вибраними показниками.\n",
    "\n",
    "Виключимо змінну type, оскільки вона не має числового представлення:"
   ]
  },
  {
   "cell_type": "code",
   "execution_count": 6,
   "id": "b40302fe-6567-4d3b-a459-795710d5e093",
   "metadata": {
    "vscode": {
     "languageId": "r"
    }
   },
   "outputs": [
    {
     "data": {
      "text/html": [
       "<table class=\"dataframe\">\n",
       "<caption>A matrix: 5 × 5 of type dbl</caption>\n",
       "<thead>\n",
       "\t<tr><th></th><th scope=col>education</th><th scope=col>income</th><th scope=col>women</th><th scope=col>prestige</th><th scope=col>census</th></tr>\n",
       "</thead>\n",
       "<tbody>\n",
       "\t<tr><th scope=row>education</th><td> 1.00000000</td><td> 0.6471281</td><td> 0.01920266</td><td> 0.8499264</td><td>-0.8210018</td></tr>\n",
       "\t<tr><th scope=row>income</th><td> 0.64712809</td><td> 1.0000000</td><td>-0.42168807</td><td> 0.7574192</td><td>-0.3482833</td></tr>\n",
       "\t<tr><th scope=row>women</th><td> 0.01920266</td><td>-0.4216881</td><td> 1.00000000</td><td>-0.1376254</td><td>-0.2018702</td></tr>\n",
       "\t<tr><th scope=row>prestige</th><td> 0.84992635</td><td> 0.7574192</td><td>-0.13762539</td><td> 1.0000000</td><td>-0.6285128</td></tr>\n",
       "\t<tr><th scope=row>census</th><td>-0.82100176</td><td>-0.3482833</td><td>-0.20187018</td><td>-0.6285128</td><td> 1.0000000</td></tr>\n",
       "</tbody>\n",
       "</table>\n"
      ],
      "text/latex": [
       "A matrix: 5 × 5 of type dbl\n",
       "\\begin{tabular}{r|lllll}\n",
       "  & education & income & women & prestige & census\\\\\n",
       "\\hline\n",
       "\teducation &  1.00000000 &  0.6471281 &  0.01920266 &  0.8499264 & -0.8210018\\\\\n",
       "\tincome &  0.64712809 &  1.0000000 & -0.42168807 &  0.7574192 & -0.3482833\\\\\n",
       "\twomen &  0.01920266 & -0.4216881 &  1.00000000 & -0.1376254 & -0.2018702\\\\\n",
       "\tprestige &  0.84992635 &  0.7574192 & -0.13762539 &  1.0000000 & -0.6285128\\\\\n",
       "\tcensus & -0.82100176 & -0.3482833 & -0.20187018 & -0.6285128 &  1.0000000\\\\\n",
       "\\end{tabular}\n"
      ],
      "text/markdown": [
       "\n",
       "A matrix: 5 × 5 of type dbl\n",
       "\n",
       "| <!--/--> | education | income | women | prestige | census |\n",
       "|---|---|---|---|---|---|\n",
       "| education |  1.00000000 |  0.6471281 |  0.01920266 |  0.8499264 | -0.8210018 |\n",
       "| income |  0.64712809 |  1.0000000 | -0.42168807 |  0.7574192 | -0.3482833 |\n",
       "| women |  0.01920266 | -0.4216881 |  1.00000000 | -0.1376254 | -0.2018702 |\n",
       "| prestige |  0.84992635 |  0.7574192 | -0.13762539 |  1.0000000 | -0.6285128 |\n",
       "| census | -0.82100176 | -0.3482833 | -0.20187018 | -0.6285128 |  1.0000000 |\n",
       "\n"
      ],
      "text/plain": [
       "          education   income     women       prestige   census    \n",
       "education  1.00000000  0.6471281  0.01920266  0.8499264 -0.8210018\n",
       "income     0.64712809  1.0000000 -0.42168807  0.7574192 -0.3482833\n",
       "women      0.01920266 -0.4216881  1.00000000 -0.1376254 -0.2018702\n",
       "prestige   0.84992635  0.7574192 -0.13762539  1.0000000 -0.6285128\n",
       "census    -0.82100176 -0.3482833 -0.20187018 -0.6285128  1.0000000"
      ]
     },
     "metadata": {},
     "output_type": "display_data"
    }
   ],
   "source": [
    "cor(train_data[ ,-6])"
   ]
  },
  {
   "cell_type": "markdown",
   "id": "ce478310-acb5-49aa-8278-200e552efdd9",
   "metadata": {},
   "source": [
    "Lets view correlation matrix with `corrplot()` function:"
   ]
  },
  {
   "cell_type": "code",
   "execution_count": 7,
   "id": "90c9a384-0a32-498b-8731-0673b979ef2b",
   "metadata": {
    "vscode": {
     "languageId": "r"
    }
   },
   "outputs": [
    {
     "data": {
      "image/png": "[encoded data removed]",
      "text/plain": [
       "Plot with title \"\""
      ]
     },
     "metadata": {
      "image/png": {
       "height": 420,
       "width": 420
      }
     },
     "output_type": "display_data"
    }
   ],
   "source": [
    "suppressMessages(library(corrplot))\n",
    "corrplot(cor(train_data[,-6]) , method = \"number\") "
   ]
  },
  {
   "cell_type": "markdown",
   "id": "af5ef11a-891e-4d32-9ade-a653a514e3b7",
   "metadata": {},
   "source": [
    "You can see hight correlation between `education ~ prestige`, `education ~ census`, `prestige ~ income`."
   ]
  },
  {
   "cell_type": "markdown",
   "id": "483e86f0-9eac-4c9a-9a97-83eb53136e5b",
   "metadata": {},
   "source": [
    "### Visual analysis"
   ]
  },
  {
   "cell_type": "markdown",
   "id": "9ddbfce9-1d3a-4e30-bc0c-d54da677128a",
   "metadata": {},
   "source": [
    "Lets check data distribution of some variables "
   ]
  },
  {
   "cell_type": "markdown",
   "id": "fb08ae5a-7216-4469-9d51-afca2c83af2b",
   "metadata": {},
   "source": [
    "Target/Output variable `prestige`:"
   ]
  },
  {
   "cell_type": "code",
   "execution_count": 8,
   "id": "c83514de-e299-45f5-9ee8-1111d6ef8ccb",
   "metadata": {
    "vscode": {
     "languageId": "r"
    }
   },
   "outputs": [
    {
     "data": {
      "image/png": "[encoded data removed]",
      "text/plain": [
       "plot without title"
      ]
     },
     "metadata": {
      "image/png": {
       "height": 420,
       "width": 420
      }
     },
     "output_type": "display_data"
    }
   ],
   "source": [
    "library(ggplot2)\n",
    "\n",
    "ggplot(train_data, aes(prestige)) + \n",
    "    geom_histogram(bins = 25, alpha = 0.5, fill = 'blue', color='black')  + \n",
    "    theme_bw()"
   ]
  },
  {
   "cell_type": "code",
   "execution_count": 9,
   "id": "bf2f6b49-302e-4780-bdd9-04296812ae64",
   "metadata": {},
   "outputs": [
    {
     "data": {
      "image/png": "[encoded data removed]",
      "text/plain": [
       "plot without title"
      ]
     },
     "metadata": {
      "image/png": {
       "height": 420,
       "width": 420
      }
     },
     "output_type": "display_data"
    }
   ],
   "source": [
    "ggplot(train_data, aes(income)) + \n",
    "    geom_histogram(bins = 25, alpha = 0.5, fill = 'blue', color='black')  + \n",
    "    theme_bw()"
   ]
  },
  {
   "cell_type": "markdown",
   "id": "d1005d69-91a8-4c75-aa18-b3f2b877679d",
   "metadata": {},
   "source": [
    "Input variable `income`:"
   ]
  },
  {
   "cell_type": "code",
   "execution_count": 11,
   "id": "2d39a932-4137-470b-a1f0-551385d83bb5",
   "metadata": {
    "vscode": {
     "languageId": "r"
    }
   },
   "outputs": [
    {
     "data": {
      "image/png": "[encoded data removed]",
      "text/plain": [
       "plot without title"
      ]
     },
     "metadata": {
      "image/png": {
       "height": 420,
       "width": 420
      }
     },
     "output_type": "display_data"
    }
   ],
   "source": [
    "#ggplot(train_data, aes(log(income))) + \n",
    "ggplot(train_data, aes(income)) + \n",
    "    geom_histogram(bins = 25, alpha = 0.5, fill = 'blue', color='black')  + \n",
    "    theme_bw()"
   ]
  },
  {
   "cell_type": "markdown",
   "id": "a5ccb357-bf05-4b5a-bd42-cc08993b9896",
   "metadata": {},
   "source": [
    "Input variable `women`:"
   ]
  },
  {
   "cell_type": "code",
   "execution_count": 10,
   "id": "a2c02dc7-3490-473a-8e3b-83ffec9431fe",
   "metadata": {
    "vscode": {
     "languageId": "r"
    }
   },
   "outputs": [
    {
     "data": {
      "image/png": "[encoded data removed]",
      "text/plain": [
       "plot without title"
      ]
     },
     "metadata": {
      "image/png": {
       "height": 420,
       "width": 420
      }
     },
     "output_type": "display_data"
    }
   ],
   "source": [
    "#ggplot(train_data, aes(log(women))) + \n",
    "ggplot(train_data, aes(women)) + \n",
    "    geom_histogram(bins = 25, alpha = 0.5, fill = 'blue', color='black')  + \n",
    "    theme_bw()"
   ]
  },
  {
   "cell_type": "markdown",
   "id": "8c1d581a-10b8-45e7-b5e3-d7d6567a14ad",
   "metadata": {},
   "source": [
    "---"
   ]
  },
  {
   "cell_type": "markdown",
   "id": "48f9a31e-bdba-443b-99a9-e4d6daf239be",
   "metadata": {},
   "source": [
    "## Model building"
   ]
  },
  {
   "cell_type": "markdown",
   "id": "b4112be5-e002-4829-a9bc-bfabcfcd86c5",
   "metadata": {},
   "source": [
    "Функція `lm()` використовується для побудови лінійної регресії.\n",
    "\n",
    "Syntax: `lm(formula, data = train_data)`\n",
    "\n",
    "`formula` дозволяє вказати на залежність між вхідними та вихідним параметром. У даному випадку `prestige` - залежна змінна (`Y`), а усі, що після знаку `~` - незалежні (`X`).\n"
   ]
  },
  {
   "cell_type": "code",
   "execution_count": 11,
   "id": "4d831bc5-b186-443f-bbe7-98a8ce9d6121",
   "metadata": {
    "vscode": {
     "languageId": "r"
    }
   },
   "outputs": [],
   "source": [
    "lm_mod <- lm(formula = prestige ~ income + education, data = train_data)"
   ]
  },
  {
   "cell_type": "markdown",
   "id": "3c79513a-0de6-4df7-b25f-f5e2d055b917",
   "metadata": {},
   "source": [
    "Для детальнішого опису параметрів побудованої моделі варто скористатися функцією `summary()`:"
   ]
  },
  {
   "cell_type": "code",
   "execution_count": 12,
   "id": "3b0bc497-4f04-4fae-aae4-53ef36511da9",
   "metadata": {
    "vscode": {
     "languageId": "r"
    }
   },
   "outputs": [
    {
     "data": {
      "text/plain": [
       "\n",
       "Call:\n",
       "lm(formula = prestige ~ income + education, data = train_data)\n",
       "\n",
       "Residuals:\n",
       "     Min       1Q   Median       3Q      Max \n",
       "-17.7525  -4.5878   0.4582   4.7086  17.3600 \n",
       "\n",
       "Coefficients:\n",
       "              Estimate Std. Error t value Pr(>|t|)    \n",
       "(Intercept) -5.6264724  3.7225239  -1.511    0.135    \n",
       "income       0.0017458  0.0003512   4.972 4.76e-06 ***\n",
       "education    3.8021103  0.4408681   8.624 1.61e-12 ***\n",
       "---\n",
       "Signif. codes:  0 '***' 0.001 '**' 0.01 '*' 0.05 '.' 0.1 ' ' 1\n",
       "\n",
       "Residual standard error: 7.762 on 68 degrees of freedom\n",
       "Multiple R-squared:  0.7964,\tAdjusted R-squared:  0.7904 \n",
       "F-statistic:   133 on 2 and 68 DF,  p-value: < 2.2e-16\n"
      ]
     },
     "metadata": {},
     "output_type": "display_data"
    }
   ],
   "source": [
    "summary(lm_mod)"
   ]
  },
  {
   "cell_type": "markdown",
   "id": "982832dc-e428-433d-9aae-c82e89f75f5c",
   "metadata": {},
   "source": [
    "---"
   ]
  },
  {
   "cell_type": "markdown",
   "id": "b4bb76a1-2ad1-4860-8d29-b01bd232a332",
   "metadata": {},
   "source": [
    "### Demo task: generating final formula for regression"
   ]
  },
  {
   "cell_type": "markdown",
   "id": "d83ce4ae-4d19-4911-a3d6-a977f534d6ee",
   "metadata": {},
   "source": [
    "Спробуємо створити рядковий вигляд для побудованої регресії (шляхом звичайного “склеювання” рядків). Це завдання для закріплення знань з алгоритмічного програмування в R."
   ]
  },
  {
   "cell_type": "code",
   "execution_count": 13,
   "id": "6faba79a-7908-44ad-9aaf-0817a15f1f67",
   "metadata": {
    "vscode": {
     "languageId": "r"
    }
   },
   "outputs": [
    {
     "data": {
      "text/html": [
       "<style>\n",
       ".dl-inline {width: auto; margin:0; padding: 0}\n",
       ".dl-inline>dt, .dl-inline>dd {float: none; width: auto; display: inline-block}\n",
       ".dl-inline>dt::after {content: \":\\0020\"; padding-right: .5ex}\n",
       ".dl-inline>dt:not(:first-of-type) {padding-left: .5ex}\n",
       "</style><dl class=dl-inline><dt>(Intercept)</dt><dd>-5.62647244394698</dd><dt>income</dt><dd>0.00174582062794041</dd><dt>education</dt><dd>3.80211025800127</dd></dl>\n"
      ],
      "text/latex": [
       "\\begin{description*}\n",
       "\\item[(Intercept)] -5.62647244394698\n",
       "\\item[income] 0.00174582062794041\n",
       "\\item[education] 3.80211025800127\n",
       "\\end{description*}\n"
      ],
      "text/markdown": [
       "(Intercept)\n",
       ":   -5.62647244394698income\n",
       ":   0.00174582062794041education\n",
       ":   3.80211025800127\n",
       "\n"
      ],
      "text/plain": [
       " (Intercept)       income    education \n",
       "-5.626472444  0.001745821  3.802110258 "
      ]
     },
     "metadata": {},
     "output_type": "display_data"
    }
   ],
   "source": [
    "lm_mod$coefficients # coefficients of the model"
   ]
  },
  {
   "cell_type": "code",
   "execution_count": 14,
   "id": "a92a6f9c-785c-4bfd-881c-572ec0e41352",
   "metadata": {
    "vscode": {
     "languageId": "r"
    }
   },
   "outputs": [],
   "source": [
    "getLmFormula <- function(lm_model) {\n",
    "  \n",
    "  str_formula <- paste(lm_model$terms[[2]], \" = \", sep=\"\")\n",
    "  str_formula <- paste(str_formula, + round(lm_model$coefficients[1], 4), sep=\" \")\n",
    "  \n",
    "  for(i in 2:length(lm_mod$coefficients)) {\n",
    "    \n",
    "    znak <- \"+\"\n",
    "    if(lm_model$coefficients[i] < 0)\n",
    "      znak <- \"-\"\n",
    "    str_formula <- paste(str_formula, \" \", znak, \" \", round(lm_mod$coefficients[i], 4), \"*\", names(lm_mod$coefficients)[i] ,sep = \"\")\n",
    "  }\n",
    "  \n",
    "  return(str_formula)\n",
    "}"
   ]
  },
  {
   "cell_type": "markdown",
   "id": "54a6edf6-7534-4b83-9654-b48c6f39d7ec",
   "metadata": {},
   "source": [
    "Тоді формулу можна отримати наступним чином:"
   ]
  },
  {
   "cell_type": "code",
   "execution_count": 15,
   "id": "f537ba22-44d5-49e2-9b6a-4ada15ca90aa",
   "metadata": {
    "vscode": {
     "languageId": "r"
    }
   },
   "outputs": [
    {
     "name": "stdout",
     "output_type": "stream",
     "text": [
      "[1] \"prestige =  -5.6265 + 0.0017*income + 3.8021*education\"\n"
     ]
    }
   ],
   "source": [
    "str_formula <- getLmFormula(lm_mod)\n",
    "print(str_formula)"
   ]
  },
  {
   "cell_type": "markdown",
   "id": "291d3f26-c6e6-46e0-9bac-f883a550e7bd",
   "metadata": {},
   "source": [
    "END OF DEMO TASK"
   ]
  },
  {
   "cell_type": "markdown",
   "id": "c2399d0a-821f-4c66-ac7b-b326017c5493",
   "metadata": {},
   "source": [
    "---"
   ]
  },
  {
   "cell_type": "markdown",
   "id": "f9cb8cfb-f1c2-40df-b19f-bf53d1b796f8",
   "metadata": {},
   "source": [
    "One more way to preview model info is using package `broom` and function `tidy()`:"
   ]
  },
  {
   "cell_type": "code",
   "execution_count": 16,
   "id": "62f362fa-7a31-46bc-a381-c93d548f1520",
   "metadata": {
    "vscode": {
     "languageId": "r"
    }
   },
   "outputs": [
    {
     "data": {
      "text/html": [
       "<table class=\"dataframe\">\n",
       "<caption>A tibble: 3 × 5</caption>\n",
       "<thead>\n",
       "\t<tr><th scope=col>term</th><th scope=col>estimate</th><th scope=col>std.error</th><th scope=col>statistic</th><th scope=col>p.value</th></tr>\n",
       "\t<tr><th scope=col>&lt;chr&gt;</th><th scope=col>&lt;dbl&gt;</th><th scope=col>&lt;dbl&gt;</th><th scope=col>&lt;dbl&gt;</th><th scope=col>&lt;dbl&gt;</th></tr>\n",
       "</thead>\n",
       "<tbody>\n",
       "\t<tr><td>(Intercept)</td><td>-5.626472444</td><td>3.7225238885</td><td>-1.511467</td><td>1.353030e-01</td></tr>\n",
       "\t<tr><td>income     </td><td> 0.001745821</td><td>0.0003511511</td><td> 4.971708</td><td>4.755821e-06</td></tr>\n",
       "\t<tr><td>education  </td><td> 3.802110258</td><td>0.4408681395</td><td> 8.624144</td><td>1.614563e-12</td></tr>\n",
       "</tbody>\n",
       "</table>\n"
      ],
      "text/latex": [
       "A tibble: 3 × 5\n",
       "\\begin{tabular}{lllll}\n",
       " term & estimate & std.error & statistic & p.value\\\\\n",
       " <chr> & <dbl> & <dbl> & <dbl> & <dbl>\\\\\n",
       "\\hline\n",
       "\t (Intercept) & -5.626472444 & 3.7225238885 & -1.511467 & 1.353030e-01\\\\\n",
       "\t income      &  0.001745821 & 0.0003511511 &  4.971708 & 4.755821e-06\\\\\n",
       "\t education   &  3.802110258 & 0.4408681395 &  8.624144 & 1.614563e-12\\\\\n",
       "\\end{tabular}\n"
      ],
      "text/markdown": [
       "\n",
       "A tibble: 3 × 5\n",
       "\n",
       "| term &lt;chr&gt; | estimate &lt;dbl&gt; | std.error &lt;dbl&gt; | statistic &lt;dbl&gt; | p.value &lt;dbl&gt; |\n",
       "|---|---|---|---|---|\n",
       "| (Intercept) | -5.626472444 | 3.7225238885 | -1.511467 | 1.353030e-01 |\n",
       "| income      |  0.001745821 | 0.0003511511 |  4.971708 | 4.755821e-06 |\n",
       "| education   |  3.802110258 | 0.4408681395 |  8.624144 | 1.614563e-12 |\n",
       "\n"
      ],
      "text/plain": [
       "  term        estimate     std.error    statistic p.value     \n",
       "1 (Intercept) -5.626472444 3.7225238885 -1.511467 1.353030e-01\n",
       "2 income       0.001745821 0.0003511511  4.971708 4.755821e-06\n",
       "3 education    3.802110258 0.4408681395  8.624144 1.614563e-12"
      ]
     },
     "metadata": {},
     "output_type": "display_data"
    }
   ],
   "source": [
    "#install.packages(\"broom\")\n",
    "library(broom)\n",
    "\n",
    "lm_mod_view <- tidy(lm_mod)\n",
    "lm_mod_view"
   ]
  },
  {
   "cell_type": "markdown",
   "id": "79c77b6b-9532-4fba-b04a-c603a2601a11",
   "metadata": {},
   "source": [
    "### Зміна форми залежності"
   ]
  },
  {
   "cell_type": "markdown",
   "id": "a69c567c-a39b-4e3a-8507-b8c0a4b3aa41",
   "metadata": {},
   "source": [
    "Спробуємо змінити форму залежності і побудуємо модель на основі трансформованих показників. Скористаємося логарифмуванням незалежних змінних:"
   ]
  },
  {
   "cell_type": "code",
   "execution_count": 17,
   "id": "e495b428-fe6b-44ce-919e-ecf4195f78a3",
   "metadata": {
    "vscode": {
     "languageId": "r"
    }
   },
   "outputs": [
    {
     "data": {
      "text/plain": [
       "\n",
       "Call:\n",
       "lm(formula = prestige ~ log(income) + log(education), data = train_data)\n",
       "\n",
       "Residuals:\n",
       "    Min      1Q  Median      3Q     Max \n",
       "-15.633  -5.746   0.257   4.155  19.322 \n",
       "\n",
       "Coefficients:\n",
       "               Estimate Std. Error t value Pr(>|t|)    \n",
       "(Intercept)    -160.578     13.909 -11.545  < 2e-16 ***\n",
       "log(income)      13.915      1.963   7.089 9.82e-10 ***\n",
       "log(education)   37.051      4.076   9.091 2.31e-13 ***\n",
       "---\n",
       "Signif. codes:  0 '***' 0.001 '**' 0.01 '*' 0.05 '.' 0.1 ' ' 1\n",
       "\n",
       "Residual standard error: 7.278 on 68 degrees of freedom\n",
       "Multiple R-squared:  0.821,\tAdjusted R-squared:  0.8157 \n",
       "F-statistic: 155.9 on 2 and 68 DF,  p-value: < 2.2e-16\n"
      ]
     },
     "metadata": {},
     "output_type": "display_data"
    }
   ],
   "source": [
    "lm_mod2 <- lm(formula = prestige ~ log(income) + log(education), data = train_data)\n",
    "summary(lm_mod2)"
   ]
  },
  {
   "cell_type": "markdown",
   "id": "f3db5ba7-e427-4364-8649-077b8d864492",
   "metadata": {},
   "source": [
    "$R^2$ зріс. Тобто зміна форми залежності може впливати на якість моделі. \n",
    "\n",
    "Alert! Its depends on our `seed` parameter, because of changing train and test sets."
   ]
  },
  {
   "cell_type": "markdown",
   "id": "6b2cf8a9-6b9e-43a2-b5e1-aa6a52ed3938",
   "metadata": {},
   "source": [
    "Повернемося до попередньої моделі:"
   ]
  },
  {
   "cell_type": "code",
   "execution_count": 18,
   "id": "1af5aeb6-262e-4650-ac55-aa298c877cad",
   "metadata": {
    "vscode": {
     "languageId": "r"
    }
   },
   "outputs": [],
   "source": [
    "lm_mod <- lm(formula = prestige ~ income + education, data = train_data)"
   ]
  },
  {
   "cell_type": "markdown",
   "id": "c6afc77a-9b58-42c9-bc3a-0b9ec43de7d8",
   "metadata": {},
   "source": [
    "Переглянемо графік реальних даних, прогнозованих та похибок. Для початку створимо тимчасовий data.frame для генерації графіка зі значень"
   ]
  },
  {
   "cell_type": "markdown",
   "id": "4fd1525f-c420-4ce4-b2fb-5f36ecbedf34",
   "metadata": {},
   "source": [
    "\n",
    "- [x] фактори; \n",
    "- [x] реальні значення; \n",
    "- [x] прогнозовані значення; \n",
    "- [x] похибки.\n",
    "\n",
    "Увага! Даний графік будуватимемо на тренувальній вибірці!"
   ]
  },
  {
   "cell_type": "code",
   "execution_count": 19,
   "id": "2fc88aaf-7299-421e-8434-884a6ad94dfe",
   "metadata": {
    "vscode": {
     "languageId": "r"
    }
   },
   "outputs": [],
   "source": [
    "# data frame for storing data\n",
    "tmp_data <- data.frame(education = train_data$education,\n",
    "                       income = train_data$income,\n",
    "                       prestige = train_data$prestige,\n",
    "                       predicted = lm_mod$fitted.values,\n",
    "                       residuals = lm_mod$residuals) "
   ]
  },
  {
   "cell_type": "code",
   "execution_count": 20,
   "id": "6f964992-b35b-4b3d-9619-3d0dec841125",
   "metadata": {},
   "outputs": [
    {
     "data": {
      "text/html": [
       "<table class=\"dataframe\">\n",
       "<caption>A data.frame: 6 × 5</caption>\n",
       "<thead>\n",
       "\t<tr><th></th><th scope=col>education</th><th scope=col>income</th><th scope=col>prestige</th><th scope=col>predicted</th><th scope=col>residuals</th></tr>\n",
       "\t<tr><th></th><th scope=col>&lt;dbl&gt;</th><th scope=col>&lt;int&gt;</th><th scope=col>&lt;dbl&gt;</th><th scope=col>&lt;dbl&gt;</th><th scope=col>&lt;dbl&gt;</th></tr>\n",
       "</thead>\n",
       "<tbody>\n",
       "\t<tr><th scope=row>elevator.operators</th><td> 7.58</td><td> 3582</td><td>20.1</td><td>29.44705</td><td>-9.347053</td></tr>\n",
       "\t<tr><th scope=row>bookkeepers</th><td>11.32</td><td> 4348</td><td>49.4</td><td>45.00424</td><td> 4.395756</td></tr>\n",
       "\t<tr><th scope=row>telephone.operators</th><td>10.51</td><td> 3161</td><td>38.1</td><td>39.85225</td><td>-1.752245</td></tr>\n",
       "\t<tr><th scope=row>cooks</th><td> 7.74</td><td> 3116</td><td>29.7</td><td>29.24184</td><td> 0.458162</td></tr>\n",
       "\t<tr><th scope=row>lawyers</th><td>15.77</td><td>19263</td><td>82.3</td><td>87.96255</td><td>-5.662549</td></tr>\n",
       "\t<tr><th scope=row>commercial.artists</th><td>11.09</td><td> 6197</td><td>57.2</td><td>47.35778</td><td> 9.842219</td></tr>\n",
       "</tbody>\n",
       "</table>\n"
      ],
      "text/latex": [
       "A data.frame: 6 × 5\n",
       "\\begin{tabular}{r|lllll}\n",
       "  & education & income & prestige & predicted & residuals\\\\\n",
       "  & <dbl> & <int> & <dbl> & <dbl> & <dbl>\\\\\n",
       "\\hline\n",
       "\televator.operators &  7.58 &  3582 & 20.1 & 29.44705 & -9.347053\\\\\n",
       "\tbookkeepers & 11.32 &  4348 & 49.4 & 45.00424 &  4.395756\\\\\n",
       "\ttelephone.operators & 10.51 &  3161 & 38.1 & 39.85225 & -1.752245\\\\\n",
       "\tcooks &  7.74 &  3116 & 29.7 & 29.24184 &  0.458162\\\\\n",
       "\tlawyers & 15.77 & 19263 & 82.3 & 87.96255 & -5.662549\\\\\n",
       "\tcommercial.artists & 11.09 &  6197 & 57.2 & 47.35778 &  9.842219\\\\\n",
       "\\end{tabular}\n"
      ],
      "text/markdown": [
       "\n",
       "A data.frame: 6 × 5\n",
       "\n",
       "| <!--/--> | education &lt;dbl&gt; | income &lt;int&gt; | prestige &lt;dbl&gt; | predicted &lt;dbl&gt; | residuals &lt;dbl&gt; |\n",
       "|---|---|---|---|---|---|\n",
       "| elevator.operators |  7.58 |  3582 | 20.1 | 29.44705 | -9.347053 |\n",
       "| bookkeepers | 11.32 |  4348 | 49.4 | 45.00424 |  4.395756 |\n",
       "| telephone.operators | 10.51 |  3161 | 38.1 | 39.85225 | -1.752245 |\n",
       "| cooks |  7.74 |  3116 | 29.7 | 29.24184 |  0.458162 |\n",
       "| lawyers | 15.77 | 19263 | 82.3 | 87.96255 | -5.662549 |\n",
       "| commercial.artists | 11.09 |  6197 | 57.2 | 47.35778 |  9.842219 |\n",
       "\n"
      ],
      "text/plain": [
       "                    education income prestige predicted residuals\n",
       "elevator.operators   7.58      3582  20.1     29.44705  -9.347053\n",
       "bookkeepers         11.32      4348  49.4     45.00424   4.395756\n",
       "telephone.operators 10.51      3161  38.1     39.85225  -1.752245\n",
       "cooks                7.74      3116  29.7     29.24184   0.458162\n",
       "lawyers             15.77     19263  82.3     87.96255  -5.662549\n",
       "commercial.artists  11.09      6197  57.2     47.35778   9.842219"
      ]
     },
     "metadata": {},
     "output_type": "display_data"
    }
   ],
   "source": [
    "head(tmp_data)"
   ]
  },
  {
   "cell_type": "markdown",
   "id": "4618388d-ce2d-4e21-8744-f9d79cba51a5",
   "metadata": {},
   "source": [
    "Переглянемо залежності між параметрами моделі:"
   ]
  },
  {
   "cell_type": "code",
   "execution_count": 21,
   "id": "307b2899-3ee0-4374-b16b-aefa6f08a96e",
   "metadata": {
    "vscode": {
     "languageId": "r"
    }
   },
   "outputs": [
    {
     "data": {
      "image/png": "[encoded data removed]",
      "text/plain": [
       "plot without title"
      ]
     },
     "metadata": {
      "image/png": {
       "height": 420,
       "width": 420
      }
     },
     "output_type": "display_data"
    }
   ],
   "source": [
    "# prestige vs education\n",
    "ggplot(tmp_data, aes(x = education, y = prestige)) +\n",
    "  geom_segment(aes(xend = education, yend = predicted), alpha = .2) +\n",
    "  geom_point(aes(), color = 'blue') +\n",
    "  #scale_color_gradient2(low = \"blue\", mid = \"white\", high = \"red\") +\n",
    "  #guides(color = FALSE) +\n",
    "  geom_point(aes(y = predicted), shape = 2) +\n",
    "  theme_bw()"
   ]
  },
  {
   "cell_type": "code",
   "execution_count": 22,
   "id": "c5eae8b0-c91c-42fd-a949-a2f73644c44c",
   "metadata": {
    "vscode": {
     "languageId": "r"
    }
   },
   "outputs": [
    {
     "name": "stderr",
     "output_type": "stream",
     "text": [
      "Warning message:\n",
      "\"`guides(<scale> = FALSE)` is deprecated. Please use `guides(<scale> = \"none\")` instead.\"\n"
     ]
    },
    {
     "data": {
      "image/png": "[encoded data removed]",
      "text/plain": [
       "plot without title"
      ]
     },
     "metadata": {
      "image/png": {
       "height": 420,
       "width": 420
      }
     },
     "output_type": "display_data"
    }
   ],
   "source": [
    "# prestige vs income\n",
    "ggplot(tmp_data, aes(x = income, y = prestige)) +\n",
    "  geom_segment(aes(xend = income, yend = predicted), alpha = .2) +\n",
    "  geom_point(aes(color = residuals)) +\n",
    "  scale_color_gradient2(low = \"blue\", mid = \"white\", high = \"red\") +\n",
    "  guides(color = FALSE) +\n",
    "  geom_point(aes(y = predicted), shape = 2) +\n",
    "  theme_bw()\n"
   ]
  },
  {
   "cell_type": "markdown",
   "id": "ef28984e-d633-40a2-8b44-ef358708986c",
   "metadata": {},
   "source": [
    "## Prediction on test data and accuracy"
   ]
  },
  {
   "cell_type": "markdown",
   "id": "fc151952-6df1-4995-bf50-2be857cb2f57",
   "metadata": {},
   "source": [
    "Здійснимо прогноз за допомогою функції `predict()`."
   ]
  },
  {
   "cell_type": "code",
   "execution_count": 24,
   "id": "d4cf5a6c-03f5-4677-b026-3f06ce8afc02",
   "metadata": {
    "vscode": {
     "languageId": "r"
    }
   },
   "outputs": [
    {
     "data": {
      "text/plain": [
       "   Min. 1st Qu.  Median    Mean 3rd Qu.    Max. \n",
       "  27.48   36.18   45.12   49.41   54.74   99.24 "
      ]
     },
     "metadata": {},
     "output_type": "display_data"
    },
    {
     "data": {
      "text/html": [
       "<table class=\"dataframe\">\n",
       "<caption>A data.frame: 6 × 1</caption>\n",
       "<thead>\n",
       "\t<tr><th></th><th scope=col>sort(test_predicted) %&gt;% head()</th></tr>\n",
       "\t<tr><th></th><th scope=col>&lt;dbl&gt;</th></tr>\n",
       "</thead>\n",
       "<tbody>\n",
       "\t<tr><th scope=row>launderers</th><td>27.48046</td></tr>\n",
       "\t<tr><th scope=row>babysitters</th><td>31.40819</td></tr>\n",
       "\t<tr><th scope=row>slaughterers.1</th><td>32.38469</td></tr>\n",
       "\t<tr><th scope=row>slaughterers.2</th><td>32.38469</td></tr>\n",
       "\t<tr><th scope=row>bus.drivers</th><td>32.90378</td></tr>\n",
       "\t<tr><th scope=row>electronic.workers</th><td>34.56204</td></tr>\n",
       "</tbody>\n",
       "</table>\n"
      ],
      "text/latex": [
       "A data.frame: 6 × 1\n",
       "\\begin{tabular}{r|l}\n",
       "  & sort(test\\_predicted) \\%>\\% head()\\\\\n",
       "  & <dbl>\\\\\n",
       "\\hline\n",
       "\tlaunderers & 27.48046\\\\\n",
       "\tbabysitters & 31.40819\\\\\n",
       "\tslaughterers.1 & 32.38469\\\\\n",
       "\tslaughterers.2 & 32.38469\\\\\n",
       "\tbus.drivers & 32.90378\\\\\n",
       "\telectronic.workers & 34.56204\\\\\n",
       "\\end{tabular}\n"
      ],
      "text/markdown": [
       "\n",
       "A data.frame: 6 × 1\n",
       "\n",
       "| <!--/--> | sort(test_predicted) %&gt;% head() &lt;dbl&gt; |\n",
       "|---|---|\n",
       "| launderers | 27.48046 |\n",
       "| babysitters | 31.40819 |\n",
       "| slaughterers.1 | 32.38469 |\n",
       "| slaughterers.2 | 32.38469 |\n",
       "| bus.drivers | 32.90378 |\n",
       "| electronic.workers | 34.56204 |\n",
       "\n"
      ],
      "text/plain": [
       "                   sort(test_predicted) %>% head()\n",
       "launderers         27.48046                       \n",
       "babysitters        31.40819                       \n",
       "slaughterers.1     32.38469                       \n",
       "slaughterers.2     32.38469                       \n",
       "bus.drivers        32.90378                       \n",
       "electronic.workers 34.56204                       "
      ]
     },
     "metadata": {},
     "output_type": "display_data"
    }
   ],
   "source": [
    "suppressMessages(library(dplyr))\n",
    "\n",
    "test_predicted <- predict(lm_mod, test_data)\n",
    "\n",
    "summary(test_predicted)\n",
    "as.data.frame(sort(test_predicted) %>% head())"
   ]
  },
  {
   "cell_type": "markdown",
   "id": "fdceeadd-9e88-4a0b-a94e-43a600735f3a",
   "metadata": {},
   "source": [
    "`MSE` (`Mean Squared Error`) – середньоквадратичне відхилення; середнє значення квадратів відхилень прогнозованих даних від реальних."
   ]
  },
  {
   "cell_type": "code",
   "execution_count": 25,
   "id": "cde6baf3-4660-403e-bc61-b4e7996cb22f",
   "metadata": {
    "vscode": {
     "languageId": "r"
    }
   },
   "outputs": [
    {
     "data": {
      "text/html": [
       "68.6052813341608"
      ],
      "text/latex": [
       "68.6052813341608"
      ],
      "text/markdown": [
       "68.6052813341608"
      ],
      "text/plain": [
       "[1] 68.60528"
      ]
     },
     "metadata": {},
     "output_type": "display_data"
    }
   ],
   "source": [
    "mse <- mean((test_data$prestige - test_predicted)^2)\n",
    "mse"
   ]
  },
  {
   "cell_type": "markdown",
   "id": "1c4e5d38-5ba3-4933-8eb9-0fda7fe5528b",
   "metadata": {},
   "source": [
    "`MAPE`. `MAPE (Mean Absolute Percentage Error)` – середнє абсолютне відхилення прогнозованого показника від реального:"
   ]
  },
  {
   "cell_type": "code",
   "execution_count": 26,
   "id": "1b17f0ed-fa40-4ff6-a5c8-4085e57dcc55",
   "metadata": {
    "vscode": {
     "languageId": "r"
    }
   },
   "outputs": [
    {
     "data": {
      "text/html": [
       "0.146355318914504"
      ],
      "text/latex": [
       "0.146355318914504"
      ],
      "text/markdown": [
       "0.146355318914504"
      ],
      "text/plain": [
       "[1] 0.1463553"
      ]
     },
     "metadata": {},
     "output_type": "display_data"
    }
   ],
   "source": [
    "mape <- mean(abs(test_data$prestige - test_predicted)/test_data$prestige)\n",
    "mape"
   ]
  },
  {
   "cell_type": "markdown",
   "id": "4d25b04a-e71c-4254-ace2-62ece8984dfb",
   "metadata": {},
   "source": [
    "Обчислимо метрики моделі за допомогою пакету `modelr` та функцій з нього:"
   ]
  },
  {
   "cell_type": "code",
   "execution_count": 27,
   "id": "881518e2-e1c5-4903-a26f-9d192d076cba",
   "metadata": {
    "vscode": {
     "languageId": "r"
    }
   },
   "outputs": [
    {
     "data": {
      "text/html": [
       "<table class=\"dataframe\">\n",
       "<caption>A data.frame: 1 × 5</caption>\n",
       "<thead>\n",
       "\t<tr><th scope=col>R2</th><th scope=col>MSE</th><th scope=col>RMSE</th><th scope=col>MAE</th><th scope=col>MAPE</th></tr>\n",
       "\t<tr><th scope=col>&lt;dbl&gt;</th><th scope=col>&lt;dbl&gt;</th><th scope=col>&lt;dbl&gt;</th><th scope=col>&lt;dbl&gt;</th><th scope=col>&lt;dbl&gt;</th></tr>\n",
       "</thead>\n",
       "<tbody>\n",
       "\t<tr><td>0.7963876</td><td>57.70915</td><td>7.596654</td><td>6.158673</td><td>0.1656009</td></tr>\n",
       "</tbody>\n",
       "</table>\n"
      ],
      "text/latex": [
       "A data.frame: 1 × 5\n",
       "\\begin{tabular}{lllll}\n",
       " R2 & MSE & RMSE & MAE & MAPE\\\\\n",
       " <dbl> & <dbl> & <dbl> & <dbl> & <dbl>\\\\\n",
       "\\hline\n",
       "\t 0.7963876 & 57.70915 & 7.596654 & 6.158673 & 0.1656009\\\\\n",
       "\\end{tabular}\n"
      ],
      "text/markdown": [
       "\n",
       "A data.frame: 1 × 5\n",
       "\n",
       "| R2 &lt;dbl&gt; | MSE &lt;dbl&gt; | RMSE &lt;dbl&gt; | MAE &lt;dbl&gt; | MAPE &lt;dbl&gt; |\n",
       "|---|---|---|---|---|\n",
       "| 0.7963876 | 57.70915 | 7.596654 | 6.158673 | 0.1656009 |\n",
       "\n"
      ],
      "text/plain": [
       "  R2        MSE      RMSE     MAE      MAPE     \n",
       "1 0.7963876 57.70915 7.596654 6.158673 0.1656009"
      ]
     },
     "metadata": {},
     "output_type": "display_data"
    },
    {
     "data": {
      "text/html": [
       "<table class=\"dataframe\">\n",
       "<caption>A data.frame: 1 × 5</caption>\n",
       "<thead>\n",
       "\t<tr><th scope=col>R2</th><th scope=col>MSE</th><th scope=col>RMSE</th><th scope=col>MAE</th><th scope=col>MAPE</th></tr>\n",
       "\t<tr><th scope=col>&lt;dbl&gt;</th><th scope=col>&lt;dbl&gt;</th><th scope=col>&lt;dbl&gt;</th><th scope=col>&lt;dbl&gt;</th><th scope=col>&lt;dbl&gt;</th></tr>\n",
       "</thead>\n",
       "<tbody>\n",
       "\t<tr><td>0.7810138</td><td>68.60528</td><td>8.282831</td><td>6.27346</td><td>0.1463553</td></tr>\n",
       "</tbody>\n",
       "</table>\n"
      ],
      "text/latex": [
       "A data.frame: 1 × 5\n",
       "\\begin{tabular}{lllll}\n",
       " R2 & MSE & RMSE & MAE & MAPE\\\\\n",
       " <dbl> & <dbl> & <dbl> & <dbl> & <dbl>\\\\\n",
       "\\hline\n",
       "\t 0.7810138 & 68.60528 & 8.282831 & 6.27346 & 0.1463553\\\\\n",
       "\\end{tabular}\n"
      ],
      "text/markdown": [
       "\n",
       "A data.frame: 1 × 5\n",
       "\n",
       "| R2 &lt;dbl&gt; | MSE &lt;dbl&gt; | RMSE &lt;dbl&gt; | MAE &lt;dbl&gt; | MAPE &lt;dbl&gt; |\n",
       "|---|---|---|---|---|\n",
       "| 0.7810138 | 68.60528 | 8.282831 | 6.27346 | 0.1463553 |\n",
       "\n"
      ],
      "text/plain": [
       "  R2        MSE      RMSE     MAE     MAPE     \n",
       "1 0.7810138 68.60528 8.282831 6.27346 0.1463553"
      ]
     },
     "metadata": {},
     "output_type": "display_data"
    }
   ],
   "source": [
    "suppressMessages(library(modelr))\n",
    "data.frame(\n",
    "  R2 = rsquare(lm_mod, data = train_data),\n",
    "  MSE = mse(lm_mod, data = train_data),\n",
    "  RMSE = rmse(lm_mod, data = train_data),\n",
    "  MAE = mae(lm_mod, data = train_data),\n",
    "  MAPE = mape(lm_mod, data = train_data)\n",
    ")\n",
    "\n",
    "data.frame(\n",
    "  R2 = rsquare(lm_mod, data = test_data),\n",
    "  MSE = mse(lm_mod, data = test_data),\n",
    "  RMSE = rmse(lm_mod, data = test_data),\n",
    "  MAE = mae(lm_mod, data = test_data),\n",
    "  MAPE = mape(lm_mod, data = test_data)\n",
    ")"
   ]
  },
  {
   "cell_type": "markdown",
   "id": "f0f8b9ae-c503-4b3a-8a84-31bac5882622",
   "metadata": {},
   "source": [
    "Mae - Mean Absolute Error. \n",
    "Rmse - Root mean squared error. Детальніше: https://medium.com/human-in-a-machine-world/mae-and-rmse-which-metric-is-better-e60ac3bde13d."
   ]
  },
  {
   "cell_type": "markdown",
   "id": "17ac768b-d189-45e6-91f1-0e86e085c170",
   "metadata": {},
   "source": [
    "### Перевірка на мультиколінераність"
   ]
  },
  {
   "cell_type": "markdown",
   "id": "31fb398e-4117-4b91-a5cc-33fa215257a3",
   "metadata": {},
   "source": [
    "Зафіксуємо значення R^2 для моделі у деякій змінній:"
   ]
  },
  {
   "cell_type": "code",
   "execution_count": 28,
   "id": "8170851c-efb8-4108-ac11-49be2ed95e1e",
   "metadata": {
    "vscode": {
     "languageId": "r"
    }
   },
   "outputs": [
    {
     "data": {
      "text/html": [
       "0.781013785881976"
      ],
      "text/latex": [
       "0.781013785881976"
      ],
      "text/markdown": [
       "0.781013785881976"
      ],
      "text/plain": [
       "[1] 0.7810138"
      ]
     },
     "metadata": {},
     "output_type": "display_data"
    }
   ],
   "source": [
    "r_sq = rsquare(lm_mod, data = test_data)\n",
    "r_sq "
   ]
  },
  {
   "cell_type": "code",
   "execution_count": 29,
   "id": "56b94e49-399e-4cde-b460-c1ea76b9793a",
   "metadata": {
    "vscode": {
     "languageId": "r"
    }
   },
   "outputs": [],
   "source": [
    "suppressMessages(library(car))"
   ]
  },
  {
   "cell_type": "code",
   "execution_count": 30,
   "id": "20ea266c-8f87-4ba9-84f2-1ecccbeccf4d",
   "metadata": {
    "vscode": {
     "languageId": "r"
    }
   },
   "outputs": [
    {
     "data": {
      "text/html": [
       "<style>\n",
       ".dl-inline {width: auto; margin:0; padding: 0}\n",
       ".dl-inline>dt, .dl-inline>dd {float: none; width: auto; display: inline-block}\n",
       ".dl-inline>dt::after {content: \":\\0020\"; padding-right: .5ex}\n",
       ".dl-inline>dt:not(:first-of-type) {padding-left: .5ex}\n",
       "</style><dl class=dl-inline><dt>income</dt><dd>1.72050342610155</dd><dt>education</dt><dd>1.72050342610155</dd></dl>\n"
      ],
      "text/latex": [
       "\\begin{description*}\n",
       "\\item[income] 1.72050342610155\n",
       "\\item[education] 1.72050342610155\n",
       "\\end{description*}\n"
      ],
      "text/markdown": [
       "income\n",
       ":   1.72050342610155education\n",
       ":   1.72050342610155\n",
       "\n"
      ],
      "text/plain": [
       "   income education \n",
       " 1.720503  1.720503 "
      ]
     },
     "metadata": {},
     "output_type": "display_data"
    }
   ],
   "source": [
    "vif(lm_mod)"
   ]
  },
  {
   "cell_type": "markdown",
   "id": "facbc680-4ba4-46a6-9dd4-7e30a4b7bbc9",
   "metadata": {},
   "source": [
    "Як видно вище тут мультиколінеарність відсутня.\n",
    "\n",
    "Введемо в модель додатковий показник, що буде явно залежати від одного з факторів:"
   ]
  },
  {
   "cell_type": "code",
   "execution_count": 31,
   "id": "4f4a466b-3fe5-4f9c-ba2d-302e1ec2184b",
   "metadata": {},
   "outputs": [
    {
     "data": {
      "text/html": [
       "<table class=\"dataframe\">\n",
       "<caption>A data.frame: 6 × 7</caption>\n",
       "<thead>\n",
       "\t<tr><th></th><th scope=col>education</th><th scope=col>income</th><th scope=col>women</th><th scope=col>prestige</th><th scope=col>census</th><th scope=col>type</th><th scope=col>income_2</th></tr>\n",
       "\t<tr><th></th><th scope=col>&lt;dbl&gt;</th><th scope=col>&lt;int&gt;</th><th scope=col>&lt;dbl&gt;</th><th scope=col>&lt;dbl&gt;</th><th scope=col>&lt;int&gt;</th><th scope=col>&lt;fct&gt;</th><th scope=col>&lt;dbl&gt;</th></tr>\n",
       "</thead>\n",
       "<tbody>\n",
       "\t<tr><th scope=row>elevator.operators</th><td> 7.58</td><td> 3582</td><td>30.08</td><td>20.1</td><td>6193</td><td>bc  </td><td> 472.5594</td></tr>\n",
       "\t<tr><th scope=row>bookkeepers</th><td>11.32</td><td> 4348</td><td>68.24</td><td>49.4</td><td>4131</td><td>wc  </td><td> 384.0989</td></tr>\n",
       "\t<tr><th scope=row>telephone.operators</th><td>10.51</td><td> 3161</td><td>96.14</td><td>38.1</td><td>4175</td><td>wc  </td><td> 300.7612</td></tr>\n",
       "\t<tr><th scope=row>cooks</th><td> 7.74</td><td> 3116</td><td>52.00</td><td>29.7</td><td>6121</td><td>bc  </td><td> 402.5840</td></tr>\n",
       "\t<tr><th scope=row>lawyers</th><td>15.77</td><td>19263</td><td> 5.13</td><td>82.3</td><td>2343</td><td>prof</td><td>1221.4965</td></tr>\n",
       "\t<tr><th scope=row>commercial.artists</th><td>11.09</td><td> 6197</td><td>21.03</td><td>57.2</td><td>3314</td><td>prof</td><td> 558.7917</td></tr>\n",
       "</tbody>\n",
       "</table>\n"
      ],
      "text/latex": [
       "A data.frame: 6 × 7\n",
       "\\begin{tabular}{r|lllllll}\n",
       "  & education & income & women & prestige & census & type & income\\_2\\\\\n",
       "  & <dbl> & <int> & <dbl> & <dbl> & <int> & <fct> & <dbl>\\\\\n",
       "\\hline\n",
       "\televator.operators &  7.58 &  3582 & 30.08 & 20.1 & 6193 & bc   &  472.5594\\\\\n",
       "\tbookkeepers & 11.32 &  4348 & 68.24 & 49.4 & 4131 & wc   &  384.0989\\\\\n",
       "\ttelephone.operators & 10.51 &  3161 & 96.14 & 38.1 & 4175 & wc   &  300.7612\\\\\n",
       "\tcooks &  7.74 &  3116 & 52.00 & 29.7 & 6121 & bc   &  402.5840\\\\\n",
       "\tlawyers & 15.77 & 19263 &  5.13 & 82.3 & 2343 & prof & 1221.4965\\\\\n",
       "\tcommercial.artists & 11.09 &  6197 & 21.03 & 57.2 & 3314 & prof &  558.7917\\\\\n",
       "\\end{tabular}\n"
      ],
      "text/markdown": [
       "\n",
       "A data.frame: 6 × 7\n",
       "\n",
       "| <!--/--> | education &lt;dbl&gt; | income &lt;int&gt; | women &lt;dbl&gt; | prestige &lt;dbl&gt; | census &lt;int&gt; | type &lt;fct&gt; | income_2 &lt;dbl&gt; |\n",
       "|---|---|---|---|---|---|---|---|\n",
       "| elevator.operators |  7.58 |  3582 | 30.08 | 20.1 | 6193 | bc   |  472.5594 |\n",
       "| bookkeepers | 11.32 |  4348 | 68.24 | 49.4 | 4131 | wc   |  384.0989 |\n",
       "| telephone.operators | 10.51 |  3161 | 96.14 | 38.1 | 4175 | wc   |  300.7612 |\n",
       "| cooks |  7.74 |  3116 | 52.00 | 29.7 | 6121 | bc   |  402.5840 |\n",
       "| lawyers | 15.77 | 19263 |  5.13 | 82.3 | 2343 | prof | 1221.4965 |\n",
       "| commercial.artists | 11.09 |  6197 | 21.03 | 57.2 | 3314 | prof |  558.7917 |\n",
       "\n"
      ],
      "text/plain": [
       "                    education income women prestige census type income_2 \n",
       "elevator.operators   7.58      3582  30.08 20.1     6193   bc    472.5594\n",
       "bookkeepers         11.32      4348  68.24 49.4     4131   wc    384.0989\n",
       "telephone.operators 10.51      3161  96.14 38.1     4175   wc    300.7612\n",
       "cooks                7.74      3116  52.00 29.7     6121   bc    402.5840\n",
       "lawyers             15.77     19263   5.13 82.3     2343   prof 1221.4965\n",
       "commercial.artists  11.09      6197  21.03 57.2     3314   prof  558.7917"
      ]
     },
     "metadata": {},
     "output_type": "display_data"
    }
   ],
   "source": [
    "train_data <- train_data |> \n",
    "    mutate(income_2 = income / education)\n",
    "head(train_data)"
   ]
  },
  {
   "cell_type": "code",
   "execution_count": 32,
   "id": "4e7e4bbe-a2fe-4d30-beef-43c2769d789d",
   "metadata": {
    "vscode": {
     "languageId": "r"
    }
   },
   "outputs": [
    {
     "data": {
      "text/plain": [
       "\n",
       "Call:\n",
       "lm(formula = prestige ~ income + education + income_2, data = train_data)\n",
       "\n",
       "Residuals:\n",
       "     Min       1Q   Median       3Q      Max \n",
       "-13.7143  -5.5891  -0.1052   4.8973  19.8599 \n",
       "\n",
       "Coefficients:\n",
       "              Estimate Std. Error t value Pr(>|t|)    \n",
       "(Intercept) -47.415903   9.703023  -4.887 6.70e-06 ***\n",
       "income       -0.003839   0.001259  -3.049  0.00329 ** \n",
       "education     7.460147   0.888594   8.395 4.66e-12 ***\n",
       "income_2      0.064989   0.014205   4.575 2.12e-05 ***\n",
       "---\n",
       "Signif. codes:  0 '***' 0.001 '**' 0.01 '*' 0.05 '.' 0.1 ' ' 1\n",
       "\n",
       "Residual standard error: 6.826 on 67 degrees of freedom\n",
       "Multiple R-squared:  0.8449,\tAdjusted R-squared:  0.8379 \n",
       "F-statistic: 121.6 on 3 and 67 DF,  p-value: < 2.2e-16\n"
      ]
     },
     "metadata": {},
     "output_type": "display_data"
    },
    {
     "data": {
      "text/html": [
       "0.844855906316683"
      ],
      "text/latex": [
       "0.844855906316683"
      ],
      "text/markdown": [
       "0.844855906316683"
      ],
      "text/plain": [
       "[1] 0.8448559"
      ]
     },
     "metadata": {},
     "output_type": "display_data"
    }
   ],
   "source": [
    "lm_mod2 <- lm(formula = prestige ~ income + education + income_2, data = train_data)\n",
    "summary(lm_mod2)\n",
    "rsquare(lm_mod2, data = train_data)"
   ]
  },
  {
   "cell_type": "code",
   "execution_count": 33,
   "id": "b677a69f-e792-4656-a28b-c40a55942047",
   "metadata": {},
   "outputs": [
    {
     "data": {
      "text/html": [
       "<style>\n",
       ".dl-inline {width: auto; margin:0; padding: 0}\n",
       ".dl-inline>dt, .dl-inline>dd {float: none; width: auto; display: inline-block}\n",
       ".dl-inline>dt::after {content: \":\\0020\"; padding-right: .5ex}\n",
       ".dl-inline>dt:not(:first-of-type) {padding-left: .5ex}\n",
       "</style><dl class=dl-inline><dt>income</dt><dd>28.6038696874058</dd><dt>education</dt><dd>9.03814988057027</dd><dt>income_2</dt><dd>17.0480387023446</dd></dl>\n"
      ],
      "text/latex": [
       "\\begin{description*}\n",
       "\\item[income] 28.6038696874058\n",
       "\\item[education] 9.03814988057027\n",
       "\\item[income\\textbackslash{}\\_2] 17.0480387023446\n",
       "\\end{description*}\n"
      ],
      "text/markdown": [
       "income\n",
       ":   28.6038696874058education\n",
       ":   9.03814988057027income_2\n",
       ":   17.0480387023446\n",
       "\n"
      ],
      "text/plain": [
       "   income education  income_2 \n",
       " 28.60387   9.03815  17.04804 "
      ]
     },
     "metadata": {},
     "output_type": "display_data"
    }
   ],
   "source": [
    "vif(lm_mod2)"
   ]
  },
  {
   "cell_type": "code",
   "execution_count": 34,
   "id": "f8044a90-9b17-4a76-b12a-35fdc7475eb0",
   "metadata": {},
   "outputs": [
    {
     "data": {
      "text/plain": [
       "\n",
       "Call:\n",
       "lm(formula = prestige ~ education + income_2, data = train_data)\n",
       "\n",
       "Residuals:\n",
       "     Min       1Q   Median       3Q      Max \n",
       "-14.6486  -5.0597   0.3319   4.2756  18.2428 \n",
       "\n",
       "Coefficients:\n",
       "             Estimate Std. Error t value Pr(>|t|)    \n",
       "(Intercept) -19.97418    3.83870  -5.203 1.97e-06 ***\n",
       "education     4.90932    0.31704  15.485  < 2e-16 ***\n",
       "income_2      0.02300    0.00369   6.234 3.31e-08 ***\n",
       "---\n",
       "Signif. codes:  0 '***' 0.001 '**' 0.01 '*' 0.05 '.' 0.1 ' ' 1\n",
       "\n",
       "Residual standard error: 7.231 on 68 degrees of freedom\n",
       "Multiple R-squared:  0.8233,\tAdjusted R-squared:  0.8181 \n",
       "F-statistic: 158.5 on 2 and 68 DF,  p-value: < 2.2e-16\n"
      ]
     },
     "metadata": {},
     "output_type": "display_data"
    },
    {
     "data": {
      "text/html": [
       "0.82333220752398"
      ],
      "text/latex": [
       "0.82333220752398"
      ],
      "text/markdown": [
       "0.82333220752398"
      ],
      "text/plain": [
       "[1] 0.8233322"
      ]
     },
     "metadata": {},
     "output_type": "display_data"
    }
   ],
   "source": [
    "lm_mod2 <- lm(formula = prestige ~ education + income_2, data = train_data)\n",
    "summary(lm_mod2)\n",
    "rsquare(lm_mod2, data = train_data)"
   ]
  },
  {
   "cell_type": "code",
   "execution_count": 35,
   "id": "8889be71-9684-4c40-a986-ec0bec6ea262",
   "metadata": {},
   "outputs": [
    {
     "data": {
      "text/html": [
       "<style>\n",
       ".dl-inline {width: auto; margin:0; padding: 0}\n",
       ".dl-inline>dt, .dl-inline>dd {float: none; width: auto; display: inline-block}\n",
       ".dl-inline>dt::after {content: \":\\0020\"; padding-right: .5ex}\n",
       ".dl-inline>dt:not(:first-of-type) {padding-left: .5ex}\n",
       "</style><dl class=dl-inline><dt>education</dt><dd>1.02542800384138</dd><dt>income_2</dt><dd>1.02542800384138</dd></dl>\n"
      ],
      "text/latex": [
       "\\begin{description*}\n",
       "\\item[education] 1.02542800384138\n",
       "\\item[income\\textbackslash{}\\_2] 1.02542800384138\n",
       "\\end{description*}\n"
      ],
      "text/markdown": [
       "education\n",
       ":   1.02542800384138income_2\n",
       ":   1.02542800384138\n",
       "\n"
      ],
      "text/plain": [
       "education  income_2 \n",
       " 1.025428  1.025428 "
      ]
     },
     "metadata": {},
     "output_type": "display_data"
    }
   ],
   "source": [
    "vif(lm_mod2)"
   ]
  },
  {
   "cell_type": "code",
   "execution_count": 32,
   "id": "7c59a95d-fe86-48dc-ac4b-222690b470c5",
   "metadata": {
    "vscode": {
     "languageId": "r"
    }
   },
   "outputs": [],
   "source": [
    "#r_sq2 <- rsquare(lm_mod2, data = test_data)\n",
    "#r_sq\n",
    "#r_sq2"
   ]
  },
  {
   "cell_type": "markdown",
   "id": "58d0611d-f96b-4a7f-b6b2-bff5f66f7f00",
   "metadata": {},
   "source": [
    "VIF-тест для моделі із корельованими змінними:"
   ]
  },
  {
   "cell_type": "code",
   "execution_count": 33,
   "id": "99e94989-fa68-4110-8c14-1d23f3211f2b",
   "metadata": {
    "vscode": {
     "languageId": "r"
    }
   },
   "outputs": [],
   "source": [
    "#vif(lm_mod2)"
   ]
  },
  {
   "cell_type": "markdown",
   "id": "de836595-e657-4796-9b10-8babd29ca57b",
   "metadata": {},
   "source": [
    "The best way is to exclude the biggest and rebuild model in this case. "
   ]
  },
  {
   "cell_type": "markdown",
   "id": "6c86c607-753f-4a80-ae07-0d21c669fda8",
   "metadata": {},
   "source": [
    "### Extending model"
   ]
  },
  {
   "cell_type": "markdown",
   "id": "4e19deb8-783d-418c-b62a-3c36ddaf6192",
   "metadata": {},
   "source": [
    "Додамо до моделі категоріальний параметр type. Переглянемо можливі варіанти значень:"
   ]
  },
  {
   "cell_type": "code",
   "execution_count": 36,
   "id": "1e51f7ec-7a61-4fbb-a3d8-4fefbdbc9132",
   "metadata": {
    "vscode": {
     "languageId": "r"
    }
   },
   "outputs": [
    {
     "data": {
      "text/html": [
       "<style>\n",
       ".list-inline {list-style: none; margin:0; padding: 0}\n",
       ".list-inline>li {display: inline-block}\n",
       ".list-inline>li:not(:last-child)::after {content: \"\\00b7\"; padding: 0 .5ex}\n",
       "</style>\n",
       "<ol class=list-inline><li>bc</li><li>wc</li><li>prof</li><li>&lt;NA&gt;</li></ol>\n",
       "\n",
       "<details>\n",
       "\t<summary style=display:list-item;cursor:pointer>\n",
       "\t\t<strong>Levels</strong>:\n",
       "\t</summary>\n",
       "\t<style>\n",
       "\t.list-inline {list-style: none; margin:0; padding: 0}\n",
       "\t.list-inline>li {display: inline-block}\n",
       "\t.list-inline>li:not(:last-child)::after {content: \"\\00b7\"; padding: 0 .5ex}\n",
       "\t</style>\n",
       "\t<ol class=list-inline><li>'bc'</li><li>'prof'</li><li>'wc'</li></ol>\n",
       "</details>"
      ],
      "text/latex": [
       "\\begin{enumerate*}\n",
       "\\item bc\n",
       "\\item wc\n",
       "\\item prof\n",
       "\\item <NA>\n",
       "\\end{enumerate*}\n",
       "\n",
       "\\emph{Levels}: \\begin{enumerate*}\n",
       "\\item 'bc'\n",
       "\\item 'prof'\n",
       "\\item 'wc'\n",
       "\\end{enumerate*}\n"
      ],
      "text/markdown": [
       "1. bc\n",
       "2. wc\n",
       "3. prof\n",
       "4. &lt;NA&gt;\n",
       "\n",
       "\n",
       "\n",
       "**Levels**: 1. 'bc'\n",
       "2. 'prof'\n",
       "3. 'wc'\n",
       "\n",
       "\n"
      ],
      "text/plain": [
       "[1] bc   wc   prof <NA>\n",
       "Levels: bc prof wc"
      ]
     },
     "metadata": {},
     "output_type": "display_data"
    }
   ],
   "source": [
    "unique(train_data$type)"
   ]
  },
  {
   "cell_type": "markdown",
   "id": "91c1ff90-a5db-4131-ac85-fdd067907e3d",
   "metadata": {},
   "source": [
    "So, its a factor. with 3 values and missing data (NA).\n",
    "\n",
    "Lets build new model with `type`:"
   ]
  },
  {
   "cell_type": "code",
   "execution_count": null,
   "id": "fe1f41c1-31b7-4ae9-92db-4c361f8ef8d0",
   "metadata": {},
   "outputs": [],
   "source": []
  },
  {
   "cell_type": "code",
   "execution_count": 38,
   "id": "2d47e739-10d6-4327-8a91-83d942c51b72",
   "metadata": {
    "vscode": {
     "languageId": "r"
    }
   },
   "outputs": [
    {
     "data": {
      "text/plain": [
       "\n",
       "Call:\n",
       "lm(formula = prestige ~ income + education + type, data = train_data)\n",
       "\n",
       "Residuals:\n",
       "     Min       1Q   Median       3Q      Max \n",
       "-13.3142  -3.6344  -0.3817   5.3981  13.0406 \n",
       "\n",
       "Coefficients:\n",
       "             Estimate Std. Error t value Pr(>|t|)    \n",
       "(Intercept) 3.5646890  6.2763478   0.568 0.572084    \n",
       "income      0.0014164  0.0003422   4.140 0.000105 ***\n",
       "education   2.8686077  0.8030837   3.572 0.000685 ***\n",
       "typeprof    9.2120726  4.6810471   1.968 0.053479 .  \n",
       "typewc      0.2683361  3.0570578   0.088 0.930333    \n",
       "---\n",
       "Signif. codes:  0 '***' 0.001 '**' 0.01 '*' 0.05 '.' 0.1 ' ' 1\n",
       "\n",
       "Residual standard error: 7.027 on 63 degrees of freedom\n",
       "  (3 observations deleted due to missingness)\n",
       "Multiple R-squared:  0.8369,\tAdjusted R-squared:  0.8265 \n",
       "F-statistic:  80.8 on 4 and 63 DF,  p-value: < 2.2e-16\n"
      ]
     },
     "metadata": {},
     "output_type": "display_data"
    }
   ],
   "source": [
    "lm_mod <- lm(formula = prestige ~ income + education + type, data = train_data)\n",
    "summary(lm_mod)"
   ]
  },
  {
   "cell_type": "markdown",
   "id": "0a26af76-8f77-4bca-8503-d0e93855c3db",
   "metadata": {},
   "source": [
    "З’явилися нові показники `typeprof` та `typewc`. Вони згенеровані автоматично як `dummy`-змінні функцією `lm()`. Якщо Ви хочете переглянути усі показники, що приймали участь у побудові моделі, то можна викликати $model:"
   ]
  },
  {
   "cell_type": "code",
   "execution_count": 39,
   "id": "c4ba6ac2-40f5-47d5-8d10-e87c544e749b",
   "metadata": {
    "vscode": {
     "languageId": "r"
    }
   },
   "outputs": [
    {
     "data": {
      "text/html": [
       "<table class=\"dataframe\">\n",
       "<caption>A data.frame: 6 × 4</caption>\n",
       "<thead>\n",
       "\t<tr><th></th><th scope=col>prestige</th><th scope=col>income</th><th scope=col>education</th><th scope=col>type</th></tr>\n",
       "\t<tr><th></th><th scope=col>&lt;dbl&gt;</th><th scope=col>&lt;int&gt;</th><th scope=col>&lt;dbl&gt;</th><th scope=col>&lt;fct&gt;</th></tr>\n",
       "</thead>\n",
       "<tbody>\n",
       "\t<tr><th scope=row>elevator.operators</th><td>20.1</td><td> 3582</td><td> 7.58</td><td>bc  </td></tr>\n",
       "\t<tr><th scope=row>bookkeepers</th><td>49.4</td><td> 4348</td><td>11.32</td><td>wc  </td></tr>\n",
       "\t<tr><th scope=row>telephone.operators</th><td>38.1</td><td> 3161</td><td>10.51</td><td>wc  </td></tr>\n",
       "\t<tr><th scope=row>cooks</th><td>29.7</td><td> 3116</td><td> 7.74</td><td>bc  </td></tr>\n",
       "\t<tr><th scope=row>lawyers</th><td>82.3</td><td>19263</td><td>15.77</td><td>prof</td></tr>\n",
       "\t<tr><th scope=row>commercial.artists</th><td>57.2</td><td> 6197</td><td>11.09</td><td>prof</td></tr>\n",
       "</tbody>\n",
       "</table>\n"
      ],
      "text/latex": [
       "A data.frame: 6 × 4\n",
       "\\begin{tabular}{r|llll}\n",
       "  & prestige & income & education & type\\\\\n",
       "  & <dbl> & <int> & <dbl> & <fct>\\\\\n",
       "\\hline\n",
       "\televator.operators & 20.1 &  3582 &  7.58 & bc  \\\\\n",
       "\tbookkeepers & 49.4 &  4348 & 11.32 & wc  \\\\\n",
       "\ttelephone.operators & 38.1 &  3161 & 10.51 & wc  \\\\\n",
       "\tcooks & 29.7 &  3116 &  7.74 & bc  \\\\\n",
       "\tlawyers & 82.3 & 19263 & 15.77 & prof\\\\\n",
       "\tcommercial.artists & 57.2 &  6197 & 11.09 & prof\\\\\n",
       "\\end{tabular}\n"
      ],
      "text/markdown": [
       "\n",
       "A data.frame: 6 × 4\n",
       "\n",
       "| <!--/--> | prestige &lt;dbl&gt; | income &lt;int&gt; | education &lt;dbl&gt; | type &lt;fct&gt; |\n",
       "|---|---|---|---|---|\n",
       "| elevator.operators | 20.1 |  3582 |  7.58 | bc   |\n",
       "| bookkeepers | 49.4 |  4348 | 11.32 | wc   |\n",
       "| telephone.operators | 38.1 |  3161 | 10.51 | wc   |\n",
       "| cooks | 29.7 |  3116 |  7.74 | bc   |\n",
       "| lawyers | 82.3 | 19263 | 15.77 | prof |\n",
       "| commercial.artists | 57.2 |  6197 | 11.09 | prof |\n",
       "\n"
      ],
      "text/plain": [
       "                    prestige income education type\n",
       "elevator.operators  20.1      3582   7.58     bc  \n",
       "bookkeepers         49.4      4348  11.32     wc  \n",
       "telephone.operators 38.1      3161  10.51     wc  \n",
       "cooks               29.7      3116   7.74     bc  \n",
       "lawyers             82.3     19263  15.77     prof\n",
       "commercial.artists  57.2      6197  11.09     prof"
      ]
     },
     "metadata": {},
     "output_type": "display_data"
    }
   ],
   "source": [
    "lm_mod$model %>% head()"
   ]
  },
  {
   "cell_type": "code",
   "execution_count": 37,
   "id": "939541b7-a52d-4db4-93d4-cae75b0d4c0d",
   "metadata": {
    "vscode": {
     "languageId": "r"
    }
   },
   "outputs": [
    {
     "data": {
      "text/html": [
       "<table class=\"dataframe\">\n",
       "<caption>A data.frame: 69 × 4</caption>\n",
       "<thead>\n",
       "\t<tr><th></th><th scope=col>prestige</th><th scope=col>income</th><th scope=col>education</th><th scope=col>type</th></tr>\n",
       "\t<tr><th></th><th scope=col>&lt;dbl&gt;</th><th scope=col>&lt;int&gt;</th><th scope=col>&lt;dbl&gt;</th><th scope=col>&lt;fct&gt;</th></tr>\n",
       "</thead>\n",
       "<tbody>\n",
       "\t<tr><th scope=row>civil.engineers</th><td>73.1</td><td>11377</td><td>14.52</td><td>prof</td></tr>\n",
       "\t<tr><th scope=row>textile.weavers</th><td>33.3</td><td> 4443</td><td> 6.69</td><td>bc  </td></tr>\n",
       "\t<tr><th scope=row>tool.die.makers</th><td>42.5</td><td> 8043</td><td>10.09</td><td>bc  </td></tr>\n",
       "\t<tr><th scope=row>insurance.agents</th><td>47.3</td><td> 8131</td><td>11.60</td><td>wc  </td></tr>\n",
       "\t<tr><th scope=row>slaughterers.2</th><td>34.8</td><td> 5134</td><td> 7.64</td><td>bc  </td></tr>\n",
       "\t<tr><th scope=row>service.station.attendant</th><td>23.3</td><td> 2370</td><td> 9.93</td><td>bc  </td></tr>\n",
       "\t<tr><th scope=row>computer.operators</th><td>47.7</td><td> 4330</td><td>11.36</td><td>wc  </td></tr>\n",
       "\t<tr><th scope=row>radio.tv.repairmen</th><td>37.2</td><td> 5449</td><td>10.29</td><td>bc  </td></tr>\n",
       "\t<tr><th scope=row>electrical.linemen</th><td>40.9</td><td> 8316</td><td> 9.05</td><td>bc  </td></tr>\n",
       "\t<tr><th scope=row>psychologists</th><td>74.9</td><td> 7405</td><td>14.36</td><td>prof</td></tr>\n",
       "\t<tr><th scope=row>house.painters</th><td>29.9</td><td> 4549</td><td> 7.81</td><td>bc  </td></tr>\n",
       "\t<tr><th scope=row>receptionsts</th><td>38.7</td><td> 2901</td><td>11.04</td><td>wc  </td></tr>\n",
       "\t<tr><th scope=row>slaughterers.1</th><td>25.2</td><td> 5134</td><td> 7.64</td><td>bc  </td></tr>\n",
       "\t<tr><th scope=row>typesetters</th><td>42.2</td><td> 6462</td><td>10.00</td><td>bc  </td></tr>\n",
       "\t<tr><th scope=row>physicians</th><td>87.2</td><td>25308</td><td>15.96</td><td>prof</td></tr>\n",
       "\t<tr><th scope=row>computer.programers</th><td>53.8</td><td> 8425</td><td>13.83</td><td>prof</td></tr>\n",
       "\t<tr><th scope=row>architects</th><td>78.1</td><td>14163</td><td>15.44</td><td>prof</td></tr>\n",
       "\t<tr><th scope=row>biologists</th><td>72.6</td><td> 8258</td><td>15.09</td><td>prof</td></tr>\n",
       "\t<tr><th scope=row>nurses</th><td>64.7</td><td> 4614</td><td>12.46</td><td>prof</td></tr>\n",
       "\t<tr><th scope=row>electronic.workers</th><td>50.8</td><td> 3942</td><td> 8.76</td><td>bc  </td></tr>\n",
       "\t<tr><th scope=row>physio.therapsts</th><td>72.1</td><td> 5092</td><td>13.62</td><td>prof</td></tr>\n",
       "\t<tr><th scope=row>aircraft.workers</th><td>43.7</td><td> 6573</td><td> 8.78</td><td>bc  </td></tr>\n",
       "\t<tr><th scope=row>sales.supervisors</th><td>41.5</td><td> 7482</td><td> 9.84</td><td>wc  </td></tr>\n",
       "\t<tr><th scope=row>osteopaths.chiropractors</th><td>68.4</td><td>17498</td><td>14.71</td><td>prof</td></tr>\n",
       "\t<tr><th scope=row>radio.tv.announcers</th><td>57.6</td><td> 7562</td><td>12.71</td><td>wc  </td></tr>\n",
       "\t<tr><th scope=row>sewing.mach.operators</th><td>28.2</td><td> 2847</td><td> 6.38</td><td>bc  </td></tr>\n",
       "\t<tr><th scope=row>sheet.metal.workers</th><td>35.9</td><td> 6565</td><td> 8.40</td><td>bc  </td></tr>\n",
       "\t<tr><th scope=row>welders</th><td>41.8</td><td> 6477</td><td> 7.92</td><td>bc  </td></tr>\n",
       "\t<tr><th scope=row>pharmacists</th><td>69.3</td><td>10432</td><td>15.21</td><td>prof</td></tr>\n",
       "\t<tr><th scope=row>farm.workers</th><td>21.5</td><td> 1656</td><td> 8.60</td><td>bc  </td></tr>\n",
       "\t<tr><th scope=row>⋮</th><td>⋮</td><td>⋮</td><td>⋮</td><td>⋮</td></tr>\n",
       "\t<tr><th scope=row>janitors</th><td>17.3</td><td> 3472</td><td> 7.11</td><td>bc  </td></tr>\n",
       "\t<tr><th scope=row>economists</th><td>62.2</td><td> 8049</td><td>14.44</td><td>prof</td></tr>\n",
       "\t<tr><th scope=row>aircraft.repairmen</th><td>50.3</td><td> 7716</td><td>10.10</td><td>bc  </td></tr>\n",
       "\t<tr><th scope=row>elevator.operators</th><td>20.1</td><td> 3582</td><td> 7.58</td><td>bc  </td></tr>\n",
       "\t<tr><th scope=row>file.clerks</th><td>32.7</td><td> 3016</td><td>12.09</td><td>wc  </td></tr>\n",
       "\t<tr><th scope=row>veterinarians</th><td>66.7</td><td>14558</td><td>15.94</td><td>prof</td></tr>\n",
       "\t<tr><th scope=row>auto.repairmen</th><td>38.1</td><td> 5795</td><td> 8.10</td><td>bc  </td></tr>\n",
       "\t<tr><th scope=row>social.workers</th><td>55.1</td><td> 6336</td><td>14.21</td><td>prof</td></tr>\n",
       "\t<tr><th scope=row>textile.labourers</th><td>28.8</td><td> 3485</td><td> 6.74</td><td>bc  </td></tr>\n",
       "\t<tr><th scope=row>buyers</th><td>51.1</td><td> 7956</td><td>11.03</td><td>wc  </td></tr>\n",
       "\t<tr><th scope=row>lawyers</th><td>82.3</td><td>19263</td><td>15.77</td><td>prof</td></tr>\n",
       "\t<tr><th scope=row>travel.clerks</th><td>35.7</td><td> 6259</td><td>11.43</td><td>wc  </td></tr>\n",
       "\t<tr><th scope=row>secondary.school.teachers</th><td>66.1</td><td> 8034</td><td>15.08</td><td>prof</td></tr>\n",
       "\t<tr><th scope=row>masons</th><td>36.2</td><td> 5959</td><td> 6.60</td><td>bc  </td></tr>\n",
       "\t<tr><th scope=row>collectors</th><td>29.4</td><td> 4741</td><td>11.20</td><td>wc  </td></tr>\n",
       "\t<tr><th scope=row>railway.sectionmen</th><td>27.3</td><td> 4696</td><td> 6.67</td><td>bc  </td></tr>\n",
       "\t<tr><th scope=row>plumbers</th><td>42.9</td><td> 6928</td><td> 8.33</td><td>bc  </td></tr>\n",
       "\t<tr><th scope=row>purchasing.officers</th><td>56.8</td><td> 8865</td><td>11.42</td><td>prof</td></tr>\n",
       "\t<tr><th scope=row>secretaries</th><td>46.0</td><td> 4036</td><td>11.59</td><td>wc  </td></tr>\n",
       "\t<tr><th scope=row>bartenders</th><td>20.2</td><td> 3930</td><td> 8.50</td><td>bc  </td></tr>\n",
       "\t<tr><th scope=row>rotary.well.drillers</th><td>35.3</td><td> 6860</td><td> 8.88</td><td>bc  </td></tr>\n",
       "\t<tr><th scope=row>mail.carriers</th><td>36.1</td><td> 5511</td><td> 9.22</td><td>wc  </td></tr>\n",
       "\t<tr><th scope=row>mining.engineers</th><td>68.8</td><td>11023</td><td>14.64</td><td>prof</td></tr>\n",
       "\t<tr><th scope=row>pilots</th><td>66.1</td><td>14032</td><td>12.27</td><td>prof</td></tr>\n",
       "\t<tr><th scope=row>taxi.drivers</th><td>25.1</td><td> 4224</td><td> 7.93</td><td>bc  </td></tr>\n",
       "\t<tr><th scope=row>electricians</th><td>50.2</td><td> 7147</td><td> 9.93</td><td>bc  </td></tr>\n",
       "\t<tr><th scope=row>medical.technicians</th><td>67.5</td><td> 5180</td><td>12.79</td><td>wc  </td></tr>\n",
       "\t<tr><th scope=row>tellers.cashiers</th><td>42.3</td><td> 2448</td><td>10.64</td><td>wc  </td></tr>\n",
       "\t<tr><th scope=row>sales.clerks</th><td>26.5</td><td> 2594</td><td>10.05</td><td>wc  </td></tr>\n",
       "\t<tr><th scope=row>librarians</th><td>58.1</td><td> 6112</td><td>14.15</td><td>prof</td></tr>\n",
       "</tbody>\n",
       "</table>\n"
      ],
      "text/latex": [
       "A data.frame: 69 × 4\n",
       "\\begin{tabular}{r|llll}\n",
       "  & prestige & income & education & type\\\\\n",
       "  & <dbl> & <int> & <dbl> & <fct>\\\\\n",
       "\\hline\n",
       "\tcivil.engineers & 73.1 & 11377 & 14.52 & prof\\\\\n",
       "\ttextile.weavers & 33.3 &  4443 &  6.69 & bc  \\\\\n",
       "\ttool.die.makers & 42.5 &  8043 & 10.09 & bc  \\\\\n",
       "\tinsurance.agents & 47.3 &  8131 & 11.60 & wc  \\\\\n",
       "\tslaughterers.2 & 34.8 &  5134 &  7.64 & bc  \\\\\n",
       "\tservice.station.attendant & 23.3 &  2370 &  9.93 & bc  \\\\\n",
       "\tcomputer.operators & 47.7 &  4330 & 11.36 & wc  \\\\\n",
       "\tradio.tv.repairmen & 37.2 &  5449 & 10.29 & bc  \\\\\n",
       "\telectrical.linemen & 40.9 &  8316 &  9.05 & bc  \\\\\n",
       "\tpsychologists & 74.9 &  7405 & 14.36 & prof\\\\\n",
       "\thouse.painters & 29.9 &  4549 &  7.81 & bc  \\\\\n",
       "\treceptionsts & 38.7 &  2901 & 11.04 & wc  \\\\\n",
       "\tslaughterers.1 & 25.2 &  5134 &  7.64 & bc  \\\\\n",
       "\ttypesetters & 42.2 &  6462 & 10.00 & bc  \\\\\n",
       "\tphysicians & 87.2 & 25308 & 15.96 & prof\\\\\n",
       "\tcomputer.programers & 53.8 &  8425 & 13.83 & prof\\\\\n",
       "\tarchitects & 78.1 & 14163 & 15.44 & prof\\\\\n",
       "\tbiologists & 72.6 &  8258 & 15.09 & prof\\\\\n",
       "\tnurses & 64.7 &  4614 & 12.46 & prof\\\\\n",
       "\telectronic.workers & 50.8 &  3942 &  8.76 & bc  \\\\\n",
       "\tphysio.therapsts & 72.1 &  5092 & 13.62 & prof\\\\\n",
       "\taircraft.workers & 43.7 &  6573 &  8.78 & bc  \\\\\n",
       "\tsales.supervisors & 41.5 &  7482 &  9.84 & wc  \\\\\n",
       "\tosteopaths.chiropractors & 68.4 & 17498 & 14.71 & prof\\\\\n",
       "\tradio.tv.announcers & 57.6 &  7562 & 12.71 & wc  \\\\\n",
       "\tsewing.mach.operators & 28.2 &  2847 &  6.38 & bc  \\\\\n",
       "\tsheet.metal.workers & 35.9 &  6565 &  8.40 & bc  \\\\\n",
       "\twelders & 41.8 &  6477 &  7.92 & bc  \\\\\n",
       "\tpharmacists & 69.3 & 10432 & 15.21 & prof\\\\\n",
       "\tfarm.workers & 21.5 &  1656 &  8.60 & bc  \\\\\n",
       "\t⋮ & ⋮ & ⋮ & ⋮ & ⋮\\\\\n",
       "\tjanitors & 17.3 &  3472 &  7.11 & bc  \\\\\n",
       "\teconomists & 62.2 &  8049 & 14.44 & prof\\\\\n",
       "\taircraft.repairmen & 50.3 &  7716 & 10.10 & bc  \\\\\n",
       "\televator.operators & 20.1 &  3582 &  7.58 & bc  \\\\\n",
       "\tfile.clerks & 32.7 &  3016 & 12.09 & wc  \\\\\n",
       "\tveterinarians & 66.7 & 14558 & 15.94 & prof\\\\\n",
       "\tauto.repairmen & 38.1 &  5795 &  8.10 & bc  \\\\\n",
       "\tsocial.workers & 55.1 &  6336 & 14.21 & prof\\\\\n",
       "\ttextile.labourers & 28.8 &  3485 &  6.74 & bc  \\\\\n",
       "\tbuyers & 51.1 &  7956 & 11.03 & wc  \\\\\n",
       "\tlawyers & 82.3 & 19263 & 15.77 & prof\\\\\n",
       "\ttravel.clerks & 35.7 &  6259 & 11.43 & wc  \\\\\n",
       "\tsecondary.school.teachers & 66.1 &  8034 & 15.08 & prof\\\\\n",
       "\tmasons & 36.2 &  5959 &  6.60 & bc  \\\\\n",
       "\tcollectors & 29.4 &  4741 & 11.20 & wc  \\\\\n",
       "\trailway.sectionmen & 27.3 &  4696 &  6.67 & bc  \\\\\n",
       "\tplumbers & 42.9 &  6928 &  8.33 & bc  \\\\\n",
       "\tpurchasing.officers & 56.8 &  8865 & 11.42 & prof\\\\\n",
       "\tsecretaries & 46.0 &  4036 & 11.59 & wc  \\\\\n",
       "\tbartenders & 20.2 &  3930 &  8.50 & bc  \\\\\n",
       "\trotary.well.drillers & 35.3 &  6860 &  8.88 & bc  \\\\\n",
       "\tmail.carriers & 36.1 &  5511 &  9.22 & wc  \\\\\n",
       "\tmining.engineers & 68.8 & 11023 & 14.64 & prof\\\\\n",
       "\tpilots & 66.1 & 14032 & 12.27 & prof\\\\\n",
       "\ttaxi.drivers & 25.1 &  4224 &  7.93 & bc  \\\\\n",
       "\telectricians & 50.2 &  7147 &  9.93 & bc  \\\\\n",
       "\tmedical.technicians & 67.5 &  5180 & 12.79 & wc  \\\\\n",
       "\ttellers.cashiers & 42.3 &  2448 & 10.64 & wc  \\\\\n",
       "\tsales.clerks & 26.5 &  2594 & 10.05 & wc  \\\\\n",
       "\tlibrarians & 58.1 &  6112 & 14.15 & prof\\\\\n",
       "\\end{tabular}\n"
      ],
      "text/markdown": [
       "\n",
       "A data.frame: 69 × 4\n",
       "\n",
       "| <!--/--> | prestige &lt;dbl&gt; | income &lt;int&gt; | education &lt;dbl&gt; | type &lt;fct&gt; |\n",
       "|---|---|---|---|---|\n",
       "| civil.engineers | 73.1 | 11377 | 14.52 | prof |\n",
       "| textile.weavers | 33.3 |  4443 |  6.69 | bc   |\n",
       "| tool.die.makers | 42.5 |  8043 | 10.09 | bc   |\n",
       "| insurance.agents | 47.3 |  8131 | 11.60 | wc   |\n",
       "| slaughterers.2 | 34.8 |  5134 |  7.64 | bc   |\n",
       "| service.station.attendant | 23.3 |  2370 |  9.93 | bc   |\n",
       "| computer.operators | 47.7 |  4330 | 11.36 | wc   |\n",
       "| radio.tv.repairmen | 37.2 |  5449 | 10.29 | bc   |\n",
       "| electrical.linemen | 40.9 |  8316 |  9.05 | bc   |\n",
       "| psychologists | 74.9 |  7405 | 14.36 | prof |\n",
       "| house.painters | 29.9 |  4549 |  7.81 | bc   |\n",
       "| receptionsts | 38.7 |  2901 | 11.04 | wc   |\n",
       "| slaughterers.1 | 25.2 |  5134 |  7.64 | bc   |\n",
       "| typesetters | 42.2 |  6462 | 10.00 | bc   |\n",
       "| physicians | 87.2 | 25308 | 15.96 | prof |\n",
       "| computer.programers | 53.8 |  8425 | 13.83 | prof |\n",
       "| architects | 78.1 | 14163 | 15.44 | prof |\n",
       "| biologists | 72.6 |  8258 | 15.09 | prof |\n",
       "| nurses | 64.7 |  4614 | 12.46 | prof |\n",
       "| electronic.workers | 50.8 |  3942 |  8.76 | bc   |\n",
       "| physio.therapsts | 72.1 |  5092 | 13.62 | prof |\n",
       "| aircraft.workers | 43.7 |  6573 |  8.78 | bc   |\n",
       "| sales.supervisors | 41.5 |  7482 |  9.84 | wc   |\n",
       "| osteopaths.chiropractors | 68.4 | 17498 | 14.71 | prof |\n",
       "| radio.tv.announcers | 57.6 |  7562 | 12.71 | wc   |\n",
       "| sewing.mach.operators | 28.2 |  2847 |  6.38 | bc   |\n",
       "| sheet.metal.workers | 35.9 |  6565 |  8.40 | bc   |\n",
       "| welders | 41.8 |  6477 |  7.92 | bc   |\n",
       "| pharmacists | 69.3 | 10432 | 15.21 | prof |\n",
       "| farm.workers | 21.5 |  1656 |  8.60 | bc   |\n",
       "| ⋮ | ⋮ | ⋮ | ⋮ | ⋮ |\n",
       "| janitors | 17.3 |  3472 |  7.11 | bc   |\n",
       "| economists | 62.2 |  8049 | 14.44 | prof |\n",
       "| aircraft.repairmen | 50.3 |  7716 | 10.10 | bc   |\n",
       "| elevator.operators | 20.1 |  3582 |  7.58 | bc   |\n",
       "| file.clerks | 32.7 |  3016 | 12.09 | wc   |\n",
       "| veterinarians | 66.7 | 14558 | 15.94 | prof |\n",
       "| auto.repairmen | 38.1 |  5795 |  8.10 | bc   |\n",
       "| social.workers | 55.1 |  6336 | 14.21 | prof |\n",
       "| textile.labourers | 28.8 |  3485 |  6.74 | bc   |\n",
       "| buyers | 51.1 |  7956 | 11.03 | wc   |\n",
       "| lawyers | 82.3 | 19263 | 15.77 | prof |\n",
       "| travel.clerks | 35.7 |  6259 | 11.43 | wc   |\n",
       "| secondary.school.teachers | 66.1 |  8034 | 15.08 | prof |\n",
       "| masons | 36.2 |  5959 |  6.60 | bc   |\n",
       "| collectors | 29.4 |  4741 | 11.20 | wc   |\n",
       "| railway.sectionmen | 27.3 |  4696 |  6.67 | bc   |\n",
       "| plumbers | 42.9 |  6928 |  8.33 | bc   |\n",
       "| purchasing.officers | 56.8 |  8865 | 11.42 | prof |\n",
       "| secretaries | 46.0 |  4036 | 11.59 | wc   |\n",
       "| bartenders | 20.2 |  3930 |  8.50 | bc   |\n",
       "| rotary.well.drillers | 35.3 |  6860 |  8.88 | bc   |\n",
       "| mail.carriers | 36.1 |  5511 |  9.22 | wc   |\n",
       "| mining.engineers | 68.8 | 11023 | 14.64 | prof |\n",
       "| pilots | 66.1 | 14032 | 12.27 | prof |\n",
       "| taxi.drivers | 25.1 |  4224 |  7.93 | bc   |\n",
       "| electricians | 50.2 |  7147 |  9.93 | bc   |\n",
       "| medical.technicians | 67.5 |  5180 | 12.79 | wc   |\n",
       "| tellers.cashiers | 42.3 |  2448 | 10.64 | wc   |\n",
       "| sales.clerks | 26.5 |  2594 | 10.05 | wc   |\n",
       "| librarians | 58.1 |  6112 | 14.15 | prof |\n",
       "\n"
      ],
      "text/plain": [
       "                          prestige income education type\n",
       "civil.engineers           73.1     11377  14.52     prof\n",
       "textile.weavers           33.3      4443   6.69     bc  \n",
       "tool.die.makers           42.5      8043  10.09     bc  \n",
       "insurance.agents          47.3      8131  11.60     wc  \n",
       "slaughterers.2            34.8      5134   7.64     bc  \n",
       "service.station.attendant 23.3      2370   9.93     bc  \n",
       "computer.operators        47.7      4330  11.36     wc  \n",
       "radio.tv.repairmen        37.2      5449  10.29     bc  \n",
       "electrical.linemen        40.9      8316   9.05     bc  \n",
       "psychologists             74.9      7405  14.36     prof\n",
       "house.painters            29.9      4549   7.81     bc  \n",
       "receptionsts              38.7      2901  11.04     wc  \n",
       "slaughterers.1            25.2      5134   7.64     bc  \n",
       "typesetters               42.2      6462  10.00     bc  \n",
       "physicians                87.2     25308  15.96     prof\n",
       "computer.programers       53.8      8425  13.83     prof\n",
       "architects                78.1     14163  15.44     prof\n",
       "biologists                72.6      8258  15.09     prof\n",
       "nurses                    64.7      4614  12.46     prof\n",
       "electronic.workers        50.8      3942   8.76     bc  \n",
       "physio.therapsts          72.1      5092  13.62     prof\n",
       "aircraft.workers          43.7      6573   8.78     bc  \n",
       "sales.supervisors         41.5      7482   9.84     wc  \n",
       "osteopaths.chiropractors  68.4     17498  14.71     prof\n",
       "radio.tv.announcers       57.6      7562  12.71     wc  \n",
       "sewing.mach.operators     28.2      2847   6.38     bc  \n",
       "sheet.metal.workers       35.9      6565   8.40     bc  \n",
       "welders                   41.8      6477   7.92     bc  \n",
       "pharmacists               69.3     10432  15.21     prof\n",
       "farm.workers              21.5      1656   8.60     bc  \n",
       "<U+22EE>                         <U+22EE> <U+22EE> <U+22EE>  <U+22EE>\n",
       "janitors                  17.3      3472   7.11     bc  \n",
       "economists                62.2      8049  14.44     prof\n",
       "aircraft.repairmen        50.3      7716  10.10     bc  \n",
       "elevator.operators        20.1      3582   7.58     bc  \n",
       "file.clerks               32.7      3016  12.09     wc  \n",
       "veterinarians             66.7     14558  15.94     prof\n",
       "auto.repairmen            38.1      5795   8.10     bc  \n",
       "social.workers            55.1      6336  14.21     prof\n",
       "textile.labourers         28.8      3485   6.74     bc  \n",
       "buyers                    51.1      7956  11.03     wc  \n",
       "lawyers                   82.3     19263  15.77     prof\n",
       "travel.clerks             35.7      6259  11.43     wc  \n",
       "secondary.school.teachers 66.1      8034  15.08     prof\n",
       "masons                    36.2      5959   6.60     bc  \n",
       "collectors                29.4      4741  11.20     wc  \n",
       "railway.sectionmen        27.3      4696   6.67     bc  \n",
       "plumbers                  42.9      6928   8.33     bc  \n",
       "purchasing.officers       56.8      8865  11.42     prof\n",
       "secretaries               46.0      4036  11.59     wc  \n",
       "bartenders                20.2      3930   8.50     bc  \n",
       "rotary.well.drillers      35.3      6860   8.88     bc  \n",
       "mail.carriers             36.1      5511   9.22     wc  \n",
       "mining.engineers          68.8     11023  14.64     prof\n",
       "pilots                    66.1     14032  12.27     prof\n",
       "taxi.drivers              25.1      4224   7.93     bc  \n",
       "electricians              50.2      7147   9.93     bc  \n",
       "medical.technicians       67.5      5180  12.79     wc  \n",
       "tellers.cashiers          42.3      2448  10.64     wc  \n",
       "sales.clerks              26.5      2594  10.05     wc  \n",
       "librarians                58.1      6112  14.15     prof"
      ]
     },
     "metadata": {},
     "output_type": "display_data"
    }
   ],
   "source": [
    "lm_mod$model"
   ]
  },
  {
   "cell_type": "markdown",
   "id": "17066262-0d04-433a-b600-e07605354037",
   "metadata": {},
   "source": [
    "---"
   ]
  },
  {
   "cell_type": "markdown",
   "id": "a45201d5-d42e-4530-a3b4-174d64f38403",
   "metadata": {},
   "source": [
    "## Model errors "
   ]
  },
  {
   "cell_type": "markdown",
   "id": "7298a638-080f-4dc4-ba92-deb4651e9a99",
   "metadata": {},
   "source": [
    "Переглянемо характеристики моделі:"
   ]
  },
  {
   "cell_type": "code",
   "execution_count": 40,
   "id": "ab7530fe-59dd-4784-835a-a7c42b3b7665",
   "metadata": {
    "vscode": {
     "languageId": "r"
    }
   },
   "outputs": [
    {
     "data": {
      "text/plain": [
       "\n",
       "Call:\n",
       "lm(formula = prestige ~ income + education + type, data = train_data)\n",
       "\n",
       "Residuals:\n",
       "     Min       1Q   Median       3Q      Max \n",
       "-13.3142  -3.6344  -0.3817   5.3981  13.0406 \n",
       "\n",
       "Coefficients:\n",
       "             Estimate Std. Error t value Pr(>|t|)    \n",
       "(Intercept) 3.5646890  6.2763478   0.568 0.572084    \n",
       "income      0.0014164  0.0003422   4.140 0.000105 ***\n",
       "education   2.8686077  0.8030837   3.572 0.000685 ***\n",
       "typeprof    9.2120726  4.6810471   1.968 0.053479 .  \n",
       "typewc      0.2683361  3.0570578   0.088 0.930333    \n",
       "---\n",
       "Signif. codes:  0 '***' 0.001 '**' 0.01 '*' 0.05 '.' 0.1 ' ' 1\n",
       "\n",
       "Residual standard error: 7.027 on 63 degrees of freedom\n",
       "  (3 observations deleted due to missingness)\n",
       "Multiple R-squared:  0.8369,\tAdjusted R-squared:  0.8265 \n",
       "F-statistic:  80.8 on 4 and 63 DF,  p-value: < 2.2e-16\n"
      ]
     },
     "metadata": {},
     "output_type": "display_data"
    }
   ],
   "source": [
    "lm_mod <- lm(formula = prestige ~ income + education + type, data = train_data)\n",
    "summary(lm_mod)"
   ]
  },
  {
   "cell_type": "markdown",
   "id": "062e3ba4-4692-4efe-8c4a-1a9713b814ae",
   "metadata": {},
   "source": [
    "Сформуємо розмітку для виведення графіків 4-х графіків одразу (2*2):"
   ]
  },
  {
   "cell_type": "code",
   "execution_count": 41,
   "id": "fb2f49c1-8d5e-4872-ac98-ca133ae3bbc4",
   "metadata": {
    "vscode": {
     "languageId": "r"
    }
   },
   "outputs": [
    {
     "data": {
      "image/png": "[encoded data removed]",
      "text/plain": [
       "Plot with title \"\""
      ]
     },
     "metadata": {
      "image/png": {
       "height": 420,
       "width": 420
      }
     },
     "output_type": "display_data"
    },
    {
     "data": {
      "image/png": "[encoded data removed]",
      "text/plain": [
       "Plot with title \"\""
      ]
     },
     "metadata": {
      "image/png": {
       "height": 420,
       "width": 420
      }
     },
     "output_type": "display_data"
    },
    {
     "data": {
      "image/png": "[encoded data removed]",
      "text/plain": [
       "Plot with title \"\""
      ]
     },
     "metadata": {
      "image/png": {
       "height": 420,
       "width": 420
      }
     },
     "output_type": "display_data"
    },
    {
     "data": {
      "image/png": "[encoded data removed]",
      "text/plain": [
       "Plot with title \"\""
      ]
     },
     "metadata": {
      "image/png": {
       "height": 420,
       "width": 420
      }
     },
     "output_type": "display_data"
    }
   ],
   "source": [
    "#par(mfrow=c(2,2))\n",
    "plot(lm_mod)"
   ]
  },
  {
   "cell_type": "markdown",
   "id": "86906e1e-3bbf-47a9-8af8-cda71e4070bd",
   "metadata": {},
   "source": [
    "На двох графіках зліва червона лінія показує середнє з відхилень. Якщо варіація похибок зростає разом із збільшенням значень прогнозу - це називається гетероскедастичніть. Прогнозування за таких умов буде давати спотворені результати. Переконаємося у відсутності гетероскедастичності перевіривши `p-value`:"
   ]
  },
  {
   "cell_type": "code",
   "execution_count": 42,
   "id": "d3f13f24-2897-4344-97e9-38b22b650608",
   "metadata": {
    "vscode": {
     "languageId": "r"
    }
   },
   "outputs": [
    {
     "data": {
      "text/plain": [
       "\n",
       "\tstudentized Breusch-Pagan test\n",
       "\n",
       "data:  lm_mod\n",
       "BP = 9.9183, df = 4, p-value = 0.04183\n"
      ]
     },
     "metadata": {},
     "output_type": "display_data"
    }
   ],
   "source": [
    "suppressMessages(library(lmtest))\n",
    "bptest(lm_mod)"
   ]
  },
  {
   "cell_type": "markdown",
   "id": "f056176d-bc2e-41d4-8211-e914942e9ae7",
   "metadata": {},
   "source": [
    "`p-value > 0.05`, отже ми відхиляємо гіпотезу про те, що гетероскедастичність відсутня (залишки гомоскедастичні - мають однакову дисперсію)."
   ]
  },
  {
   "cell_type": "markdown",
   "id": "55272d60-6b7b-4ec8-9e64-29fe6366f5d5",
   "metadata": {},
   "source": [
    "`Normal QQ`-графік дозволяє перевірити чи похибки розподілені за нормальним законом розподілу. Ідеальний варіант коли вони розміщені чітко по діагональній лінії."
   ]
  },
  {
   "cell_type": "markdown",
   "id": "0c55426f-aa4c-4e10-bd46-b7f7abb75dd3",
   "metadata": {},
   "source": [
    "На останньому графіку показується як кожне значення впливає на регресію. У статистиці відстань Кука є загальноприйнятою оцінкою впливу спостереження під час застосування методу найменших квадратів у регресійному аналізі.На практиці, при застосуванні методу найменших квадратів, відстань Кука може використовуватися для наступних цілей: визначити впливові спостереження даних, які потрібно перевірити на валідність; визначення областей простору, у яких непогано було б отримати більше результатів спостереження. Джерело: Detection of Influential Observation in Linear Regression / R. Dennis Cook (https://www.jstor.org/stable/1268249?origin=crossref&seq=1)"
   ]
  },
  {
   "cell_type": "markdown",
   "id": "252b9efa-079b-46e9-b234-8feecece5d10",
   "metadata": {},
   "source": [
    "Повернемо розмітку для 1-го графіка у вікні RStudio:"
   ]
  },
  {
   "cell_type": "code",
   "execution_count": 49,
   "id": "662ec5fc-aa6d-49e8-bb5c-6c1362fae259",
   "metadata": {
    "vscode": {
     "languageId": "r"
    }
   },
   "outputs": [],
   "source": [
    "par(mfrow=c(1,1))"
   ]
  },
  {
   "cell_type": "markdown",
   "id": "0f0000d9-7a76-4e71-88ca-dbba70908f7d",
   "metadata": {},
   "source": [
    "Переглянемо розподіл похибок:"
   ]
  },
  {
   "cell_type": "code",
   "execution_count": 50,
   "id": "aa57d9c2-8518-4b9d-a522-d10dcc156681",
   "metadata": {
    "vscode": {
     "languageId": "r"
    }
   },
   "outputs": [
    {
     "data": {
      "image/png": "[encoded data removed]",
      "text/plain": [
       "plot without title"
      ]
     },
     "metadata": {
      "image/png": {
       "height": 420,
       "width": 420
      }
     },
     "output_type": "display_data"
    }
   ],
   "source": [
    "plot(residuals(lm_mod)) \n",
    "abline(a=0,b=0,col='blue')"
   ]
  },
  {
   "cell_type": "markdown",
   "id": "53c0e699-9196-4a85-9062-7dfd7d080fdd",
   "metadata": {},
   "source": [
    "Візуальних закономірностей у похибках немає. Схоже, що вони мають випадковий характер."
   ]
  },
  {
   "cell_type": "markdown",
   "id": "2e22f8d4-24b8-4867-a5dc-b695a5afffc5",
   "metadata": {},
   "source": [
    "---"
   ]
  },
  {
   "cell_type": "markdown",
   "id": "578a4009-0c10-40e4-9c50-de2506a0cf0c",
   "metadata": {},
   "source": [
    "## Features selection"
   ]
  },
  {
   "cell_type": "markdown",
   "id": "3d1ed6f5-17c0-49c3-b493-75c2008570c6",
   "metadata": {},
   "source": [
    "Ручний відбір параметрів моделі має ряд недоліків, що пов’язані із якістю моделі та затратами часу на її побудову. Вивчимо окремі алгоритми автоматизованого відбору параметрів у модель."
   ]
  },
  {
   "cell_type": "markdown",
   "id": "a42798c2-5347-4d26-b9fe-3e6e24a3e87c",
   "metadata": {},
   "source": [
    "### BestSubsets method"
   ]
  },
  {
   "cell_type": "markdown",
   "id": "3e65c47c-3187-4e7f-815c-f50a748cecda",
   "metadata": {},
   "source": [
    "Метод `BestSubsets` також відомий як `all possible regressions`. Цей метод відповідно до назв будує всі можливі варіанти моделей на незалежних змінних. Кількість моделей становить $2^p$, де $p$ - кількість неазелжних змінних, так для 10 вхідних параметрів буде побудовано $2^10 =1024$ моделей."
   ]
  },
  {
   "cell_type": "code",
   "execution_count": 7,
   "id": "56ae42aa-508c-4913-b691-c17466f6cf53",
   "metadata": {
    "vscode": {
     "languageId": "r"
    }
   },
   "outputs": [],
   "source": [
    "library(leaps)\n",
    "best_subsets_mod <- regsubsets(prestige ~ income + education + type + women, data = train_data)"
   ]
  },
  {
   "cell_type": "markdown",
   "id": "09a36948-45d8-4ced-a492-02053d1e600d",
   "metadata": {},
   "source": [
    "Розгялнемо відібрані параметри моделі BestSubsets. По осі `Y` розміщені значення `BIC`, який обраний як якісний показник регресії, по `X` - параметри моделі:"
   ]
  },
  {
   "cell_type": "code",
   "execution_count": 8,
   "id": "35689d46-3167-4ae5-b7a6-6c381cf56ad8",
   "metadata": {
    "vscode": {
     "languageId": "r"
    }
   },
   "outputs": [
    {
     "data": {
      "image/png": "[encoded data removed]",
      "text/plain": [
       "plot without title"
      ]
     },
     "metadata": {
      "image/png": {
       "height": 420,
       "width": 420
      }
     },
     "output_type": "display_data"
    }
   ],
   "source": [
    "plot(best_subsets_mod)"
   ]
  },
  {
   "cell_type": "markdown",
   "id": "9925bbc0-34ce-4738-b58e-9ed005704aa3",
   "metadata": {},
   "source": [
    "Найтемніша лінія вказує на найкращу модель."
   ]
  },
  {
   "cell_type": "markdown",
   "id": "10f0cc64-71bf-4167-8357-5300e1f4328b",
   "metadata": {},
   "source": [
    "Перебудуємо модель для усіх можливих варіантів комбінацій параметрів:"
   ]
  },
  {
   "cell_type": "code",
   "execution_count": 9,
   "id": "b1994bbc-80ad-4b0c-bbdf-d214de3d65bc",
   "metadata": {
    "vscode": {
     "languageId": "r"
    }
   },
   "outputs": [],
   "source": [
    "best_subsets_mod <- regsubsets(prestige ~ income + education + type + women, data = train_data)"
   ]
  },
  {
   "cell_type": "markdown",
   "id": "124ac858-c96e-4732-9f56-6d0c39cdf512",
   "metadata": {},
   "source": [
    "Також можемо обрати кращу модель окремо за критеріями, наприклад скоригований $R^2$:"
   ]
  },
  {
   "cell_type": "code",
   "execution_count": 10,
   "id": "0a593d6a-b034-455c-a387-25b4a61a715c",
   "metadata": {
    "vscode": {
     "languageId": "r"
    }
   },
   "outputs": [
    {
     "data": {
      "image/png": "[encoded data removed]",
      "text/plain": [
       "plot without title"
      ]
     },
     "metadata": {
      "image/png": {
       "height": 420,
       "width": 420
      }
     },
     "output_type": "display_data"
    }
   ],
   "source": [
    "plot(best_subsets_mod, scale = \"adjr2\")"
   ]
  },
  {
   "cell_type": "markdown",
   "id": "788082ec-86aa-49ca-9be1-9660531ffa5e",
   "metadata": {},
   "source": [
    "Моделі з найвищим $R^2$ обираються у такому випадку за цим критерієм, проте не варто забувати про появу мультиколінеарності."
   ]
  },
  {
   "cell_type": "code",
   "execution_count": 11,
   "id": "8dc65053-d85c-4233-9c74-c4354b9cc6a1",
   "metadata": {
    "vscode": {
     "languageId": "r"
    }
   },
   "outputs": [
    {
     "data": {
      "text/html": [
       "<style>\n",
       ".list-inline {list-style: none; margin:0; padding: 0}\n",
       ".list-inline>li {display: inline-block}\n",
       ".list-inline>li:not(:last-child)::after {content: \"\\00b7\"; padding: 0 .5ex}\n",
       "</style>\n",
       "<ol class=list-inline><li>0.7566</li><li>0.8132</li><li>0.8292</li><li>0.8265</li><li>0.8238</li></ol>\n"
      ],
      "text/latex": [
       "\\begin{enumerate*}\n",
       "\\item 0.7566\n",
       "\\item 0.8132\n",
       "\\item 0.8292\n",
       "\\item 0.8265\n",
       "\\item 0.8238\n",
       "\\end{enumerate*}\n"
      ],
      "text/markdown": [
       "1. 0.7566\n",
       "2. 0.8132\n",
       "3. 0.8292\n",
       "4. 0.8265\n",
       "5. 0.8238\n",
       "\n",
       "\n"
      ],
      "text/plain": [
       "[1] 0.7566 0.8132 0.8292 0.8265 0.8238"
      ]
     },
     "metadata": {},
     "output_type": "display_data"
    }
   ],
   "source": [
    "results <- summary(best_subsets_mod)\n",
    "round(results$adjr2, 4)"
   ]
  },
  {
   "cell_type": "code",
   "execution_count": 12,
   "id": "9fb03e00-09dc-4f83-a454-d5b241173f1f",
   "metadata": {
    "tags": [],
    "vscode": {
     "languageId": "r"
    }
   },
   "outputs": [
    {
     "data": {
      "text/html": [
       "<table class=\"dataframe\">\n",
       "<caption>A data.frame: 6 × 1</caption>\n",
       "<thead>\n",
       "\t<tr><th></th><th scope=col>t</th></tr>\n",
       "\t<tr><th></th><th scope=col>&lt;lgl&gt;</th></tr>\n",
       "</thead>\n",
       "<tbody>\n",
       "\t<tr><th scope=row>(Intercept)</th><td> TRUE</td></tr>\n",
       "\t<tr><th scope=row>income</th><td> TRUE</td></tr>\n",
       "\t<tr><th scope=row>education</th><td> TRUE</td></tr>\n",
       "\t<tr><th scope=row>typeprof</th><td> TRUE</td></tr>\n",
       "\t<tr><th scope=row>typewc</th><td>FALSE</td></tr>\n",
       "\t<tr><th scope=row>women</th><td>FALSE</td></tr>\n",
       "</tbody>\n",
       "</table>\n"
      ],
      "text/latex": [
       "A data.frame: 6 × 1\n",
       "\\begin{tabular}{r|l}\n",
       "  & t\\\\\n",
       "  & <lgl>\\\\\n",
       "\\hline\n",
       "\t(Intercept) &  TRUE\\\\\n",
       "\tincome &  TRUE\\\\\n",
       "\teducation &  TRUE\\\\\n",
       "\ttypeprof &  TRUE\\\\\n",
       "\ttypewc & FALSE\\\\\n",
       "\twomen & FALSE\\\\\n",
       "\\end{tabular}\n"
      ],
      "text/markdown": [
       "\n",
       "A data.frame: 6 × 1\n",
       "\n",
       "| <!--/--> | t &lt;lgl&gt; |\n",
       "|---|---|\n",
       "| (Intercept) |  TRUE |\n",
       "| income |  TRUE |\n",
       "| education |  TRUE |\n",
       "| typeprof |  TRUE |\n",
       "| typewc | FALSE |\n",
       "| women | FALSE |\n",
       "\n"
      ],
      "text/plain": [
       "            t    \n",
       "(Intercept)  TRUE\n",
       "income       TRUE\n",
       "education    TRUE\n",
       "typeprof     TRUE\n",
       "typewc      FALSE\n",
       "women       FALSE"
      ]
     },
     "metadata": {},
     "output_type": "display_data"
    }
   ],
   "source": [
    "model_index <- which.max(results$adjr2)\n",
    "t <- results$which[model_index, ]\n",
    "as.data.frame(t)"
   ]
  },
  {
   "cell_type": "markdown",
   "id": "9669030e-94e4-4d3d-a7ea-a0a7c0f6c463",
   "metadata": {
    "tags": []
   },
   "source": [
    "So, the best regression by Adjusted R-Squared is \n",
    "\n",
    "```a0 + a1*income + a2*typeprof + a3*income:typeprof + a4*education:women + a5*income:education:typeprof + a6*income:typeprof:women + a7*income:typewc:women + a8*income:education:typewc:women```"
   ]
  },
  {
   "cell_type": "markdown",
   "id": "80f1d094-bc52-4eab-8d56-4c3b3c42154e",
   "metadata": {},
   "source": [
    "---"
   ]
  },
  {
   "cell_type": "markdown",
   "id": "f09d018a-4e27-43bb-8731-fce8c7a7d8b7",
   "metadata": {},
   "source": [
    "### Stepwise method"
   ]
  },
  {
   "cell_type": "markdown",
   "id": "770501f2-1824-48ea-ba80-49e9cfbf7dac",
   "metadata": {},
   "source": [
    "Stepwise - метод, що перебирає можливі варіанти та повертає найкращу модель з найнижчим показником AIC. Перебір моделі може бути з виключенням або з включенням показників у модель - у обох напрямках.\n",
    "\n",
    "Для початку очистимо дані, що мають пропуски у полі type (також ці дані можна заповнити)."
   ]
  },
  {
   "cell_type": "code",
   "execution_count": 15,
   "id": "0d75f99f-eac7-4c54-9f09-0d2e40eed4f5",
   "metadata": {
    "vscode": {
     "languageId": "r"
    }
   },
   "outputs": [
    {
     "name": "stderr",
     "output_type": "stream",
     "text": [
      "\n",
      "Attaching package: 'dplyr'\n",
      "\n",
      "\n",
      "The following objects are masked from 'package:stats':\n",
      "\n",
      "    filter, lag\n",
      "\n",
      "\n",
      "The following objects are masked from 'package:base':\n",
      "\n",
      "    intersect, setdiff, setequal, union\n",
      "\n",
      "\n"
     ]
    },
    {
     "data": {
      "text/html": [
       "68"
      ],
      "text/latex": [
       "68"
      ],
      "text/markdown": [
       "68"
      ],
      "text/plain": [
       "[1] 68"
      ]
     },
     "metadata": {},
     "output_type": "display_data"
    },
    {
     "data": {
      "text/html": [
       "68"
      ],
      "text/latex": [
       "68"
      ],
      "text/markdown": [
       "68"
      ],
      "text/plain": [
       "[1] 68"
      ]
     },
     "metadata": {},
     "output_type": "display_data"
    }
   ],
   "source": [
    "library(dplyr)\n",
    "nrow(train_data)\n",
    "train_data <- train_data[!is.na(train_data$type), ]\n",
    "nrow(train_data)\n",
    "#train_data <- train_data |> select(-income_2)"
   ]
  },
  {
   "cell_type": "markdown",
   "id": "06b95a6d-ff9e-48a4-ac3c-76ae71037488",
   "metadata": {},
   "source": [
    "Найпростіша модель з одним параметром (першим по списку) матиме вигляд:"
   ]
  },
  {
   "cell_type": "code",
   "execution_count": 17,
   "id": "4a4f393a-ba11-4aba-a0f7-dbc95bb910fe",
   "metadata": {
    "vscode": {
     "languageId": "r"
    }
   },
   "outputs": [],
   "source": [
    "start_mod <- lm(prestige ~ 1, data = train_data)"
   ]
  },
  {
   "cell_type": "markdown",
   "id": "05920cca-f2e0-47fc-a469-f821e06624b7",
   "metadata": {},
   "source": [
    "Модель з усіма параметрами:"
   ]
  },
  {
   "cell_type": "code",
   "execution_count": 18,
   "id": "0b159c44-2e3b-4a6b-8b37-8ca5f3252b65",
   "metadata": {
    "vscode": {
     "languageId": "r"
    }
   },
   "outputs": [],
   "source": [
    "end_mod <- lm(prestige ~ ., data = train_data)"
   ]
  },
  {
   "cell_type": "markdown",
   "id": "8404d725-9766-4eb5-97a7-436fd0fd7171",
   "metadata": {},
   "source": [
    "Запустимо алгоритм функцією `step()`:"
   ]
  },
  {
   "cell_type": "code",
   "execution_count": 19,
   "id": "bc9979f7-5cd6-41e1-a722-44f4520e37f2",
   "metadata": {
    "vscode": {
     "languageId": "r"
    }
   },
   "outputs": [
    {
     "name": "stdout",
     "output_type": "stream",
     "text": [
      "Start:  AIC=385.27\n",
      "prestige ~ 1\n",
      "\n",
      "            Df Sum of Sq     RSS    AIC\n",
      "+ education  1   14497.5  4571.5 290.15\n",
      "+ type       2   13514.0  5555.0 305.40\n",
      "+ income     1   10681.4  8387.6 331.42\n",
      "+ census     1    8004.5 11064.5 350.26\n",
      "<none>                   19069.1 385.27\n",
      "+ women      1     472.4 18596.7 385.56\n",
      "\n",
      "Step:  AIC=290.15\n",
      "prestige ~ education\n",
      "\n",
      "            Df Sum of Sq     RSS    AIC\n",
      "+ income     1    1115.8  3455.7 273.12\n",
      "+ type       2     614.5  3957.0 284.33\n",
      "+ women      1     495.3  4076.2 284.35\n",
      "+ census     1     303.7  4267.8 287.48\n",
      "<none>                    4571.5 290.15\n",
      "- education  1   14497.5 19069.1 385.27\n",
      "\n",
      "Step:  AIC=273.12\n",
      "prestige ~ education + income\n",
      "\n",
      "            Df Sum of Sq    RSS    AIC\n",
      "+ type       2     344.9 3110.8 269.97\n",
      "<none>                   3455.7 273.12\n",
      "+ census     1      13.4 3442.3 274.86\n",
      "+ women      1       6.5 3449.3 275.00\n",
      "- income     1    1115.8 4571.5 290.15\n",
      "- education  1    4931.9 8387.6 331.42\n",
      "\n",
      "Step:  AIC=269.97\n",
      "prestige ~ education + income + type\n",
      "\n",
      "            Df Sum of Sq    RSS    AIC\n",
      "<none>                   3110.8 269.97\n",
      "+ census     1     78.56 3032.3 270.23\n",
      "+ women      1      1.09 3109.8 271.95\n",
      "- type       2    344.89 3455.7 273.12\n",
      "- education  1    630.03 3740.9 280.51\n",
      "- income     1    846.17 3957.0 284.33\n"
     ]
    }
   ],
   "source": [
    "stepwise_mod <- step(start_mod, \n",
    "                     # set minimum and maximum parameters\n",
    "                     scope = list(lower = start_mod, upper = end_mod),\n",
    "                     # direction of model building\n",
    "                     direction = \"both\", trace = 1, steps = 1000)\n",
    "                     # c(\"both\", \"backward\", \"forward\") - possible directions"
   ]
  },
  {
   "cell_type": "code",
   "execution_count": 20,
   "id": "610bd850-4b00-40ed-b3b7-810c256ec375",
   "metadata": {
    "vscode": {
     "languageId": "r"
    }
   },
   "outputs": [
    {
     "data": {
      "text/plain": [
       "\n",
       "Call:\n",
       "lm(formula = prestige ~ education + income + type, data = train_data)\n",
       "\n",
       "Residuals:\n",
       "     Min       1Q   Median       3Q      Max \n",
       "-13.3142  -3.6344  -0.3817   5.3981  13.0406 \n",
       "\n",
       "Coefficients:\n",
       "             Estimate Std. Error t value Pr(>|t|)    \n",
       "(Intercept) 3.5646890  6.2763478   0.568 0.572084    \n",
       "education   2.8686077  0.8030837   3.572 0.000685 ***\n",
       "income      0.0014164  0.0003422   4.140 0.000105 ***\n",
       "typeprof    9.2120726  4.6810471   1.968 0.053479 .  \n",
       "typewc      0.2683361  3.0570578   0.088 0.930333    \n",
       "---\n",
       "Signif. codes:  0 '***' 0.001 '**' 0.01 '*' 0.05 '.' 0.1 ' ' 1\n",
       "\n",
       "Residual standard error: 7.027 on 63 degrees of freedom\n",
       "Multiple R-squared:  0.8369,\tAdjusted R-squared:  0.8265 \n",
       "F-statistic:  80.8 on 4 and 63 DF,  p-value: < 2.2e-16\n"
      ]
     },
     "metadata": {},
     "output_type": "display_data"
    }
   ],
   "source": [
    "# lets see the summary\n",
    "summary(stepwise_mod)"
   ]
  },
  {
   "cell_type": "markdown",
   "id": "66788777-cefd-4d25-bb2e-19d05bbb6fc7",
   "metadata": {},
   "source": [
    "> З підсумків моделі видно, що детермінація зросла, тобто модель стала описувати явище ще краще."
   ]
  },
  {
   "cell_type": "markdown",
   "id": "44b4185e",
   "metadata": {},
   "source": [
    "---"
   ]
  }
 ],
 "metadata": {
  "kernelspec": {
   "display_name": "R",
   "language": "R",
   "name": "ir"
  },
  "language_info": {
   "codemirror_mode": "r",
   "file_extension": ".r",
   "mimetype": "text/x-r-source",
   "name": "R",
   "pygments_lexer": "r",
   "version": "4.1.3"
  }
 },
 "nbformat": 4,
 "nbformat_minor": 5
}
