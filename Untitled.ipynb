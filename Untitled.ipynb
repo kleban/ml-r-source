{
 "cells": [
  {
   "cell_type": "markdown",
   "id": "e69b1bdc-5bdc-4ab4-8b8f-dd477beddb11",
   "metadata": {},
   "source": [
    "Clustering"
   ]
  },
  {
   "cell_type": "code",
   "execution_count": 1,
   "id": "c1abee19-0e87-4007-a12c-ea90b613a07b",
   "metadata": {},
   "outputs": [],
   "source": [
    "data <- read.csv(\"E:\\\\Repositories\\\\2023\\\\ml-r-source\\\\data\\\\Mall_Customers.csv\")"
   ]
  },
  {
   "cell_type": "code",
   "execution_count": 2,
   "id": "dbec4c2f-f5ae-4f49-8177-23d68d11f372",
   "metadata": {},
   "outputs": [
    {
     "data": {
      "text/html": [
       "<table class=\"dataframe\">\n",
       "<caption>A data.frame: 6 × 5</caption>\n",
       "<thead>\n",
       "\t<tr><th></th><th scope=col>CustomerID</th><th scope=col>Gender</th><th scope=col>Age</th><th scope=col>Annual.Income..k..</th><th scope=col>Spending.Score..1.100.</th></tr>\n",
       "\t<tr><th></th><th scope=col>&lt;int&gt;</th><th scope=col>&lt;chr&gt;</th><th scope=col>&lt;int&gt;</th><th scope=col>&lt;int&gt;</th><th scope=col>&lt;int&gt;</th></tr>\n",
       "</thead>\n",
       "<tbody>\n",
       "\t<tr><th scope=row>1</th><td>1</td><td>Male  </td><td>19</td><td>15</td><td>39</td></tr>\n",
       "\t<tr><th scope=row>2</th><td>2</td><td>Male  </td><td>21</td><td>15</td><td>81</td></tr>\n",
       "\t<tr><th scope=row>3</th><td>3</td><td>Female</td><td>20</td><td>16</td><td> 6</td></tr>\n",
       "\t<tr><th scope=row>4</th><td>4</td><td>Female</td><td>23</td><td>16</td><td>77</td></tr>\n",
       "\t<tr><th scope=row>5</th><td>5</td><td>Female</td><td>31</td><td>17</td><td>40</td></tr>\n",
       "\t<tr><th scope=row>6</th><td>6</td><td>Female</td><td>22</td><td>17</td><td>76</td></tr>\n",
       "</tbody>\n",
       "</table>\n"
      ],
      "text/latex": [
       "A data.frame: 6 × 5\n",
       "\\begin{tabular}{r|lllll}\n",
       "  & CustomerID & Gender & Age & Annual.Income..k.. & Spending.Score..1.100.\\\\\n",
       "  & <int> & <chr> & <int> & <int> & <int>\\\\\n",
       "\\hline\n",
       "\t1 & 1 & Male   & 19 & 15 & 39\\\\\n",
       "\t2 & 2 & Male   & 21 & 15 & 81\\\\\n",
       "\t3 & 3 & Female & 20 & 16 &  6\\\\\n",
       "\t4 & 4 & Female & 23 & 16 & 77\\\\\n",
       "\t5 & 5 & Female & 31 & 17 & 40\\\\\n",
       "\t6 & 6 & Female & 22 & 17 & 76\\\\\n",
       "\\end{tabular}\n"
      ],
      "text/markdown": [
       "\n",
       "A data.frame: 6 × 5\n",
       "\n",
       "| <!--/--> | CustomerID &lt;int&gt; | Gender &lt;chr&gt; | Age &lt;int&gt; | Annual.Income..k.. &lt;int&gt; | Spending.Score..1.100. &lt;int&gt; |\n",
       "|---|---|---|---|---|---|\n",
       "| 1 | 1 | Male   | 19 | 15 | 39 |\n",
       "| 2 | 2 | Male   | 21 | 15 | 81 |\n",
       "| 3 | 3 | Female | 20 | 16 |  6 |\n",
       "| 4 | 4 | Female | 23 | 16 | 77 |\n",
       "| 5 | 5 | Female | 31 | 17 | 40 |\n",
       "| 6 | 6 | Female | 22 | 17 | 76 |\n",
       "\n"
      ],
      "text/plain": [
       "  CustomerID Gender Age Annual.Income..k.. Spending.Score..1.100.\n",
       "1 1          Male   19  15                 39                    \n",
       "2 2          Male   21  15                 81                    \n",
       "3 3          Female 20  16                  6                    \n",
       "4 4          Female 23  16                 77                    \n",
       "5 5          Female 31  17                 40                    \n",
       "6 6          Female 22  17                 76                    "
      ]
     },
     "metadata": {},
     "output_type": "display_data"
    }
   ],
   "source": [
    "head(data)"
   ]
  },
  {
   "cell_type": "code",
   "execution_count": 3,
   "id": "04100664-da00-4137-a05c-403a90325816",
   "metadata": {},
   "outputs": [
    {
     "name": "stderr",
     "output_type": "stream",
     "text": [
      "\n",
      "Attaching package: 'dplyr'\n",
      "\n",
      "\n",
      "The following objects are masked from 'package:stats':\n",
      "\n",
      "    filter, lag\n",
      "\n",
      "\n",
      "The following objects are masked from 'package:base':\n",
      "\n",
      "    intersect, setdiff, setequal, union\n",
      "\n",
      "\n"
     ]
    }
   ],
   "source": [
    "library(dplyr)"
   ]
  },
  {
   "cell_type": "code",
   "execution_count": 4,
   "id": "fd64c3ed-62ca-4d1d-a3da-eb558bcd2fd9",
   "metadata": {},
   "outputs": [],
   "source": [
    "data <- data |> select(3:5)"
   ]
  },
  {
   "cell_type": "code",
   "execution_count": 5,
   "id": "db465ae4-ae5e-4a36-9912-e8644d8bbccb",
   "metadata": {},
   "outputs": [
    {
     "data": {
      "text/html": [
       "<table class=\"dataframe\">\n",
       "<caption>A data.frame: 6 × 3</caption>\n",
       "<thead>\n",
       "\t<tr><th></th><th scope=col>Age</th><th scope=col>Annual.Income..k..</th><th scope=col>Spending.Score..1.100.</th></tr>\n",
       "\t<tr><th></th><th scope=col>&lt;int&gt;</th><th scope=col>&lt;int&gt;</th><th scope=col>&lt;int&gt;</th></tr>\n",
       "</thead>\n",
       "<tbody>\n",
       "\t<tr><th scope=row>1</th><td>19</td><td>15</td><td>39</td></tr>\n",
       "\t<tr><th scope=row>2</th><td>21</td><td>15</td><td>81</td></tr>\n",
       "\t<tr><th scope=row>3</th><td>20</td><td>16</td><td> 6</td></tr>\n",
       "\t<tr><th scope=row>4</th><td>23</td><td>16</td><td>77</td></tr>\n",
       "\t<tr><th scope=row>5</th><td>31</td><td>17</td><td>40</td></tr>\n",
       "\t<tr><th scope=row>6</th><td>22</td><td>17</td><td>76</td></tr>\n",
       "</tbody>\n",
       "</table>\n"
      ],
      "text/latex": [
       "A data.frame: 6 × 3\n",
       "\\begin{tabular}{r|lll}\n",
       "  & Age & Annual.Income..k.. & Spending.Score..1.100.\\\\\n",
       "  & <int> & <int> & <int>\\\\\n",
       "\\hline\n",
       "\t1 & 19 & 15 & 39\\\\\n",
       "\t2 & 21 & 15 & 81\\\\\n",
       "\t3 & 20 & 16 &  6\\\\\n",
       "\t4 & 23 & 16 & 77\\\\\n",
       "\t5 & 31 & 17 & 40\\\\\n",
       "\t6 & 22 & 17 & 76\\\\\n",
       "\\end{tabular}\n"
      ],
      "text/markdown": [
       "\n",
       "A data.frame: 6 × 3\n",
       "\n",
       "| <!--/--> | Age &lt;int&gt; | Annual.Income..k.. &lt;int&gt; | Spending.Score..1.100. &lt;int&gt; |\n",
       "|---|---|---|---|\n",
       "| 1 | 19 | 15 | 39 |\n",
       "| 2 | 21 | 15 | 81 |\n",
       "| 3 | 20 | 16 |  6 |\n",
       "| 4 | 23 | 16 | 77 |\n",
       "| 5 | 31 | 17 | 40 |\n",
       "| 6 | 22 | 17 | 76 |\n",
       "\n"
      ],
      "text/plain": [
       "  Age Annual.Income..k.. Spending.Score..1.100.\n",
       "1 19  15                 39                    \n",
       "2 21  15                 81                    \n",
       "3 20  16                  6                    \n",
       "4 23  16                 77                    \n",
       "5 31  17                 40                    \n",
       "6 22  17                 76                    "
      ]
     },
     "metadata": {},
     "output_type": "display_data"
    }
   ],
   "source": [
    "head(data)"
   ]
  },
  {
   "cell_type": "code",
   "execution_count": 6,
   "id": "1c126465-caff-4de4-8d89-980976197c6b",
   "metadata": {},
   "outputs": [],
   "source": [
    "colnames(data) <- c(\"Age\", \"Income\",  \"Spending\")"
   ]
  },
  {
   "cell_type": "code",
   "execution_count": 7,
   "id": "df09ff50-c334-4258-b18c-038aeee4f4ef",
   "metadata": {},
   "outputs": [
    {
     "data": {
      "text/html": [
       "<table class=\"dataframe\">\n",
       "<caption>A data.frame: 6 × 3</caption>\n",
       "<thead>\n",
       "\t<tr><th></th><th scope=col>Age</th><th scope=col>Income</th><th scope=col>Spending</th></tr>\n",
       "\t<tr><th></th><th scope=col>&lt;int&gt;</th><th scope=col>&lt;int&gt;</th><th scope=col>&lt;int&gt;</th></tr>\n",
       "</thead>\n",
       "<tbody>\n",
       "\t<tr><th scope=row>1</th><td>19</td><td>15</td><td>39</td></tr>\n",
       "\t<tr><th scope=row>2</th><td>21</td><td>15</td><td>81</td></tr>\n",
       "\t<tr><th scope=row>3</th><td>20</td><td>16</td><td> 6</td></tr>\n",
       "\t<tr><th scope=row>4</th><td>23</td><td>16</td><td>77</td></tr>\n",
       "\t<tr><th scope=row>5</th><td>31</td><td>17</td><td>40</td></tr>\n",
       "\t<tr><th scope=row>6</th><td>22</td><td>17</td><td>76</td></tr>\n",
       "</tbody>\n",
       "</table>\n"
      ],
      "text/latex": [
       "A data.frame: 6 × 3\n",
       "\\begin{tabular}{r|lll}\n",
       "  & Age & Income & Spending\\\\\n",
       "  & <int> & <int> & <int>\\\\\n",
       "\\hline\n",
       "\t1 & 19 & 15 & 39\\\\\n",
       "\t2 & 21 & 15 & 81\\\\\n",
       "\t3 & 20 & 16 &  6\\\\\n",
       "\t4 & 23 & 16 & 77\\\\\n",
       "\t5 & 31 & 17 & 40\\\\\n",
       "\t6 & 22 & 17 & 76\\\\\n",
       "\\end{tabular}\n"
      ],
      "text/markdown": [
       "\n",
       "A data.frame: 6 × 3\n",
       "\n",
       "| <!--/--> | Age &lt;int&gt; | Income &lt;int&gt; | Spending &lt;int&gt; |\n",
       "|---|---|---|---|\n",
       "| 1 | 19 | 15 | 39 |\n",
       "| 2 | 21 | 15 | 81 |\n",
       "| 3 | 20 | 16 |  6 |\n",
       "| 4 | 23 | 16 | 77 |\n",
       "| 5 | 31 | 17 | 40 |\n",
       "| 6 | 22 | 17 | 76 |\n",
       "\n"
      ],
      "text/plain": [
       "  Age Income Spending\n",
       "1 19  15     39      \n",
       "2 21  15     81      \n",
       "3 20  16      6      \n",
       "4 23  16     77      \n",
       "5 31  17     40      \n",
       "6 22  17     76      "
      ]
     },
     "metadata": {},
     "output_type": "display_data"
    }
   ],
   "source": [
    "head(data)"
   ]
  },
  {
   "cell_type": "code",
   "execution_count": 8,
   "id": "e4975173-5bb9-49a6-be52-4a201ca55383",
   "metadata": {},
   "outputs": [
    {
     "name": "stdout",
     "output_type": "stream",
     "text": [
      "'data.frame':\t200 obs. of  3 variables:\n",
      " $ Age     : int  19 21 20 23 31 22 35 23 64 30 ...\n",
      " $ Income  : int  15 15 16 16 17 17 18 18 19 19 ...\n",
      " $ Spending: int  39 81 6 77 40 76 6 94 3 72 ...\n"
     ]
    }
   ],
   "source": [
    "str(data)"
   ]
  },
  {
   "cell_type": "code",
   "execution_count": 9,
   "id": "3c3b657b-bffe-41dd-8afb-c7533e01f092",
   "metadata": {},
   "outputs": [
    {
     "data": {
      "text/html": [
       "FALSE"
      ],
      "text/latex": [
       "FALSE"
      ],
      "text/markdown": [
       "FALSE"
      ],
      "text/plain": [
       "[1] FALSE"
      ]
     },
     "metadata": {},
     "output_type": "display_data"
    }
   ],
   "source": [
    "anyNA(data)"
   ]
  },
  {
   "cell_type": "code",
   "execution_count": 10,
   "id": "df3e538f-291b-4a64-8d9d-73f21cec6191",
   "metadata": {},
   "outputs": [
    {
     "data": {
      "text/plain": [
       "      Age            Income          Spending    \n",
       " Min.   :18.00   Min.   : 15.00   Min.   : 1.00  \n",
       " 1st Qu.:28.75   1st Qu.: 41.50   1st Qu.:34.75  \n",
       " Median :36.00   Median : 61.50   Median :50.00  \n",
       " Mean   :38.85   Mean   : 60.56   Mean   :50.20  \n",
       " 3rd Qu.:49.00   3rd Qu.: 78.00   3rd Qu.:73.00  \n",
       " Max.   :70.00   Max.   :137.00   Max.   :99.00  "
      ]
     },
     "metadata": {},
     "output_type": "display_data"
    }
   ],
   "source": [
    "summary(data)"
   ]
  },
  {
   "cell_type": "code",
   "execution_count": 11,
   "id": "c718a86b-3c3c-41b1-b249-c5c2877bde9e",
   "metadata": {},
   "outputs": [],
   "source": [
    "data_scaled <- scale(data)"
   ]
  },
  {
   "cell_type": "code",
   "execution_count": 12,
   "id": "739f9ae0-50a7-4f2c-9baf-27bebe61b474",
   "metadata": {},
   "outputs": [],
   "source": [
    "data_scaled <- data"
   ]
  },
  {
   "cell_type": "code",
   "execution_count": 13,
   "id": "471c58b5-0097-45bc-95c2-c23049d58103",
   "metadata": {},
   "outputs": [
    {
     "data": {
      "text/html": [
       "<table class=\"dataframe\">\n",
       "<caption>A data.frame: 6 × 3</caption>\n",
       "<thead>\n",
       "\t<tr><th></th><th scope=col>Age</th><th scope=col>Income</th><th scope=col>Spending</th></tr>\n",
       "\t<tr><th></th><th scope=col>&lt;int&gt;</th><th scope=col>&lt;int&gt;</th><th scope=col>&lt;int&gt;</th></tr>\n",
       "</thead>\n",
       "<tbody>\n",
       "\t<tr><th scope=row>1</th><td>19</td><td>15</td><td>39</td></tr>\n",
       "\t<tr><th scope=row>2</th><td>21</td><td>15</td><td>81</td></tr>\n",
       "\t<tr><th scope=row>3</th><td>20</td><td>16</td><td> 6</td></tr>\n",
       "\t<tr><th scope=row>4</th><td>23</td><td>16</td><td>77</td></tr>\n",
       "\t<tr><th scope=row>5</th><td>31</td><td>17</td><td>40</td></tr>\n",
       "\t<tr><th scope=row>6</th><td>22</td><td>17</td><td>76</td></tr>\n",
       "</tbody>\n",
       "</table>\n"
      ],
      "text/latex": [
       "A data.frame: 6 × 3\n",
       "\\begin{tabular}{r|lll}\n",
       "  & Age & Income & Spending\\\\\n",
       "  & <int> & <int> & <int>\\\\\n",
       "\\hline\n",
       "\t1 & 19 & 15 & 39\\\\\n",
       "\t2 & 21 & 15 & 81\\\\\n",
       "\t3 & 20 & 16 &  6\\\\\n",
       "\t4 & 23 & 16 & 77\\\\\n",
       "\t5 & 31 & 17 & 40\\\\\n",
       "\t6 & 22 & 17 & 76\\\\\n",
       "\\end{tabular}\n"
      ],
      "text/markdown": [
       "\n",
       "A data.frame: 6 × 3\n",
       "\n",
       "| <!--/--> | Age &lt;int&gt; | Income &lt;int&gt; | Spending &lt;int&gt; |\n",
       "|---|---|---|---|\n",
       "| 1 | 19 | 15 | 39 |\n",
       "| 2 | 21 | 15 | 81 |\n",
       "| 3 | 20 | 16 |  6 |\n",
       "| 4 | 23 | 16 | 77 |\n",
       "| 5 | 31 | 17 | 40 |\n",
       "| 6 | 22 | 17 | 76 |\n",
       "\n"
      ],
      "text/plain": [
       "  Age Income Spending\n",
       "1 19  15     39      \n",
       "2 21  15     81      \n",
       "3 20  16      6      \n",
       "4 23  16     77      \n",
       "5 31  17     40      \n",
       "6 22  17     76      "
      ]
     },
     "metadata": {},
     "output_type": "display_data"
    }
   ],
   "source": [
    "head(data_scaled)"
   ]
  },
  {
   "cell_type": "code",
   "execution_count": 14,
   "id": "5e213ba7-c921-4210-be1f-e5a4224201ed",
   "metadata": {},
   "outputs": [
    {
     "data": {
      "text/plain": [
       "      Age            Income          Spending    \n",
       " Min.   :18.00   Min.   : 15.00   Min.   : 1.00  \n",
       " 1st Qu.:28.75   1st Qu.: 41.50   1st Qu.:34.75  \n",
       " Median :36.00   Median : 61.50   Median :50.00  \n",
       " Mean   :38.85   Mean   : 60.56   Mean   :50.20  \n",
       " 3rd Qu.:49.00   3rd Qu.: 78.00   3rd Qu.:73.00  \n",
       " Max.   :70.00   Max.   :137.00   Max.   :99.00  "
      ]
     },
     "metadata": {},
     "output_type": "display_data"
    }
   ],
   "source": [
    "summary(data_scaled)"
   ]
  },
  {
   "cell_type": "code",
   "execution_count": 15,
   "id": "c151b050-7e18-442f-ad31-2455615d479b",
   "metadata": {},
   "outputs": [
    {
     "name": "stderr",
     "output_type": "stream",
     "text": [
      "Loading required package: ggplot2\n",
      "\n",
      "Welcome! Want to learn more? See two factoextra-related books at https://goo.gl/ve3WBa\n",
      "\n"
     ]
    }
   ],
   "source": [
    "library(cluster)\n",
    "library(factoextra)"
   ]
  },
  {
   "cell_type": "code",
   "execution_count": 16,
   "id": "30b6531b-f881-4c59-a0e9-024da7c5c97a",
   "metadata": {},
   "outputs": [
    {
     "data": {
      "image/png": "[encoded data removed]",
      "text/plain": [
       "plot without title"
      ]
     },
     "metadata": {
      "image/png": {
       "height": 420,
       "width": 420
      }
     },
     "output_type": "display_data"
    }
   ],
   "source": [
    "factoextra::fviz_nbclust(data_scaled[,2:3], kmeans, method = \"silhouette\")+\n",
    "  labs(subtitle = \"Silhouette method\")"
   ]
  },
  {
   "cell_type": "code",
   "execution_count": 17,
   "id": "7549c028-9bd0-451c-a546-d4995d4a5fc5",
   "metadata": {},
   "outputs": [
    {
     "data": {
      "image/png": "[encoded data removed]",
      "text/plain": [
       "plot without title"
      ]
     },
     "metadata": {
      "image/png": {
       "height": 420,
       "width": 420
      }
     },
     "output_type": "display_data"
    }
   ],
   "source": [
    "factoextra::fviz_nbclust(data_scaled[,2:3], kmeans, method = \"wss\")+\n",
    "  labs(subtitle = \"Silhouette method\")"
   ]
  },
  {
   "cell_type": "code",
   "execution_count": 18,
   "id": "9a994f2c-d415-4e67-be08-bd98958dc674",
   "metadata": {},
   "outputs": [
    {
     "data": {
      "image/png": "[encoded data removed]",
      "text/plain": [
       "plot without title"
      ]
     },
     "metadata": {
      "image/png": {
       "height": 420,
       "width": 420
      }
     },
     "output_type": "display_data"
    }
   ],
   "source": [
    "set.seed(2023)\n",
    "tot.withinss <- vector(\"numeric\", length = 10)\n",
    "for (i in 1:10){\n",
    "    kDet <- kmeans(data_scaled, i)\n",
    "    tot.withinss[i] <- kDet$tot.withinss\n",
    "}\n",
    "\n",
    "ggplot(as.data.frame(tot.withinss), aes(x = seq(1,10), y = tot.withinss)) + \n",
    "    geom_point(col = \"#F8766D\") +    \n",
    "    geom_line(col = \"#F8766D\") + \n",
    "    theme(axis.title.x.bottom = element_blank()) +\n",
    "    ylab(\"Within-cluster Sum of Squares\") +\n",
    "    xlab(\"Number of Clusters\") +\n",
    "    ggtitle(\"Elbow K Estimation\")"
   ]
  },
  {
   "cell_type": "code",
   "execution_count": 19,
   "id": "8d618dd5-3d5c-4ab5-955e-0c65445d3b65",
   "metadata": {},
   "outputs": [],
   "source": [
    "k_means_results <- kmeans(x = data_scaled, centers = 5)"
   ]
  },
  {
   "cell_type": "code",
   "execution_count": 20,
   "id": "a265bcd7-28df-4030-8183-499838879e97",
   "metadata": {},
   "outputs": [
    {
     "data": {
      "text/plain": [
       "K-means clustering with 5 clusters of sizes 39, 23, 36, 79, 23\n",
       "\n",
       "Cluster means:\n",
       "       Age   Income Spending\n",
       "1 32.69231 86.53846 82.12821\n",
       "2 45.21739 26.30435 20.91304\n",
       "3 40.66667 87.75000 17.58333\n",
       "4 43.08861 55.29114 49.56962\n",
       "5 25.52174 26.30435 78.56522\n",
       "\n",
       "Clustering vector:\n",
       "  [1] 2 5 2 5 2 5 2 5 2 5 2 5 2 5 2 5 2 5 2 5 2 5 2 5 2 5 2 5 2 5 2 5 2 5 2 5 2\n",
       " [38] 5 2 5 2 5 2 5 2 5 4 4 4 4 4 4 4 4 4 4 4 4 4 4 4 4 4 4 4 4 4 4 4 4 4 4 4 4\n",
       " [75] 4 4 4 4 4 4 4 4 4 4 4 4 4 4 4 4 4 4 4 4 4 4 4 4 4 4 4 4 4 4 4 4 4 4 4 4 4\n",
       "[112] 4 4 4 4 4 4 4 4 4 4 4 4 1 3 1 4 1 3 1 3 1 3 1 3 1 3 1 3 1 3 1 4 1 3 1 3 1\n",
       "[149] 3 1 3 1 3 1 3 1 3 1 3 1 3 1 3 1 3 1 3 1 3 1 3 1 3 1 3 1 3 1 3 1 3 1 3 1 3\n",
       "[186] 1 3 1 3 1 3 1 3 1 3 1 3 1 3 1\n",
       "\n",
       "Within cluster sum of squares by cluster:\n",
       "[1] 13972.359  8948.609 17669.500 30138.051  4622.261\n",
       " (between_SS / total_SS =  75.6 %)\n",
       "\n",
       "Available components:\n",
       "\n",
       "[1] \"cluster\"      \"centers\"      \"totss\"        \"withinss\"     \"tot.withinss\"\n",
       "[6] \"betweenss\"    \"size\"         \"iter\"         \"ifault\"      "
      ]
     },
     "metadata": {},
     "output_type": "display_data"
    }
   ],
   "source": [
    "k_means_results"
   ]
  },
  {
   "cell_type": "code",
   "execution_count": 21,
   "id": "7b25a186-d13e-4c6b-8842-7532c20627e2",
   "metadata": {},
   "outputs": [
    {
     "data": {
      "image/png": "[encoded data removed]",
      "text/plain": [
       "Plot with title \"Clusters of customers\""
      ]
     },
     "metadata": {
      "image/png": {
       "height": 420,
       "width": 420
      }
     },
     "output_type": "display_data"
    }
   ],
   "source": [
    "# contains the vector of integers indicating the assignment of each observation to a particular cluster\n",
    "k_means = k_means_results$cluster\n",
    "\n",
    "# using clusplot() function with various arguements to plot the clusters\n",
    "clusplot(data_scaled, k_means, shade = TRUE, color = TRUE, span = TRUE,\n",
    "         main = paste('Clusters of customers'), \n",
    "         xlab = 'Age',\n",
    "         ylab = 'Annual Income')"
   ]
  },
  {
   "cell_type": "code",
   "execution_count": 22,
   "id": "2db6a9f0-0838-44cf-bf2e-17b588c42f84",
   "metadata": {},
   "outputs": [
    {
     "name": "stderr",
     "output_type": "stream",
     "text": [
      "\n",
      "Attaching package: 'gridExtra'\n",
      "\n",
      "\n",
      "The following object is masked from 'package:dplyr':\n",
      "\n",
      "    combine\n",
      "\n",
      "\n"
     ]
    }
   ],
   "source": [
    "library(ggplot2); theme_set(theme_bw())\n",
    "library(dplyr)\n",
    "library(skmeans)\n",
    "library(gridExtra)"
   ]
  },
  {
   "cell_type": "code",
   "execution_count": 23,
   "id": "c8a33095-19d3-47d6-96d0-df326511bdbf",
   "metadata": {},
   "outputs": [
    {
     "data": {
      "image/png": "[encoded data removed]",
      "text/plain": [
       "plot without title"
      ]
     },
     "metadata": {
      "image/png": {
       "height": 420,
       "width": 420
      }
     },
     "output_type": "display_data"
    }
   ],
   "source": [
    "ggplot(as.data.frame(data_scaled), aes(x = Income, y = Spending)) + \n",
    "    geom_point(stat = \"identity\", aes(color = as.factor(k_means_results$cluster))) +\n",
    "    scale_color_discrete(name=\" \",\n",
    "                         breaks=c(\"1\", \"2\", \"3\", \"4\", \"5\", \"6\"),\n",
    "                         labels=c(\"Cluster 1\", \"Cluster 2\", \"Cluster 3\", \"Cluster 4\", \"Cluster 5\", \"Cluster 6\")) +\n",
    "    ggtitle(\"Mall Customer Segmens\", subtitle = \"K-means Clustering\")"
   ]
  },
  {
   "cell_type": "code",
   "execution_count": 24,
   "id": "3cfb3bde-9cfc-4bd5-b48a-7127e683bb99",
   "metadata": {},
   "outputs": [
    {
     "data": {
      "text/html": [
       "TRUE"
      ],
      "text/latex": [
       "TRUE"
      ],
      "text/markdown": [
       "TRUE"
      ],
      "text/plain": [
       "[1] TRUE"
      ]
     },
     "metadata": {},
     "output_type": "display_data"
    }
   ],
   "source": [
    "is.data.frame(data_scaled)"
   ]
  },
  {
   "cell_type": "code",
   "execution_count": 25,
   "id": "7a193ebc-794e-4ef3-8d22-87e55dc713fa",
   "metadata": {},
   "outputs": [
    {
     "name": "stderr",
     "output_type": "stream",
     "text": [
      "\u001b[1m\u001b[22mNew names:\n",
      "\u001b[36m*\u001b[39m `` -> `...4`\n"
     ]
    },
    {
     "data": {
      "text/html": [
       "<table class=\"dataframe\">\n",
       "<caption>A data.frame: 6 × 4</caption>\n",
       "<thead>\n",
       "\t<tr><th></th><th scope=col>Age</th><th scope=col>Income</th><th scope=col>Spending</th><th scope=col>...4</th></tr>\n",
       "\t<tr><th></th><th scope=col>&lt;int&gt;</th><th scope=col>&lt;int&gt;</th><th scope=col>&lt;int&gt;</th><th scope=col>&lt;int&gt;</th></tr>\n",
       "</thead>\n",
       "<tbody>\n",
       "\t<tr><th scope=row>1</th><td>19</td><td>15</td><td>39</td><td>2</td></tr>\n",
       "\t<tr><th scope=row>2</th><td>21</td><td>15</td><td>81</td><td>5</td></tr>\n",
       "\t<tr><th scope=row>3</th><td>20</td><td>16</td><td> 6</td><td>2</td></tr>\n",
       "\t<tr><th scope=row>4</th><td>23</td><td>16</td><td>77</td><td>5</td></tr>\n",
       "\t<tr><th scope=row>5</th><td>31</td><td>17</td><td>40</td><td>2</td></tr>\n",
       "\t<tr><th scope=row>6</th><td>22</td><td>17</td><td>76</td><td>5</td></tr>\n",
       "</tbody>\n",
       "</table>\n"
      ],
      "text/latex": [
       "A data.frame: 6 × 4\n",
       "\\begin{tabular}{r|llll}\n",
       "  & Age & Income & Spending & ...4\\\\\n",
       "  & <int> & <int> & <int> & <int>\\\\\n",
       "\\hline\n",
       "\t1 & 19 & 15 & 39 & 2\\\\\n",
       "\t2 & 21 & 15 & 81 & 5\\\\\n",
       "\t3 & 20 & 16 &  6 & 2\\\\\n",
       "\t4 & 23 & 16 & 77 & 5\\\\\n",
       "\t5 & 31 & 17 & 40 & 2\\\\\n",
       "\t6 & 22 & 17 & 76 & 5\\\\\n",
       "\\end{tabular}\n"
      ],
      "text/markdown": [
       "\n",
       "A data.frame: 6 × 4\n",
       "\n",
       "| <!--/--> | Age &lt;int&gt; | Income &lt;int&gt; | Spending &lt;int&gt; | ...4 &lt;int&gt; |\n",
       "|---|---|---|---|---|\n",
       "| 1 | 19 | 15 | 39 | 2 |\n",
       "| 2 | 21 | 15 | 81 | 5 |\n",
       "| 3 | 20 | 16 |  6 | 2 |\n",
       "| 4 | 23 | 16 | 77 | 5 |\n",
       "| 5 | 31 | 17 | 40 | 2 |\n",
       "| 6 | 22 | 17 | 76 | 5 |\n",
       "\n"
      ],
      "text/plain": [
       "  Age Income Spending ...4\n",
       "1 19  15     39       2   \n",
       "2 21  15     81       5   \n",
       "3 20  16      6       2   \n",
       "4 23  16     77       5   \n",
       "5 31  17     40       2   \n",
       "6 22  17     76       5   "
      ]
     },
     "metadata": {},
     "output_type": "display_data"
    }
   ],
   "source": [
    "data = data |> \n",
    "    bind_cols(k_means_results$cluster)\n",
    "head(data)"
   ]
  },
  {
   "cell_type": "code",
   "execution_count": 26,
   "id": "a0e589b4-f93f-4388-a254-41e022dc34f3",
   "metadata": {},
   "outputs": [],
   "source": [
    "colnames(data) <- c(\"Age\", \"Income\", \"Spending\", \"Cluster\")"
   ]
  },
  {
   "cell_type": "code",
   "execution_count": 27,
   "id": "6e8dd231-d618-4fec-89de-4d505df8817b",
   "metadata": {},
   "outputs": [
    {
     "data": {
      "text/html": [
       "<table class=\"dataframe\">\n",
       "<caption>A data.frame: 6 × 4</caption>\n",
       "<thead>\n",
       "\t<tr><th></th><th scope=col>Age</th><th scope=col>Income</th><th scope=col>Spending</th><th scope=col>Cluster</th></tr>\n",
       "\t<tr><th></th><th scope=col>&lt;int&gt;</th><th scope=col>&lt;int&gt;</th><th scope=col>&lt;int&gt;</th><th scope=col>&lt;int&gt;</th></tr>\n",
       "</thead>\n",
       "<tbody>\n",
       "\t<tr><th scope=row>1</th><td>19</td><td>15</td><td>39</td><td>2</td></tr>\n",
       "\t<tr><th scope=row>2</th><td>21</td><td>15</td><td>81</td><td>5</td></tr>\n",
       "\t<tr><th scope=row>3</th><td>20</td><td>16</td><td> 6</td><td>2</td></tr>\n",
       "\t<tr><th scope=row>4</th><td>23</td><td>16</td><td>77</td><td>5</td></tr>\n",
       "\t<tr><th scope=row>5</th><td>31</td><td>17</td><td>40</td><td>2</td></tr>\n",
       "\t<tr><th scope=row>6</th><td>22</td><td>17</td><td>76</td><td>5</td></tr>\n",
       "</tbody>\n",
       "</table>\n"
      ],
      "text/latex": [
       "A data.frame: 6 × 4\n",
       "\\begin{tabular}{r|llll}\n",
       "  & Age & Income & Spending & Cluster\\\\\n",
       "  & <int> & <int> & <int> & <int>\\\\\n",
       "\\hline\n",
       "\t1 & 19 & 15 & 39 & 2\\\\\n",
       "\t2 & 21 & 15 & 81 & 5\\\\\n",
       "\t3 & 20 & 16 &  6 & 2\\\\\n",
       "\t4 & 23 & 16 & 77 & 5\\\\\n",
       "\t5 & 31 & 17 & 40 & 2\\\\\n",
       "\t6 & 22 & 17 & 76 & 5\\\\\n",
       "\\end{tabular}\n"
      ],
      "text/markdown": [
       "\n",
       "A data.frame: 6 × 4\n",
       "\n",
       "| <!--/--> | Age &lt;int&gt; | Income &lt;int&gt; | Spending &lt;int&gt; | Cluster &lt;int&gt; |\n",
       "|---|---|---|---|---|\n",
       "| 1 | 19 | 15 | 39 | 2 |\n",
       "| 2 | 21 | 15 | 81 | 5 |\n",
       "| 3 | 20 | 16 |  6 | 2 |\n",
       "| 4 | 23 | 16 | 77 | 5 |\n",
       "| 5 | 31 | 17 | 40 | 2 |\n",
       "| 6 | 22 | 17 | 76 | 5 |\n",
       "\n"
      ],
      "text/plain": [
       "  Age Income Spending Cluster\n",
       "1 19  15     39       2      \n",
       "2 21  15     81       5      \n",
       "3 20  16      6       2      \n",
       "4 23  16     77       5      \n",
       "5 31  17     40       2      \n",
       "6 22  17     76       5      "
      ]
     },
     "metadata": {},
     "output_type": "display_data"
    }
   ],
   "source": [
    "head(data)"
   ]
  },
  {
   "cell_type": "code",
   "execution_count": 28,
   "id": "302267a6-e346-4a67-83d1-2670e09fad4e",
   "metadata": {},
   "outputs": [
    {
     "data": {
      "text/html": [
       "<table class=\"dataframe\">\n",
       "<caption>A data.frame: 6 × 4</caption>\n",
       "<thead>\n",
       "\t<tr><th></th><th scope=col>Age</th><th scope=col>Income</th><th scope=col>Spending</th><th scope=col>Cluster</th></tr>\n",
       "\t<tr><th></th><th scope=col>&lt;int&gt;</th><th scope=col>&lt;int&gt;</th><th scope=col>&lt;int&gt;</th><th scope=col>&lt;int&gt;</th></tr>\n",
       "</thead>\n",
       "<tbody>\n",
       "\t<tr><th scope=row>1</th><td>19</td><td>15</td><td>39</td><td>2</td></tr>\n",
       "\t<tr><th scope=row>2</th><td>21</td><td>15</td><td>81</td><td>5</td></tr>\n",
       "\t<tr><th scope=row>3</th><td>20</td><td>16</td><td> 6</td><td>2</td></tr>\n",
       "\t<tr><th scope=row>4</th><td>23</td><td>16</td><td>77</td><td>5</td></tr>\n",
       "\t<tr><th scope=row>5</th><td>31</td><td>17</td><td>40</td><td>2</td></tr>\n",
       "\t<tr><th scope=row>6</th><td>22</td><td>17</td><td>76</td><td>5</td></tr>\n",
       "</tbody>\n",
       "</table>\n"
      ],
      "text/latex": [
       "A data.frame: 6 × 4\n",
       "\\begin{tabular}{r|llll}\n",
       "  & Age & Income & Spending & Cluster\\\\\n",
       "  & <int> & <int> & <int> & <int>\\\\\n",
       "\\hline\n",
       "\t1 & 19 & 15 & 39 & 2\\\\\n",
       "\t2 & 21 & 15 & 81 & 5\\\\\n",
       "\t3 & 20 & 16 &  6 & 2\\\\\n",
       "\t4 & 23 & 16 & 77 & 5\\\\\n",
       "\t5 & 31 & 17 & 40 & 2\\\\\n",
       "\t6 & 22 & 17 & 76 & 5\\\\\n",
       "\\end{tabular}\n"
      ],
      "text/markdown": [
       "\n",
       "A data.frame: 6 × 4\n",
       "\n",
       "| <!--/--> | Age &lt;int&gt; | Income &lt;int&gt; | Spending &lt;int&gt; | Cluster &lt;int&gt; |\n",
       "|---|---|---|---|---|\n",
       "| 1 | 19 | 15 | 39 | 2 |\n",
       "| 2 | 21 | 15 | 81 | 5 |\n",
       "| 3 | 20 | 16 |  6 | 2 |\n",
       "| 4 | 23 | 16 | 77 | 5 |\n",
       "| 5 | 31 | 17 | 40 | 2 |\n",
       "| 6 | 22 | 17 | 76 | 5 |\n",
       "\n"
      ],
      "text/plain": [
       "  Age Income Spending Cluster\n",
       "1 19  15     39       2      \n",
       "2 21  15     81       5      \n",
       "3 20  16      6       2      \n",
       "4 23  16     77       5      \n",
       "5 31  17     40       2      \n",
       "6 22  17     76       5      "
      ]
     },
     "metadata": {},
     "output_type": "display_data"
    }
   ],
   "source": [
    "head(data)"
   ]
  },
  {
   "cell_type": "code",
   "execution_count": 29,
   "id": "447d6763-6702-4794-9a03-3cf0eb171fee",
   "metadata": {},
   "outputs": [
    {
     "data": {
      "text/html": [
       "<table class=\"dataframe\">\n",
       "<caption>A tibble: 5 × 3</caption>\n",
       "<thead>\n",
       "\t<tr><th scope=col>Cluster</th><th scope=col>IncomeAvg</th><th scope=col>SpendingAvg</th></tr>\n",
       "\t<tr><th scope=col>&lt;int&gt;</th><th scope=col>&lt;dbl&gt;</th><th scope=col>&lt;dbl&gt;</th></tr>\n",
       "</thead>\n",
       "<tbody>\n",
       "\t<tr><td>1</td><td>86.53846</td><td>82.12821</td></tr>\n",
       "\t<tr><td>2</td><td>26.30435</td><td>20.91304</td></tr>\n",
       "\t<tr><td>3</td><td>87.75000</td><td>17.58333</td></tr>\n",
       "\t<tr><td>4</td><td>55.29114</td><td>49.56962</td></tr>\n",
       "\t<tr><td>5</td><td>26.30435</td><td>78.56522</td></tr>\n",
       "</tbody>\n",
       "</table>\n"
      ],
      "text/latex": [
       "A tibble: 5 × 3\n",
       "\\begin{tabular}{lll}\n",
       " Cluster & IncomeAvg & SpendingAvg\\\\\n",
       " <int> & <dbl> & <dbl>\\\\\n",
       "\\hline\n",
       "\t 1 & 86.53846 & 82.12821\\\\\n",
       "\t 2 & 26.30435 & 20.91304\\\\\n",
       "\t 3 & 87.75000 & 17.58333\\\\\n",
       "\t 4 & 55.29114 & 49.56962\\\\\n",
       "\t 5 & 26.30435 & 78.56522\\\\\n",
       "\\end{tabular}\n"
      ],
      "text/markdown": [
       "\n",
       "A tibble: 5 × 3\n",
       "\n",
       "| Cluster &lt;int&gt; | IncomeAvg &lt;dbl&gt; | SpendingAvg &lt;dbl&gt; |\n",
       "|---|---|---|\n",
       "| 1 | 86.53846 | 82.12821 |\n",
       "| 2 | 26.30435 | 20.91304 |\n",
       "| 3 | 87.75000 | 17.58333 |\n",
       "| 4 | 55.29114 | 49.56962 |\n",
       "| 5 | 26.30435 | 78.56522 |\n",
       "\n"
      ],
      "text/plain": [
       "  Cluster IncomeAvg SpendingAvg\n",
       "1 1       86.53846  82.12821   \n",
       "2 2       26.30435  20.91304   \n",
       "3 3       87.75000  17.58333   \n",
       "4 4       55.29114  49.56962   \n",
       "5 5       26.30435  78.56522   "
      ]
     },
     "metadata": {},
     "output_type": "display_data"
    }
   ],
   "source": [
    "data |>\n",
    "    group_by(Cluster) |>\n",
    "    summarise(IncomeAvg = mean(Income),\n",
    "             SpendingAvg = mean(Spending))"
   ]
  },
  {
   "cell_type": "code",
   "execution_count": null,
   "id": "fcc6356d-bd7f-4eed-a467-2c375048bb0c",
   "metadata": {},
   "outputs": [],
   "source": []
  }
 ],
 "metadata": {
  "kernelspec": {
   "display_name": "R",
   "language": "R",
   "name": "ir"
  },
  "language_info": {
   "codemirror_mode": "r",
   "file_extension": ".r",
   "mimetype": "text/x-r-source",
   "name": "R",
   "pygments_lexer": "r",
   "version": "4.1.3"
  }
 },
 "nbformat": 4,
 "nbformat_minor": 5
}
