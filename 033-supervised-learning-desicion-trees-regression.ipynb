{
 "cells": [
  {
   "cell_type": "markdown",
   "id": "034e61a5-822f-4315-ae56-42a16f8c9509",
   "metadata": {},
   "source": [
    "# Дерева рішень. Регресія. Баланс кредитної карти"
   ]
  },
  {
   "cell_type": "markdown",
   "id": "0c01fab4",
   "metadata": {},
   "source": [
    "Прикладне математичне моделювання в R"
   ]
  },
  {
   "cell_type": "markdown",
   "id": "4a9a7f35",
   "metadata": {},
   "source": [
    "---"
   ]
  },
  {
   "cell_type": "markdown",
   "id": "33ed0eac",
   "metadata": {},
   "source": [
    "У даній частині навчального процесу потрібно побудувати математичні моделі регресії клієнтів на основі алгоритму дерева рішень та перевірити їх на тестовій вибірці."
   ]
  },
  {
   "cell_type": "markdown",
   "id": "76640706-bfc3-4104-86c6-02c38cd441f0",
   "metadata": {},
   "source": [
    "## Підготовка"
   ]
  },
  {
   "cell_type": "code",
   "execution_count": 1,
   "id": "e373f99a-8fef-4482-86b4-40bdef9d18d3",
   "metadata": {},
   "outputs": [],
   "source": [
    "# install.packages(\"DMwR\")\n",
    "# install.packages(\"gmodels\")\n",
    "# install.packages(\"rpart\")\n",
    "# install.packages(\"partykit\")\n",
    "# install.packages(\"rpart.plot\")\n",
    "# install.packages(\"RColorBrewer\")\n",
    "# install.packages(\"rattle\")"
   ]
  },
  {
   "cell_type": "code",
   "execution_count": 2,
   "id": "a0ae2cba-7edb-410b-b02f-7430e492a213",
   "metadata": {},
   "outputs": [
    {
     "data": {
      "text/html": [
       "'Ukrainian_Ukraine.1251'"
      ],
      "text/latex": [
       "'Ukrainian\\_Ukraine.1251'"
      ],
      "text/markdown": [
       "'Ukrainian_Ukraine.1251'"
      ],
      "text/plain": [
       "[1] \"Ukrainian_Ukraine.1251\""
      ]
     },
     "metadata": {},
     "output_type": "display_data"
    }
   ],
   "source": [
    "Sys.setlocale(\"LC_CTYPE\", \"ukrainian\") \n",
    "options(warn = -1)"
   ]
  },
  {
   "cell_type": "markdown",
   "id": "c6ac0972-5a5f-4db7-af32-73114b10137d",
   "metadata": {},
   "source": [
    "Джерела:\n",
    "\n",
    "- [x] An Introduction to Statistical Learning with Applications in R <http://www-bcf.usc.edu/~gareth/ISL/data.html>\n",
    "- [x] Predicting Credit Card Balance using Regression <https://www.kaggle.com/suzanaiacob/predicting-credit-card-balance-using-regression/notebook>"
   ]
  },
  {
   "cell_type": "markdown",
   "id": "43c25619-630b-465e-98c3-f29d0d7a0b8d",
   "metadata": {},
   "source": [
    "Для виконнання завдань потрібний ряд R-пакетів: "
   ]
  },
  {
   "cell_type": "code",
   "execution_count": 1,
   "id": "ac1d4ac2-a39d-45b4-b79f-722deb9acf2b",
   "metadata": {},
   "outputs": [
    {
     "name": "stderr",
     "output_type": "stream",
     "text": [
      "Your code contains a unicode char which cannot be displayed in your\n",
      "current locale and R will silently convert it to an escaped form when the\n",
      "R kernel executes this code. This can lead to subtle errors if you use\n",
      "such chars to do comparisons. For more information, please see\n",
      "https://github.com/IRkernel/repr/wiki/Problems-with-unicode-on-windows"
     ]
    }
   ],
   "source": [
    "suppressMessages(library(ggplot2)) # побудова графіків\n",
    "suppressMessages(library(gmodels)) # побудова крос-таблиць\n",
    "suppressMessages(library(rpart)) # дерево рішень\n",
    "suppressMessages(library(partykit)) # дерево рішень\n",
    "suppressMessages(library(rpart.plot)) # візуалізація дерева рішень\n",
    "suppressMessages(library(DMwR)) # оцінка похибок моделі\n",
    "suppressMessages(library(rattle)) # допомога у візуалізації \n",
    "suppressMessages(library(RColorBrewer)) # допомога у візуалізації "
   ]
  },
  {
   "cell_type": "markdown",
   "id": "9cfa4af5-6b85-483e-96aa-3459f6ed320d",
   "metadata": {},
   "source": [
    "Якщо ці пакети відсутні, то інсталюйте їх за допомогою команди `install.packages(назва_пакету)`."
   ]
  },
  {
   "cell_type": "markdown",
   "id": "d5ce5705",
   "metadata": {},
   "source": [
    "Для очистки сесії від непотрібних даних використайте команду `rm()`:"
   ]
  },
  {
   "cell_type": "markdown",
   "id": "b5ff5214-a84a-40fa-bf4b-246fe2b456d4",
   "metadata": {},
   "source": [
    "```r\n",
    "rm(list = ls()) #видаляє усі змінні\n",
    "```"
   ]
  },
  {
   "cell_type": "markdown",
   "id": "2d7f5ddf",
   "metadata": {},
   "source": [
    "## Набір даних"
   ]
  },
  {
   "cell_type": "markdown",
   "id": "a7e54f37-7cfa-475b-aced-e8ba0120d238",
   "metadata": {},
   "source": [
    "Дані складають з 400 спостежень та наступник пкоазників:\n",
    "\n",
    "- [x] `ID` - ідентифікатор;\n",
    "- [x] `Income` - дохід у $10,0000;\n",
    "- [x] `Limit` - кредитний ліміт;\n",
    "- [x] `Rating` - кредитний рейтинг;\n",
    "- [x] `Age` - вік, роки;\n",
    "- [x] `Education` - освіта, кількість років навчання;\n",
    "- [x] `Gender` - стать (Male or Female);\n",
    "- [x] `Student` - флаг чи є студентом (Yes or No);\n",
    "- [x] `Married` - флаг чи одружений (Yes or No);\n",
    "- [x] `Ethnicity` - етнічна належність (African American, Asian or Caucasian);\n",
    "- [x] `Balance` - середній баланс по карті у $$.\n",
    "\n",
    "Задача: **визначити вплив факторів на середній баланс по карті.**\n"
   ]
  },
  {
   "cell_type": "markdown",
   "id": "e0ab95e4-22f1-41c4-a47b-f66299dd0f55",
   "metadata": {},
   "source": [
    "Імпорт даних:"
   ]
  },
  {
   "cell_type": "code",
   "execution_count": 1,
   "id": "47602491-ea99-4252-a00e-9d5fc5322538",
   "metadata": {},
   "outputs": [],
   "source": [
    "data <- read.csv(\"data/credit_card_balance.csv\")"
   ]
  },
  {
   "cell_type": "markdown",
   "id": "f2029b39-af2e-476d-ba79-d45b9d10d2c9",
   "metadata": {},
   "source": [
    "Переглянемо структуру даних:"
   ]
  },
  {
   "cell_type": "code",
   "execution_count": 25,
   "id": "cdbf4304-d8c9-4bb8-a127-cec0cb911f99",
   "metadata": {},
   "outputs": [
    {
     "name": "stdout",
     "output_type": "stream",
     "text": [
      "'data.frame':\t400 obs. of  11 variables:\n",
      " $ Income   : num  14.9 106 104.6 148.9 55.9 ...\n",
      " $ Limit    : int  3606 6645 7075 9504 4897 8047 3388 7114 3300 6819 ...\n",
      " $ Rating   : int  283 483 514 681 357 569 259 512 266 491 ...\n",
      " $ Cards    : int  2 3 4 3 2 4 2 2 5 3 ...\n",
      " $ Age      : int  34 82 71 36 68 77 37 87 66 41 ...\n",
      " $ Education: int  11 15 11 11 16 10 12 9 13 19 ...\n",
      " $ Gender   : Factor w/ 2 levels \"Female\",\"Male\": 2 1 2 1 2 2 1 2 1 1 ...\n",
      " $ Student  : Factor w/ 2 levels \"No\",\"Yes\": 1 2 1 1 1 1 1 1 1 2 ...\n",
      " $ Married  : Factor w/ 2 levels \"No\",\"Yes\": 2 2 1 1 2 1 1 1 1 2 ...\n",
      " $ Ethnicity: Factor w/ 3 levels \"African American\",..: 3 2 2 2 3 3 1 2 3 1 ...\n",
      " $ Balance  : int  333 903 580 964 331 1151 203 872 279 1350 ...\n"
     ]
    }
   ],
   "source": [
    "str(data)"
   ]
  },
  {
   "cell_type": "code",
   "execution_count": 26,
   "id": "26d994a9-136e-47f7-8832-272528e1b700",
   "metadata": {},
   "outputs": [
    {
     "data": {
      "text/html": [
       "FALSE"
      ],
      "text/latex": [
       "FALSE"
      ],
      "text/markdown": [
       "FALSE"
      ],
      "text/plain": [
       "[1] FALSE"
      ]
     },
     "metadata": {},
     "output_type": "display_data"
    }
   ],
   "source": [
    "anyNA(data)"
   ]
  },
  {
   "cell_type": "code",
   "execution_count": 3,
   "id": "f8538cf3-9375-4f70-8780-6a9918338092",
   "metadata": {},
   "outputs": [
    {
     "data": {
      "text/html": [
       "<table class=\"dataframe\">\n",
       "<caption>A data.frame: 6 × 12</caption>\n",
       "<thead>\n",
       "\t<tr><th></th><th scope=col>X</th><th scope=col>Income</th><th scope=col>Limit</th><th scope=col>Rating</th><th scope=col>Cards</th><th scope=col>Age</th><th scope=col>Education</th><th scope=col>Gender</th><th scope=col>Student</th><th scope=col>Married</th><th scope=col>Ethnicity</th><th scope=col>Balance</th></tr>\n",
       "\t<tr><th></th><th scope=col>&lt;int&gt;</th><th scope=col>&lt;dbl&gt;</th><th scope=col>&lt;int&gt;</th><th scope=col>&lt;int&gt;</th><th scope=col>&lt;int&gt;</th><th scope=col>&lt;int&gt;</th><th scope=col>&lt;int&gt;</th><th scope=col>&lt;chr&gt;</th><th scope=col>&lt;chr&gt;</th><th scope=col>&lt;chr&gt;</th><th scope=col>&lt;chr&gt;</th><th scope=col>&lt;int&gt;</th></tr>\n",
       "</thead>\n",
       "<tbody>\n",
       "\t<tr><th scope=row>1</th><td>1</td><td> 14.891</td><td>3606</td><td>283</td><td>2</td><td>34</td><td>11</td><td>Male  </td><td>No </td><td>Yes</td><td>Caucasian</td><td> 333</td></tr>\n",
       "\t<tr><th scope=row>2</th><td>2</td><td>106.025</td><td>6645</td><td>483</td><td>3</td><td>82</td><td>15</td><td>Female</td><td>Yes</td><td>Yes</td><td>Asian    </td><td> 903</td></tr>\n",
       "\t<tr><th scope=row>3</th><td>3</td><td>104.593</td><td>7075</td><td>514</td><td>4</td><td>71</td><td>11</td><td>Male  </td><td>No </td><td>No </td><td>Asian    </td><td> 580</td></tr>\n",
       "\t<tr><th scope=row>4</th><td>4</td><td>148.924</td><td>9504</td><td>681</td><td>3</td><td>36</td><td>11</td><td>Female</td><td>No </td><td>No </td><td>Asian    </td><td> 964</td></tr>\n",
       "\t<tr><th scope=row>5</th><td>5</td><td> 55.882</td><td>4897</td><td>357</td><td>2</td><td>68</td><td>16</td><td>Male  </td><td>No </td><td>Yes</td><td>Caucasian</td><td> 331</td></tr>\n",
       "\t<tr><th scope=row>6</th><td>6</td><td> 80.180</td><td>8047</td><td>569</td><td>4</td><td>77</td><td>10</td><td>Male  </td><td>No </td><td>No </td><td>Caucasian</td><td>1151</td></tr>\n",
       "</tbody>\n",
       "</table>\n"
      ],
      "text/latex": [
       "A data.frame: 6 × 12\n",
       "\\begin{tabular}{r|llllllllllll}\n",
       "  & X & Income & Limit & Rating & Cards & Age & Education & Gender & Student & Married & Ethnicity & Balance\\\\\n",
       "  & <int> & <dbl> & <int> & <int> & <int> & <int> & <int> & <chr> & <chr> & <chr> & <chr> & <int>\\\\\n",
       "\\hline\n",
       "\t1 & 1 &  14.891 & 3606 & 283 & 2 & 34 & 11 & Male   & No  & Yes & Caucasian &  333\\\\\n",
       "\t2 & 2 & 106.025 & 6645 & 483 & 3 & 82 & 15 & Female & Yes & Yes & Asian     &  903\\\\\n",
       "\t3 & 3 & 104.593 & 7075 & 514 & 4 & 71 & 11 & Male   & No  & No  & Asian     &  580\\\\\n",
       "\t4 & 4 & 148.924 & 9504 & 681 & 3 & 36 & 11 & Female & No  & No  & Asian     &  964\\\\\n",
       "\t5 & 5 &  55.882 & 4897 & 357 & 2 & 68 & 16 & Male   & No  & Yes & Caucasian &  331\\\\\n",
       "\t6 & 6 &  80.180 & 8047 & 569 & 4 & 77 & 10 & Male   & No  & No  & Caucasian & 1151\\\\\n",
       "\\end{tabular}\n"
      ],
      "text/markdown": [
       "\n",
       "A data.frame: 6 × 12\n",
       "\n",
       "| <!--/--> | X &lt;int&gt; | Income &lt;dbl&gt; | Limit &lt;int&gt; | Rating &lt;int&gt; | Cards &lt;int&gt; | Age &lt;int&gt; | Education &lt;int&gt; | Gender &lt;chr&gt; | Student &lt;chr&gt; | Married &lt;chr&gt; | Ethnicity &lt;chr&gt; | Balance &lt;int&gt; |\n",
       "|---|---|---|---|---|---|---|---|---|---|---|---|---|\n",
       "| 1 | 1 |  14.891 | 3606 | 283 | 2 | 34 | 11 | Male   | No  | Yes | Caucasian |  333 |\n",
       "| 2 | 2 | 106.025 | 6645 | 483 | 3 | 82 | 15 | Female | Yes | Yes | Asian     |  903 |\n",
       "| 3 | 3 | 104.593 | 7075 | 514 | 4 | 71 | 11 | Male   | No  | No  | Asian     |  580 |\n",
       "| 4 | 4 | 148.924 | 9504 | 681 | 3 | 36 | 11 | Female | No  | No  | Asian     |  964 |\n",
       "| 5 | 5 |  55.882 | 4897 | 357 | 2 | 68 | 16 | Male   | No  | Yes | Caucasian |  331 |\n",
       "| 6 | 6 |  80.180 | 8047 | 569 | 4 | 77 | 10 | Male   | No  | No  | Caucasian | 1151 |\n",
       "\n"
      ],
      "text/plain": [
       "  X Income  Limit Rating Cards Age Education Gender Student Married Ethnicity\n",
       "1 1  14.891 3606  283    2     34  11        Male   No      Yes     Caucasian\n",
       "2 2 106.025 6645  483    3     82  15        Female Yes     Yes     Asian    \n",
       "3 3 104.593 7075  514    4     71  11        Male   No      No      Asian    \n",
       "4 4 148.924 9504  681    3     36  11        Female No      No      Asian    \n",
       "5 5  55.882 4897  357    2     68  16        Male   No      Yes     Caucasian\n",
       "6 6  80.180 8047  569    4     77  10        Male   No      No      Caucasian\n",
       "  Balance\n",
       "1  333   \n",
       "2  903   \n",
       "3  580   \n",
       "4  964   \n",
       "5  331   \n",
       "6 1151   "
      ]
     },
     "metadata": {},
     "output_type": "display_data"
    }
   ],
   "source": [
    "head(data)"
   ]
  },
  {
   "cell_type": "markdown",
   "id": "9e5352f2-4833-408f-b9f7-994a0dce0205",
   "metadata": {},
   "source": [
    "Оглянемо описову статистику факторів:"
   ]
  },
  {
   "cell_type": "code",
   "execution_count": 4,
   "id": "18de6f98-553d-43f0-bc7b-885e0f0bf58e",
   "metadata": {},
   "outputs": [
    {
     "data": {
      "text/plain": [
       "       X             Income           Limit           Rating     \n",
       " Min.   :  1.0   Min.   : 10.35   Min.   :  855   Min.   : 93.0  \n",
       " 1st Qu.:100.8   1st Qu.: 21.01   1st Qu.: 3088   1st Qu.:247.2  \n",
       " Median :200.5   Median : 33.12   Median : 4622   Median :344.0  \n",
       " Mean   :200.5   Mean   : 45.22   Mean   : 4736   Mean   :354.9  \n",
       " 3rd Qu.:300.2   3rd Qu.: 57.47   3rd Qu.: 5873   3rd Qu.:437.2  \n",
       " Max.   :400.0   Max.   :186.63   Max.   :13913   Max.   :982.0  \n",
       "     Cards            Age          Education        Gender         \n",
       " Min.   :1.000   Min.   :23.00   Min.   : 5.00   Length:400        \n",
       " 1st Qu.:2.000   1st Qu.:41.75   1st Qu.:11.00   Class :character  \n",
       " Median :3.000   Median :56.00   Median :14.00   Mode  :character  \n",
       " Mean   :2.958   Mean   :55.67   Mean   :13.45                     \n",
       " 3rd Qu.:4.000   3rd Qu.:70.00   3rd Qu.:16.00                     \n",
       " Max.   :9.000   Max.   :98.00   Max.   :20.00                     \n",
       "   Student            Married           Ethnicity            Balance       \n",
       " Length:400         Length:400         Length:400         Min.   :   0.00  \n",
       " Class :character   Class :character   Class :character   1st Qu.:  68.75  \n",
       " Mode  :character   Mode  :character   Mode  :character   Median : 459.50  \n",
       "                                                          Mean   : 520.01  \n",
       "                                                          3rd Qu.: 863.00  \n",
       "                                                          Max.   :1999.00  "
      ]
     },
     "metadata": {},
     "output_type": "display_data"
    }
   ],
   "source": [
    "summary(data)"
   ]
  },
  {
   "cell_type": "markdown",
   "id": "426ec4f5-59d1-4df0-a61c-efcdc96fb886",
   "metadata": {},
   "source": [
    "Підготуємо дані до моделювання. Перетворимо категоріальні показники до факторів:"
   ]
  },
  {
   "cell_type": "code",
   "execution_count": 5,
   "id": "01a70352-b982-4d41-807f-24826291b577",
   "metadata": {},
   "outputs": [],
   "source": [
    "data$X <- NULL\n",
    "data$Gender <-  factor(data$Gender)\n",
    "data$Student <- factor(data$Student)\n",
    "data$Married <- factor(data$Married)\n",
    "data$Ethnicity <- factor(data$Ethnicity)"
   ]
  },
  {
   "cell_type": "markdown",
   "id": "df50fcd2-9d3f-4d6b-b1e0-14535e4d0b48",
   "metadata": {},
   "source": [
    ":::{.callout-note}\n",
    "\n",
    "Спростіть код, використавши можливості пакету `dplyr`.\n",
    "\n",
    ":::"
   ]
  },
  {
   "cell_type": "markdown",
   "id": "f501dabf-afd3-4592-899b-f95c440bc452",
   "metadata": {},
   "source": [
    "## Тренувальна та тестова вибірки"
   ]
  },
  {
   "cell_type": "markdown",
   "id": "0e321d5a-2f70-454f-a12b-09012a5b8d11",
   "metadata": {},
   "source": [
    "Розділимо загальну вибірку на 2 частини: * тренувальна, `70%` вибірки, для побудови регресії; * тестова, `30%` вибірки, для перевірки точності моделі."
   ]
  },
  {
   "cell_type": "code",
   "execution_count": 61,
   "id": "b6600c93-d7a1-486a-93bb-8a5c1a7047da",
   "metadata": {},
   "outputs": [],
   "source": [
    "set.seed(2023) #довільне число як точка \"відправки\" для генератора випадкових чисел\n",
    "\n",
    "# Згенеруємо набір чисел від 1 до кількості спостережень у вибірці і відберемо  випадквоим чином 70% із них\n",
    "train_index <- sample(1:nrow(data), size = 0.7*nrow(data))\n",
    "\n",
    "#Запишемо по номерах відібраних рядків тренувальний набір даних\n",
    "train_data <- data[train_index,]\n",
    "\n",
    "#Всі інші значення, що не увійшли в тренувальну вибірку запишемо у тестову\n",
    "test_data <- data[-train_index,]"
   ]
  },
  {
   "cell_type": "code",
   "execution_count": 9,
   "id": "b7fea801-3de3-4c95-8a6e-4ec239c96d83",
   "metadata": {},
   "outputs": [
    {
     "name": "stdout",
     "output_type": "stream",
     "text": [
      "'data.frame':\t280 obs. of  11 variables:\n",
      " $ Income   : num  67 53.6 10.9 125.5 27.2 ...\n",
      " $ Limit    : int  5614 3714 3907 10230 3484 11200 4351 6127 6982 6135 ...\n",
      " $ Rating   : int  430 286 296 721 282 817 323 433 518 466 ...\n",
      " $ Cards    : int  3 3 2 3 6 7 2 1 2 4 ...\n",
      " $ Age      : int  47 73 30 82 51 46 66 80 78 40 ...\n",
      " $ Education: int  14 17 9 16 11 9 13 10 11 12 ...\n",
      " $ Gender   : Factor w/ 2 levels \"Female\",\"Male\": 1 1 2 2 2 2 2 2 1 2 ...\n",
      " $ Student  : Factor w/ 2 levels \"No\",\"Yes\": 1 1 1 1 1 1 1 1 1 1 ...\n",
      " $ Married  : Factor w/ 2 levels \"No\",\"Yes\": 2 2 1 2 1 2 2 2 2 1 ...\n",
      " $ Ethnicity: Factor w/ 3 levels \"African American\",..: 3 1 3 3 3 1 3 3 3 3 ...\n",
      " $ Balance  : int  482 0 485 1361 265 1677 308 578 250 992 ...\n"
     ]
    }
   ],
   "source": [
    "str(train_data)"
   ]
  },
  {
   "cell_type": "code",
   "execution_count": 10,
   "id": "819ce889-7dae-43a7-afdb-f98f2b2da6ef",
   "metadata": {},
   "outputs": [
    {
     "name": "stdout",
     "output_type": "stream",
     "text": [
      "'data.frame':\t120 obs. of  11 variables:\n",
      " $ Income   : num  14.9 104.6 55.9 80.2 21 ...\n",
      " $ Limit    : int  3606 7075 4897 8047 3388 8117 6922 3291 2631 5179 ...\n",
      " $ Rating   : int  283 514 357 569 259 589 511 269 213 398 ...\n",
      " $ Cards    : int  2 4 2 4 2 4 1 2 3 5 ...\n",
      " $ Age      : int  34 71 68 77 37 30 49 75 61 48 ...\n",
      " $ Education: int  11 11 16 10 12 14 9 13 10 8 ...\n",
      " $ Gender   : Factor w/ 2 levels \"Female\",\"Male\": 2 2 2 2 1 2 2 1 2 2 ...\n",
      " $ Student  : Factor w/ 2 levels \"No\",\"Yes\": 1 1 1 1 1 1 1 1 1 1 ...\n",
      " $ Married  : Factor w/ 2 levels \"No\",\"Yes\": 2 1 2 1 1 2 2 1 2 2 ...\n",
      " $ Ethnicity: Factor w/ 3 levels \"African American\",..: 3 2 3 3 1 3 3 1 1 1 ...\n",
      " $ Balance  : int  333 580 331 1151 203 1407 1081 148 0 411 ...\n"
     ]
    }
   ],
   "source": [
    "str(test_data)"
   ]
  },
  {
   "cell_type": "markdown",
   "id": "2cdbbb1c-41a6-4703-8c3d-1f2685665357",
   "metadata": {},
   "source": [
    "Переглянемо наявність зв’язків між числовими параметрами для тренувальної вибірки за допомогою матриці попарних кореляцій/ Дані на перетині рядків вказують на кореляцію між вибраними показниками."
   ]
  },
  {
   "cell_type": "code",
   "execution_count": 62,
   "id": "4d7a8988-a45d-400f-8bad-774e4cd02663",
   "metadata": {},
   "outputs": [
    {
     "data": {
      "text/html": [
       "<table class=\"dataframe\">\n",
       "<caption>A matrix: 7 × 7 of type dbl</caption>\n",
       "<thead>\n",
       "\t<tr><th></th><th scope=col>Income</th><th scope=col>Limit</th><th scope=col>Rating</th><th scope=col>Cards</th><th scope=col>Age</th><th scope=col>Education</th><th scope=col>Balance</th></tr>\n",
       "</thead>\n",
       "<tbody>\n",
       "\t<tr><th scope=row>Income</th><td>1.00000000</td><td>0.79741269</td><td>0.79561996</td><td> 0.01713798</td><td>0.14965311</td><td> 0.00177292</td><td>0.49497408</td></tr>\n",
       "\t<tr><th scope=row>Limit</th><td>0.79741269</td><td>1.00000000</td><td>0.99694968</td><td> 0.04559784</td><td>0.10507642</td><td> 0.01659274</td><td>0.87729947</td></tr>\n",
       "\t<tr><th scope=row>Rating</th><td>0.79561996</td><td>0.99694968</td><td>1.00000000</td><td> 0.08941276</td><td>0.10494558</td><td> 0.01233853</td><td>0.87873569</td></tr>\n",
       "\t<tr><th scope=row>Cards</th><td>0.01713798</td><td>0.04559784</td><td>0.08941276</td><td> 1.00000000</td><td>0.03596854</td><td>-0.05142140</td><td>0.09550304</td></tr>\n",
       "\t<tr><th scope=row>Age</th><td>0.14965311</td><td>0.10507642</td><td>0.10494558</td><td> 0.03596854</td><td>1.00000000</td><td> 0.07165503</td><td>0.03652931</td></tr>\n",
       "\t<tr><th scope=row>Education</th><td>0.00177292</td><td>0.01659274</td><td>0.01233853</td><td>-0.05142140</td><td>0.07165503</td><td> 1.00000000</td><td>0.04109140</td></tr>\n",
       "\t<tr><th scope=row>Balance</th><td>0.49497408</td><td>0.87729947</td><td>0.87873569</td><td> 0.09550304</td><td>0.03652931</td><td> 0.04109140</td><td>1.00000000</td></tr>\n",
       "</tbody>\n",
       "</table>\n"
      ],
      "text/latex": [
       "A matrix: 7 × 7 of type dbl\n",
       "\\begin{tabular}{r|lllllll}\n",
       "  & Income & Limit & Rating & Cards & Age & Education & Balance\\\\\n",
       "\\hline\n",
       "\tIncome & 1.00000000 & 0.79741269 & 0.79561996 &  0.01713798 & 0.14965311 &  0.00177292 & 0.49497408\\\\\n",
       "\tLimit & 0.79741269 & 1.00000000 & 0.99694968 &  0.04559784 & 0.10507642 &  0.01659274 & 0.87729947\\\\\n",
       "\tRating & 0.79561996 & 0.99694968 & 1.00000000 &  0.08941276 & 0.10494558 &  0.01233853 & 0.87873569\\\\\n",
       "\tCards & 0.01713798 & 0.04559784 & 0.08941276 &  1.00000000 & 0.03596854 & -0.05142140 & 0.09550304\\\\\n",
       "\tAge & 0.14965311 & 0.10507642 & 0.10494558 &  0.03596854 & 1.00000000 &  0.07165503 & 0.03652931\\\\\n",
       "\tEducation & 0.00177292 & 0.01659274 & 0.01233853 & -0.05142140 & 0.07165503 &  1.00000000 & 0.04109140\\\\\n",
       "\tBalance & 0.49497408 & 0.87729947 & 0.87873569 &  0.09550304 & 0.03652931 &  0.04109140 & 1.00000000\\\\\n",
       "\\end{tabular}\n"
      ],
      "text/markdown": [
       "\n",
       "A matrix: 7 × 7 of type dbl\n",
       "\n",
       "| <!--/--> | Income | Limit | Rating | Cards | Age | Education | Balance |\n",
       "|---|---|---|---|---|---|---|---|\n",
       "| Income | 1.00000000 | 0.79741269 | 0.79561996 |  0.01713798 | 0.14965311 |  0.00177292 | 0.49497408 |\n",
       "| Limit | 0.79741269 | 1.00000000 | 0.99694968 |  0.04559784 | 0.10507642 |  0.01659274 | 0.87729947 |\n",
       "| Rating | 0.79561996 | 0.99694968 | 1.00000000 |  0.08941276 | 0.10494558 |  0.01233853 | 0.87873569 |\n",
       "| Cards | 0.01713798 | 0.04559784 | 0.08941276 |  1.00000000 | 0.03596854 | -0.05142140 | 0.09550304 |\n",
       "| Age | 0.14965311 | 0.10507642 | 0.10494558 |  0.03596854 | 1.00000000 |  0.07165503 | 0.03652931 |\n",
       "| Education | 0.00177292 | 0.01659274 | 0.01233853 | -0.05142140 | 0.07165503 |  1.00000000 | 0.04109140 |\n",
       "| Balance | 0.49497408 | 0.87729947 | 0.87873569 |  0.09550304 | 0.03652931 |  0.04109140 | 1.00000000 |\n",
       "\n"
      ],
      "text/plain": [
       "          Income     Limit      Rating     Cards       Age        Education  \n",
       "Income    1.00000000 0.79741269 0.79561996  0.01713798 0.14965311  0.00177292\n",
       "Limit     0.79741269 1.00000000 0.99694968  0.04559784 0.10507642  0.01659274\n",
       "Rating    0.79561996 0.99694968 1.00000000  0.08941276 0.10494558  0.01233853\n",
       "Cards     0.01713798 0.04559784 0.08941276  1.00000000 0.03596854 -0.05142140\n",
       "Age       0.14965311 0.10507642 0.10494558  0.03596854 1.00000000  0.07165503\n",
       "Education 0.00177292 0.01659274 0.01233853 -0.05142140 0.07165503  1.00000000\n",
       "Balance   0.49497408 0.87729947 0.87873569  0.09550304 0.03652931  0.04109140\n",
       "          Balance   \n",
       "Income    0.49497408\n",
       "Limit     0.87729947\n",
       "Rating    0.87873569\n",
       "Cards     0.09550304\n",
       "Age       0.03652931\n",
       "Education 0.04109140\n",
       "Balance   1.00000000"
      ]
     },
     "metadata": {},
     "output_type": "display_data"
    }
   ],
   "source": [
    "cor(train_data[, -c(7:10)])"
   ]
  },
  {
   "cell_type": "markdown",
   "id": "db72b2ba-4da4-4552-bb5e-604924d6d8f9",
   "metadata": {},
   "source": [
    "## Оглядовий аналіз даних"
   ]
  },
  {
   "cell_type": "markdown",
   "id": "36505c2e-baa6-484d-82fb-ae8220e83005",
   "metadata": {},
   "source": [
    "Для початку переглянемо категоріальні змінні."
   ]
  },
  {
   "cell_type": "code",
   "execution_count": 12,
   "id": "7f5b5654-a7d4-41be-add4-bf501c9fe7a7",
   "metadata": {},
   "outputs": [],
   "source": [
    "# Потбірні пакети\n",
    "library(ggplot2)\n",
    "library(gmodels)"
   ]
  },
  {
   "cell_type": "markdown",
   "id": "eb8b4025-fe9f-4383-b585-2bfa3788220a",
   "metadata": {},
   "source": [
    "Стать (`Gender`):"
   ]
  },
  {
   "cell_type": "code",
   "execution_count": 13,
   "id": "fb58a17e-d719-4356-b7f0-cac01e46604d",
   "metadata": {},
   "outputs": [
    {
     "data": {
      "image/png": "[encoded data removed]",
      "text/plain": [
       "plot without title"
      ]
     },
     "metadata": {
      "image/png": {
       "height": 420,
       "width": 420
      }
     },
     "output_type": "display_data"
    }
   ],
   "source": [
    "ggplot(train_data, aes(Gender)) + \n",
    "    geom_bar(aes(fill = Gender)) +\n",
    "    theme_bw()"
   ]
  },
  {
   "cell_type": "code",
   "execution_count": 15,
   "id": "dcf6b878-5ea0-4a7b-81ef-acc5625ef122",
   "metadata": {},
   "outputs": [
    {
     "name": "stdout",
     "output_type": "stream",
     "text": [
      "\n",
      " \n",
      "   Cell Contents\n",
      "|-------------------------|\n",
      "|                       N |\n",
      "|         N / Table Total |\n",
      "|-------------------------|\n",
      "\n",
      " \n",
      "Total Observations in Table:  280 \n",
      "\n",
      " \n",
      "          |    Female |      Male | \n",
      "          |-----------|-----------|\n",
      "          |       153 |       127 | \n",
      "          |     0.546 |     0.454 | \n",
      "          |-----------|-----------|\n",
      "\n",
      "\n",
      "\n",
      " \n"
     ]
    }
   ],
   "source": [
    "CrossTable(train_data$Gender)"
   ]
  },
  {
   "cell_type": "code",
   "execution_count": 16,
   "id": "930c0417-d524-4cc3-b84a-2befc560846c",
   "metadata": {},
   "outputs": [
    {
     "name": "stdout",
     "output_type": "stream",
     "text": [
      "\n",
      " \n",
      "   Cell Contents\n",
      "|-------------------------|\n",
      "|                       N |\n",
      "|         N / Table Total |\n",
      "|-------------------------|\n",
      "\n",
      " \n",
      "Total Observations in Table:  120 \n",
      "\n",
      " \n",
      "          |    Female |      Male | \n",
      "          |-----------|-----------|\n",
      "          |        54 |        66 | \n",
      "          |     0.450 |     0.550 | \n",
      "          |-----------|-----------|\n",
      "\n",
      "\n",
      "\n",
      " \n"
     ]
    }
   ],
   "source": [
    "CrossTable(test_data$Gender)"
   ]
  },
  {
   "cell_type": "markdown",
   "id": "a8757d94-f800-40f5-984b-571dca949752",
   "metadata": {},
   "source": [
    "Сімейний стан (`Married`):"
   ]
  },
  {
   "cell_type": "code",
   "execution_count": 17,
   "id": "e200e90a-05ec-4339-b845-aaf9b8945a92",
   "metadata": {},
   "outputs": [
    {
     "data": {
      "image/png": "[encoded data removed]",
      "text/plain": [
       "plot without title"
      ]
     },
     "metadata": {
      "image/png": {
       "height": 420,
       "width": 420
      }
     },
     "output_type": "display_data"
    }
   ],
   "source": [
    "ggplot(train_data, aes(Married)) + geom_bar(aes(fill = Married)) + theme_bw()"
   ]
  },
  {
   "cell_type": "code",
   "execution_count": 15,
   "id": "2ab1ea58-5c37-4651-89f9-f61e19070550",
   "metadata": {},
   "outputs": [
    {
     "name": "stdout",
     "output_type": "stream",
     "text": [
      "\n",
      " \n",
      "   Cell Contents\n",
      "|-------------------------|\n",
      "|                       N |\n",
      "|         N / Table Total |\n",
      "|-------------------------|\n",
      "\n",
      " \n",
      "Total Observations in Table:  280 \n",
      "\n",
      " \n",
      "          |        No |       Yes | \n",
      "          |-----------|-----------|\n",
      "          |       101 |       179 | \n",
      "          |     0.361 |     0.639 | \n",
      "          |-----------|-----------|\n",
      "\n",
      "\n",
      "\n",
      " \n"
     ]
    }
   ],
   "source": [
    "CrossTable(train_data$Married)"
   ]
  },
  {
   "cell_type": "markdown",
   "id": "5790aceb-89fb-4329-a64b-761242acec78",
   "metadata": {},
   "source": [
    "Студент:"
   ]
  },
  {
   "cell_type": "code",
   "execution_count": 19,
   "id": "15ce43ae-bcd6-4edb-a571-4a3a6d7f12c1",
   "metadata": {},
   "outputs": [
    {
     "data": {
      "image/png": "[encoded data removed]",
      "text/plain": [
       "plot without title"
      ]
     },
     "metadata": {
      "image/png": {
       "height": 420,
       "width": 420
      }
     },
     "output_type": "display_data"
    }
   ],
   "source": [
    "ggplot(train_data, aes(Student)) + geom_bar(aes(fill = Student)) + theme_bw()"
   ]
  },
  {
   "cell_type": "code",
   "execution_count": 17,
   "id": "7fb48f98-66f0-473f-b58a-784134d9b331",
   "metadata": {},
   "outputs": [
    {
     "name": "stdout",
     "output_type": "stream",
     "text": [
      "\n",
      " \n",
      "   Cell Contents\n",
      "|-------------------------|\n",
      "|                       N |\n",
      "|         N / Table Total |\n",
      "|-------------------------|\n",
      "\n",
      " \n",
      "Total Observations in Table:  280 \n",
      "\n",
      " \n",
      "          |        No |       Yes | \n",
      "          |-----------|-----------|\n",
      "          |       255 |        25 | \n",
      "          |     0.911 |     0.089 | \n",
      "          |-----------|-----------|\n",
      "\n",
      "\n",
      "\n",
      " \n"
     ]
    }
   ],
   "source": [
    "CrossTable(train_data$Student)"
   ]
  },
  {
   "cell_type": "markdown",
   "id": "63230026-01bf-495c-9f91-86459d1ebc18",
   "metadata": {},
   "source": [
    "Етнічна належність:"
   ]
  },
  {
   "cell_type": "code",
   "execution_count": 20,
   "id": "7ccb02c4-db96-485b-a2a2-25d49120e94d",
   "metadata": {},
   "outputs": [
    {
     "data": {
      "image/png": "[encoded data removed]",
      "text/plain": [
       "plot without title"
      ]
     },
     "metadata": {
      "image/png": {
       "height": 420,
       "width": 420
      }
     },
     "output_type": "display_data"
    }
   ],
   "source": [
    "ggplot(train_data, aes(Ethnicity)) + geom_bar(aes(fill = Ethnicity)) + theme_bw()"
   ]
  },
  {
   "cell_type": "code",
   "execution_count": 21,
   "id": "4ddd71b2-a2cf-4ccc-9ea5-e031e217f291",
   "metadata": {},
   "outputs": [
    {
     "name": "stdout",
     "output_type": "stream",
     "text": [
      "\n",
      " \n",
      "   Cell Contents\n",
      "|-------------------------|\n",
      "|                       N |\n",
      "|         N / Table Total |\n",
      "|-------------------------|\n",
      "\n",
      " \n",
      "Total Observations in Table:  280 \n",
      "\n",
      " \n",
      "                 | African American |            Asian |        Caucasian | \n",
      "                 |------------------|------------------|------------------|\n",
      "                 |               67 |               73 |              140 | \n",
      "                 |            0.239 |            0.261 |            0.500 | \n",
      "                 |------------------|------------------|------------------|\n",
      "\n",
      "\n",
      "\n",
      " \n"
     ]
    }
   ],
   "source": [
    "CrossTable(train_data$Ethnicity)"
   ]
  },
  {
   "cell_type": "markdown",
   "id": "0a460edd-9c6f-4320-babb-c2e37999a142",
   "metadata": {},
   "source": [
    "Порівняємо числові змінні з показником середнього балансу.\n",
    "\n",
    "Графік залежності між доходом (`Income`) та середнім балансом по карті (`Balance`):"
   ]
  },
  {
   "cell_type": "code",
   "execution_count": 20,
   "id": "9cf9826c-ab05-4171-9887-a872395eb8f7",
   "metadata": {},
   "outputs": [
    {
     "data": {
      "image/png": "[encoded data removed]",
      "text/plain": [
       "plot without title"
      ]
     },
     "metadata": {
      "image/png": {
       "height": 420,
       "width": 420
      }
     },
     "output_type": "display_data"
    }
   ],
   "source": [
    "ggplot(train_data, aes(Income, Balance)) + geom_point()  + theme_bw()"
   ]
  },
  {
   "cell_type": "markdown",
   "id": "d7f2c0d3-ac62-4ef0-a565-a3dc62e39b4d",
   "metadata": {},
   "source": [
    "Графік залежності між доходом (`Rating`) та середнім балансом по карті (`Balance`):"
   ]
  },
  {
   "cell_type": "code",
   "execution_count": 22,
   "id": "994e728b-ff83-451b-a977-c03a2e62af87",
   "metadata": {},
   "outputs": [
    {
     "data": {
      "image/png": "[encoded data removed]",
      "text/plain": [
       "plot without title"
      ]
     },
     "metadata": {
      "image/png": {
       "height": 420,
       "width": 420
      }
     },
     "output_type": "display_data"
    }
   ],
   "source": [
    "ggplot(train_data, aes(Rating, Balance)) + geom_point()  + theme_bw()"
   ]
  },
  {
   "cell_type": "markdown",
   "id": "271a8980-e77b-49f2-ba2e-21e27dabf459",
   "metadata": {},
   "source": [
    "Графік залежності між кількістю карт (`Cards`) та середнім балансом по карті (`Balance`):"
   ]
  },
  {
   "cell_type": "code",
   "execution_count": 23,
   "id": "8b1e85f9-df30-4ffb-8571-b5f35f0f9c10",
   "metadata": {},
   "outputs": [
    {
     "data": {
      "image/png": "[encoded data removed]",
      "text/plain": [
       "plot without title"
      ]
     },
     "metadata": {
      "image/png": {
       "height": 420,
       "width": 420
      }
     },
     "output_type": "display_data"
    }
   ],
   "source": [
    "ggplot(train_data, aes(Cards, Balance)) + geom_point()  + theme_bw()"
   ]
  },
  {
   "cell_type": "markdown",
   "id": "fbccf51e-286b-461e-94a1-3f0efb9697c2",
   "metadata": {},
   "source": [
    "Графік залежності між віком (`Age`) та середнім балансом по карті (`Balance`):"
   ]
  },
  {
   "cell_type": "code",
   "execution_count": 24,
   "id": "6fa5d7fb-0da1-4c55-8e46-feb3283628ef",
   "metadata": {},
   "outputs": [
    {
     "data": {
      "image/png": "[encoded data removed]",
      "text/plain": [
       "plot without title"
      ]
     },
     "metadata": {
      "image/png": {
       "height": 420,
       "width": 420
      }
     },
     "output_type": "display_data"
    }
   ],
   "source": [
    "ggplot(train_data, aes(Education, Balance)) + geom_point()  + theme_bw()"
   ]
  },
  {
   "cell_type": "markdown",
   "id": "72f5c99b-d136-4831-8128-e8fe4141f355",
   "metadata": {},
   "source": [
    "Графік розподілу значень балансу:"
   ]
  },
  {
   "cell_type": "markdown",
   "id": "5feb1261-9c73-4e1c-8ac4-9d481077f646",
   "metadata": {},
   "source": [
    "---"
   ]
  },
  {
   "cell_type": "markdown",
   "id": "dafd6313-2141-4f21-87a3-ad31f3524a34",
   "metadata": {},
   "source": [
    "## Моделювання. Робота з пакетом RPart"
   ]
  },
  {
   "cell_type": "markdown",
   "id": "0e78fdc4-f672-41dd-b73e-7b33d44ddf57",
   "metadata": {},
   "source": [
    "### Побудова моделі без налаштувань"
   ]
  },
  {
   "cell_type": "markdown",
   "id": "19fd4cf0-8375-4c83-95a9-aecddabbea27",
   "metadata": {},
   "source": [
    "Для побудови регресії на основі дерева рішень інсталюємо пакет `rpart` (`install.package(\"rpart\")`).\n",
    "\n",
    "Використаємо функцію для побудови моделі `rpart()`:\n"
   ]
  },
  {
   "cell_type": "code",
   "execution_count": 63,
   "id": "b3348c15-a86d-4150-ba92-a060a128161b",
   "metadata": {},
   "outputs": [],
   "source": [
    "library(rpart)\n",
    "rpart_model <- rpart(Balance ~ ., train_data)"
   ]
  },
  {
   "cell_type": "code",
   "execution_count": 64,
   "id": "d42df9a7-92fe-4329-bc41-156870984b36",
   "metadata": {},
   "outputs": [
    {
     "data": {
      "text/plain": [
       "\n",
       "Call:\n",
       "lm(formula = Balance ~ ., data = train_data)\n",
       "\n",
       "Residuals:\n",
       "    Min      1Q  Median      3Q     Max \n",
       "-154.59  -76.54  -11.13   55.57  307.26 \n",
       "\n",
       "Coefficients:\n",
       "                     Estimate Std. Error t value Pr(>|t|)    \n",
       "(Intercept)        -481.03594   40.89391 -11.763  < 2e-16 ***\n",
       "Income               -7.65261    0.27583 -27.744  < 2e-16 ***\n",
       "Limit                 0.19044    0.03935   4.839 2.21e-06 ***\n",
       "Rating                1.13214    0.58821   1.925  0.05532 .  \n",
       "Cards                15.26241    5.11480   2.984  0.00311 ** \n",
       "Age                  -0.66469    0.35430  -1.876  0.06174 .  \n",
       "Education            -2.03425    1.92290  -1.058  0.29105    \n",
       "GenderMale           20.90393   11.78121   1.774  0.07714 .  \n",
       "StudentYes          415.40583   20.92348  19.854  < 2e-16 ***\n",
       "MarriedYes           -1.09202   12.62022  -0.087  0.93111    \n",
       "EthnicityAsian       33.09464   17.61564   1.879  0.06137 .  \n",
       "EthnicityCaucasian    9.56019   14.49721   0.659  0.51017    \n",
       "---\n",
       "Signif. codes:  0 '***' 0.001 '**' 0.01 '*' 0.05 '.' 0.1 ' ' 1\n",
       "\n",
       "Residual standard error: 97.33 on 268 degrees of freedom\n",
       "Multiple R-squared:  0.9559,\tAdjusted R-squared:  0.9541 \n",
       "F-statistic: 528.2 on 11 and 268 DF,  p-value: < 2.2e-16\n"
      ]
     },
     "metadata": {},
     "output_type": "display_data"
    }
   ],
   "source": [
    "lm_model <- lm(Balance ~ ., train_data)\n",
    "summary(lm_model)"
   ]
  },
  {
   "cell_type": "code",
   "execution_count": 65,
   "id": "52f8ba59-ff72-40d4-a517-b57447ad6a99",
   "metadata": {},
   "outputs": [
    {
     "data": {
      "text/plain": [
       "n= 280 \n",
       "\n",
       "node), split, n, deviance, yval\n",
       "      * denotes terminal node\n",
       "\n",
       " 1) root 280 57583030.00  529.62500  \n",
       "   2) Rating< 353.5 144  7048396.00  188.85420  \n",
       "     4) Rating< 278.5 88  1084105.00   64.26136 *\n",
       "     5) Rating>=278.5 56  2451575.00  384.64290  \n",
       "      10) Income>=47.8385 11    45162.18  104.27270 *\n",
       "      11) Income< 47.8385 45  1330365.00  453.17780 *\n",
       "   3) Rating>=353.5 136 16107060.00  890.44120  \n",
       "     6) Rating< 683.5 125  9824622.00  829.32800  \n",
       "      12) Limit< 5326.5 39  2022419.00  605.41030  \n",
       "        24) Income>=48.3975 12   243564.90  352.58330 *\n",
       "        25) Income< 48.3975 27   670882.70  717.77780 *\n",
       "      13) Limit>=5326.5 86  4960012.00  930.87210  \n",
       "        26) Income>=83.9085 22  1584143.00  786.31820 *\n",
       "        27) Income< 83.9085 64  2758136.00  980.56250  \n",
       "          54) Limit< 6621.5 41  1167789.00  891.97560 *\n",
       "          55) Limit>=6621.5 23   695033.70 1138.47800 *\n",
       "     7) Rating>=683.5 11   510442.90 1584.90900 *"
      ]
     },
     "metadata": {},
     "output_type": "display_data"
    }
   ],
   "source": [
    "rpart_model"
   ]
  },
  {
   "cell_type": "markdown",
   "id": "50df8dc7-fddb-4cca-9b0c-c3de27158187",
   "metadata": {},
   "source": [
    "Створимо дата-фрейми для запису результатів моделювання на тестовій та тренувальній вибірках:"
   ]
  },
  {
   "cell_type": "code",
   "execution_count": 66,
   "id": "f410eef9-e042-47d5-a938-0c0c32a47abe",
   "metadata": {},
   "outputs": [
    {
     "data": {
      "text/html": [
       "<table class=\"dataframe\">\n",
       "<caption>A data.frame: 6 × 3</caption>\n",
       "<thead>\n",
       "\t<tr><th></th><th scope=col>No</th><th scope=col>Balance</th><th scope=col>RPartPredicted</th></tr>\n",
       "\t<tr><th></th><th scope=col>&lt;int&gt;</th><th scope=col>&lt;int&gt;</th><th scope=col>&lt;dbl&gt;</th></tr>\n",
       "</thead>\n",
       "<tbody>\n",
       "\t<tr><th scope=row>373</th><td>1</td><td>840</td><td>453.17778</td></tr>\n",
       "\t<tr><th scope=row>361</th><td>2</td><td>712</td><td>891.97561</td></tr>\n",
       "\t<tr><th scope=row>243</th><td>3</td><td> 16</td><td> 64.26136</td></tr>\n",
       "\t<tr><th scope=row>282</th><td>4</td><td>  0</td><td> 64.26136</td></tr>\n",
       "\t<tr><th scope=row>44</th><td>5</td><td>976</td><td>891.97561</td></tr>\n",
       "\t<tr><th scope=row>354</th><td>6</td><td>425</td><td>453.17778</td></tr>\n",
       "</tbody>\n",
       "</table>\n"
      ],
      "text/latex": [
       "A data.frame: 6 × 3\n",
       "\\begin{tabular}{r|lll}\n",
       "  & No & Balance & RPartPredicted\\\\\n",
       "  & <int> & <int> & <dbl>\\\\\n",
       "\\hline\n",
       "\t373 & 1 & 840 & 453.17778\\\\\n",
       "\t361 & 2 & 712 & 891.97561\\\\\n",
       "\t243 & 3 &  16 &  64.26136\\\\\n",
       "\t282 & 4 &   0 &  64.26136\\\\\n",
       "\t44 & 5 & 976 & 891.97561\\\\\n",
       "\t354 & 6 & 425 & 453.17778\\\\\n",
       "\\end{tabular}\n"
      ],
      "text/markdown": [
       "\n",
       "A data.frame: 6 × 3\n",
       "\n",
       "| <!--/--> | No &lt;int&gt; | Balance &lt;int&gt; | RPartPredicted &lt;dbl&gt; |\n",
       "|---|---|---|---|\n",
       "| 373 | 1 | 840 | 453.17778 |\n",
       "| 361 | 2 | 712 | 891.97561 |\n",
       "| 243 | 3 |  16 |  64.26136 |\n",
       "| 282 | 4 |   0 |  64.26136 |\n",
       "| 44 | 5 | 976 | 891.97561 |\n",
       "| 354 | 6 | 425 | 453.17778 |\n",
       "\n"
      ],
      "text/plain": [
       "    No Balance RPartPredicted\n",
       "373 1  840     453.17778     \n",
       "361 2  712     891.97561     \n",
       "243 3   16      64.26136     \n",
       "282 4    0      64.26136     \n",
       "44  5  976     891.97561     \n",
       "354 6  425     453.17778     "
      ]
     },
     "metadata": {},
     "output_type": "display_data"
    }
   ],
   "source": [
    "train_res <- data.frame(No = c(1:nrow(train_data)), \n",
    "                        Balance = train_data$Balance, \n",
    "                        RPartPredicted = predict(rpart_model, train_data))\n",
    "\n",
    "test_res <- data.frame(No = c(1:nrow(test_data)),\n",
    "                       Balance = test_data$Balance, \n",
    "                       RPartPredicted = predict(rpart_model, test_data))\n",
    "\n",
    "head(train_res)"
   ]
  },
  {
   "cell_type": "markdown",
   "id": "a81a4f00-ad27-45ba-849c-143fbc21f181",
   "metadata": {},
   "source": [
    "### Оцінка метрик"
   ]
  },
  {
   "cell_type": "markdown",
   "id": "adfa0eb6-6cd9-4d7e-b3e1-4732bc4b1064",
   "metadata": {},
   "source": [
    "Переглянемо похибки моделі на обох вибірках:"
   ]
  },
  {
   "cell_type": "code",
   "execution_count": 67,
   "id": "d7e4c947-8765-4954-b06a-0c9258684596",
   "metadata": {},
   "outputs": [
    {
     "data": {
      "text/html": [
       "<style>\n",
       ".dl-inline {width: auto; margin:0; padding: 0}\n",
       ".dl-inline>dt, .dl-inline>dd {float: none; width: auto; display: inline-block}\n",
       ".dl-inline>dt::after {content: \":\\0020\"; padding-right: .5ex}\n",
       ".dl-inline>dt:not(:first-of-type) {padding-left: .5ex}\n",
       "</style><dl class=dl-inline><dt>mae</dt><dd>119.689257298022</dd><dt>mse</dt><dd>26183.8847433001</dd><dt>rmse</dt><dd>161.814352711062</dd><dt>mape</dt><dd>Inf</dd></dl>\n"
      ],
      "text/latex": [
       "\\begin{description*}\n",
       "\\item[mae] 119.689257298022\n",
       "\\item[mse] 26183.8847433001\n",
       "\\item[rmse] 161.814352711062\n",
       "\\item[mape] Inf\n",
       "\\end{description*}\n"
      ],
      "text/markdown": [
       "mae\n",
       ":   119.689257298022mse\n",
       ":   26183.8847433001rmse\n",
       ":   161.814352711062mape\n",
       ":   Inf\n",
       "\n"
      ],
      "text/plain": [
       "       mae        mse       rmse       mape \n",
       "  119.6893 26183.8847   161.8144        Inf "
      ]
     },
     "metadata": {},
     "output_type": "display_data"
    },
    {
     "data": {
      "text/html": [
       "<style>\n",
       ".dl-inline {width: auto; margin:0; padding: 0}\n",
       ".dl-inline>dt, .dl-inline>dd {float: none; width: auto; display: inline-block}\n",
       ".dl-inline>dt::after {content: \":\\0020\"; padding-right: .5ex}\n",
       ".dl-inline>dt:not(:first-of-type) {padding-left: .5ex}\n",
       "</style><dl class=dl-inline><dt>mae</dt><dd>159.674646317362</dd><dt>mse</dt><dd>49034.8928845991</dd><dt>rmse</dt><dd>221.438237178223</dd><dt>mape</dt><dd>Inf</dd></dl>\n"
      ],
      "text/latex": [
       "\\begin{description*}\n",
       "\\item[mae] 159.674646317362\n",
       "\\item[mse] 49034.8928845991\n",
       "\\item[rmse] 221.438237178223\n",
       "\\item[mape] Inf\n",
       "\\end{description*}\n"
      ],
      "text/markdown": [
       "mae\n",
       ":   159.674646317362mse\n",
       ":   49034.8928845991rmse\n",
       ":   221.438237178223mape\n",
       ":   Inf\n",
       "\n"
      ],
      "text/plain": [
       "       mae        mse       rmse       mape \n",
       "  159.6746 49034.8929   221.4382        Inf "
      ]
     },
     "metadata": {},
     "output_type": "display_data"
    }
   ],
   "source": [
    "library(DMwR)\n",
    "regr.eval(train_res$Balance, train_res$RPartPredicted)\n",
    "regr.eval(test_res$Balance, test_res$RPartPredicted)"
   ]
  },
  {
   "cell_type": "markdown",
   "id": "e4829a3d-38be-4348-b55c-487950c89bf8",
   "metadata": {},
   "source": [
    "Оцінимо точність моделі за допомогою коефіцієнта детермінації:"
   ]
  },
  {
   "cell_type": "code",
   "execution_count": 68,
   "id": "4d2bdd95-f8e7-4eec-9861-82c8fd22d82d",
   "metadata": {},
   "outputs": [
    {
     "name": "stdout",
     "output_type": "stream",
     "text": [
      "[1] \"R_train = 0.872679719680806\"\n",
      "[1] \"R_test = 0.780363587175022\"\n"
     ]
    }
   ],
   "source": [
    "r_train <- cor(train_res$Balance, train_res$RPartPredicted)^2\n",
    "r_test <- cor(test_res$Balance, test_res$RPartPredicted)^2\n",
    "print(paste(\"R_train = \", r_train, sep = \"\"))\n",
    "print(paste(\"R_test = \", r_test, sep = \"\"))"
   ]
  },
  {
   "cell_type": "code",
   "execution_count": 69,
   "id": "a47c29c6-0c41-493a-9c87-e619ee3e4a2d",
   "metadata": {},
   "outputs": [
    {
     "name": "stdout",
     "output_type": "stream",
     "text": [
      "[1] \"R_train = 0.955910835214252\"\n",
      "[1] \"R_test = 0.951178315668819\"\n"
     ]
    }
   ],
   "source": [
    "r_train <- cor(train_res$Balance, predict(lm_model, train_data))^2\n",
    "r_test <- cor(test_res$Balance, predict(lm_model, test_data))^2\n",
    "print(paste(\"R_train = \", r_train, sep = \"\"))\n",
    "print(paste(\"R_test = \", r_test, sep = \"\"))"
   ]
  },
  {
   "cell_type": "markdown",
   "id": "6ed96d20-4b55-4b3f-b04b-0700f73d03aa",
   "metadata": {},
   "source": [
    "Для покращення візуалізації відсортуємо результати:"
   ]
  },
  {
   "cell_type": "code",
   "execution_count": 70,
   "id": "0940a24c-b04c-40a7-872b-4f6d34b80a0f",
   "metadata": {},
   "outputs": [],
   "source": [
    "# відсортуємо за зростанням значення балансів карт\n",
    "ordered_train_res <- train_res[order(train_res$Balance),]\n",
    "# відсортуємо за зростанням значення модельованого значення балансу\n",
    "ordered_train_res <- train_res[order(train_res$RPartPredicted),]\n",
    "# \"Перепишемо\" номери по порядку\n",
    "ordered_train_res$No <- c(1:nrow(train_res))"
   ]
  },
  {
   "cell_type": "code",
   "execution_count": 44,
   "id": "91786363-78a5-419f-ae44-c6ff7ac87f83",
   "metadata": {},
   "outputs": [
    {
     "data": {
      "text/html": [
       "<table class=\"dataframe\">\n",
       "<caption>A data.frame: 6 × 3</caption>\n",
       "<thead>\n",
       "\t<tr><th></th><th scope=col>No</th><th scope=col>Balance</th><th scope=col>RPartPredicted</th></tr>\n",
       "\t<tr><th></th><th scope=col>&lt;int&gt;</th><th scope=col>&lt;int&gt;</th><th scope=col>&lt;dbl&gt;</th></tr>\n",
       "</thead>\n",
       "<tbody>\n",
       "\t<tr><th scope=row>149</th><td>1</td><td>  0</td><td>60.66279</td></tr>\n",
       "\t<tr><th scope=row>338</th><td>2</td><td>  0</td><td>60.66279</td></tr>\n",
       "\t<tr><th scope=row>336</th><td>3</td><td>194</td><td>60.66279</td></tr>\n",
       "\t<tr><th scope=row>188</th><td>4</td><td>  0</td><td>60.66279</td></tr>\n",
       "\t<tr><th scope=row>21</th><td>5</td><td> 89</td><td>60.66279</td></tr>\n",
       "\t<tr><th scope=row>56</th><td>6</td><td>  0</td><td>60.66279</td></tr>\n",
       "</tbody>\n",
       "</table>\n"
      ],
      "text/latex": [
       "A data.frame: 6 × 3\n",
       "\\begin{tabular}{r|lll}\n",
       "  & No & Balance & RPartPredicted\\\\\n",
       "  & <int> & <int> & <dbl>\\\\\n",
       "\\hline\n",
       "\t149 & 1 &   0 & 60.66279\\\\\n",
       "\t338 & 2 &   0 & 60.66279\\\\\n",
       "\t336 & 3 & 194 & 60.66279\\\\\n",
       "\t188 & 4 &   0 & 60.66279\\\\\n",
       "\t21 & 5 &  89 & 60.66279\\\\\n",
       "\t56 & 6 &   0 & 60.66279\\\\\n",
       "\\end{tabular}\n"
      ],
      "text/markdown": [
       "\n",
       "A data.frame: 6 × 3\n",
       "\n",
       "| <!--/--> | No &lt;int&gt; | Balance &lt;int&gt; | RPartPredicted &lt;dbl&gt; |\n",
       "|---|---|---|---|\n",
       "| 149 | 1 |   0 | 60.66279 |\n",
       "| 338 | 2 |   0 | 60.66279 |\n",
       "| 336 | 3 | 194 | 60.66279 |\n",
       "| 188 | 4 |   0 | 60.66279 |\n",
       "| 21 | 5 |  89 | 60.66279 |\n",
       "| 56 | 6 |   0 | 60.66279 |\n",
       "\n"
      ],
      "text/plain": [
       "    No Balance RPartPredicted\n",
       "149 1    0     60.66279      \n",
       "338 2    0     60.66279      \n",
       "336 3  194     60.66279      \n",
       "188 4    0     60.66279      \n",
       "21  5   89     60.66279      \n",
       "56  6    0     60.66279      "
      ]
     },
     "metadata": {},
     "output_type": "display_data"
    }
   ],
   "source": [
    "head(ordered_train_res)"
   ]
  },
  {
   "cell_type": "code",
   "execution_count": 45,
   "id": "9bd810aa-488f-4362-bceb-0f62ce890ff5",
   "metadata": {},
   "outputs": [
    {
     "data": {
      "text/html": [
       "<table class=\"dataframe\">\n",
       "<caption>A data.frame: 6 × 3</caption>\n",
       "<thead>\n",
       "\t<tr><th></th><th scope=col>No</th><th scope=col>Balance</th><th scope=col>RPartPredicted</th></tr>\n",
       "\t<tr><th></th><th scope=col>&lt;int&gt;</th><th scope=col>&lt;int&gt;</th><th scope=col>&lt;dbl&gt;</th></tr>\n",
       "</thead>\n",
       "<tbody>\n",
       "\t<tr><th scope=row>29</th><td>275</td><td>1809</td><td>1446.727</td></tr>\n",
       "\t<tr><th scope=row>365</th><td>276</td><td>1243</td><td>1446.727</td></tr>\n",
       "\t<tr><th scope=row>67</th><td>277</td><td>1388</td><td>1446.727</td></tr>\n",
       "\t<tr><th scope=row>185</th><td>278</td><td>1448</td><td>1446.727</td></tr>\n",
       "\t<tr><th scope=row>340</th><td>279</td><td>1107</td><td>1446.727</td></tr>\n",
       "\t<tr><th scope=row>140</th><td>280</td><td>1597</td><td>1446.727</td></tr>\n",
       "</tbody>\n",
       "</table>\n"
      ],
      "text/latex": [
       "A data.frame: 6 × 3\n",
       "\\begin{tabular}{r|lll}\n",
       "  & No & Balance & RPartPredicted\\\\\n",
       "  & <int> & <int> & <dbl>\\\\\n",
       "\\hline\n",
       "\t29 & 275 & 1809 & 1446.727\\\\\n",
       "\t365 & 276 & 1243 & 1446.727\\\\\n",
       "\t67 & 277 & 1388 & 1446.727\\\\\n",
       "\t185 & 278 & 1448 & 1446.727\\\\\n",
       "\t340 & 279 & 1107 & 1446.727\\\\\n",
       "\t140 & 280 & 1597 & 1446.727\\\\\n",
       "\\end{tabular}\n"
      ],
      "text/markdown": [
       "\n",
       "A data.frame: 6 × 3\n",
       "\n",
       "| <!--/--> | No &lt;int&gt; | Balance &lt;int&gt; | RPartPredicted &lt;dbl&gt; |\n",
       "|---|---|---|---|\n",
       "| 29 | 275 | 1809 | 1446.727 |\n",
       "| 365 | 276 | 1243 | 1446.727 |\n",
       "| 67 | 277 | 1388 | 1446.727 |\n",
       "| 185 | 278 | 1448 | 1446.727 |\n",
       "| 340 | 279 | 1107 | 1446.727 |\n",
       "| 140 | 280 | 1597 | 1446.727 |\n",
       "\n"
      ],
      "text/plain": [
       "    No  Balance RPartPredicted\n",
       "29  275 1809    1446.727      \n",
       "365 276 1243    1446.727      \n",
       "67  277 1388    1446.727      \n",
       "185 278 1448    1446.727      \n",
       "340 279 1107    1446.727      \n",
       "140 280 1597    1446.727      "
      ]
     },
     "metadata": {},
     "output_type": "display_data"
    }
   ],
   "source": [
    "tail(ordered_train_res)"
   ]
  },
  {
   "cell_type": "markdown",
   "id": "7552838a-b615-48b5-b1f3-489a54fe849c",
   "metadata": {},
   "source": [
    "Побудуємо графік модельованих та реальних значень балансу з відсортованими показниками для наочності:"
   ]
  },
  {
   "cell_type": "code",
   "execution_count": null,
   "id": "218d18f4-e8c6-4f87-a372-b4616b91963f",
   "metadata": {},
   "outputs": [],
   "source": []
  },
  {
   "cell_type": "code",
   "execution_count": 71,
   "id": "95799c54-71be-44aa-b3ea-46f5015bd7db",
   "metadata": {},
   "outputs": [
    {
     "data": {
      "image/png": "[encoded data removed]",
      "text/plain": [
       "plot without title"
      ]
     },
     "metadata": {
      "image/png": {
       "height": 420,
       "width": 420
      }
     },
     "output_type": "display_data"
    }
   ],
   "source": [
    "ggplot(ordered_train_res) +\n",
    "  geom_point(aes(x = No, y = Balance), colour = \"blue\") +\n",
    "  geom_line(aes(x = No, y = RPartPredicted), colour = \"red\", size = 1) + theme_bw()"
   ]
  },
  {
   "cell_type": "markdown",
   "id": "6f915f94-cbf0-4e19-80a3-7ad76f978b4b",
   "metadata": {},
   "source": [
    "Переглянемо залежність між рейтингом та балансом клієнта, а також прогнозованих значеннях."
   ]
  },
  {
   "cell_type": "code",
   "execution_count": 48,
   "id": "46798d91-17d6-455d-a977-3908466a3ceb",
   "metadata": {},
   "outputs": [
    {
     "data": {
      "image/png": "[encoded data removed]",
      "text/plain": [
       "plot without title"
      ]
     },
     "metadata": {
      "image/png": {
       "height": 420,
       "width": 420
      }
     },
     "output_type": "display_data"
    }
   ],
   "source": [
    "ggplot(train_data) +\n",
    "  geom_point(aes(x = Rating, y = Balance), colour = \"blue\") +\n",
    "  geom_line(aes(x = Rating, y = train_res$RPartPredicted), colour = \"red\") + theme_bw()"
   ]
  },
  {
   "cell_type": "markdown",
   "id": "5135790c-1157-4f41-8a4e-e34213317250",
   "metadata": {},
   "source": [
    "### Візуальне представлення"
   ]
  },
  {
   "cell_type": "markdown",
   "id": "f4c69704-5299-4c11-bda5-0abda5dc12cd",
   "metadata": {},
   "source": [
    "Для візуалізації дерева рішень скористаємося пакетом `rpart.plot`:"
   ]
  },
  {
   "cell_type": "code",
   "execution_count": 72,
   "id": "88293f26-2a8f-4b76-9078-e1f997bf7dc8",
   "metadata": {},
   "outputs": [
    {
     "data": {
      "image/png": "[encoded data removed]",
      "text/plain": [
       "plot without title"
      ]
     },
     "metadata": {
      "image/png": {
       "height": 420,
       "width": 420
      }
     },
     "output_type": "display_data"
    }
   ],
   "source": [
    "library(rpart.plot)\n",
    "prp(rpart_model)"
   ]
  },
  {
   "cell_type": "code",
   "execution_count": 73,
   "id": "bf88d677-0de7-4b1d-84b3-7c519bdf3a1c",
   "metadata": {},
   "outputs": [
    {
     "data": {
      "image/png": "[encoded data removed]",
      "text/plain": [
       "plot without title"
      ]
     },
     "metadata": {
      "image/png": {
       "height": 420,
       "width": 420
      }
     },
     "output_type": "display_data"
    }
   ],
   "source": [
    "prp(rpart_model, extra = 1, type = 2)"
   ]
  },
  {
   "cell_type": "markdown",
   "id": "41424555-7fd2-4fd1-a877-ce1961d26a65",
   "metadata": {},
   "source": [
    "Додамо інтерактивності для побудованого дерева рішень:"
   ]
  },
  {
   "cell_type": "code",
   "execution_count": 51,
   "id": "02e3129e-9484-42cd-ba5a-d4e306583c3f",
   "metadata": {},
   "outputs": [
    {
     "name": "stderr",
     "output_type": "stream",
     "text": [
      "Warning message:\n",
      "\"ignoring snip=TRUE for png device\"\n"
     ]
    },
    {
     "data": {
      "image/png": "[encoded data removed]",
      "text/plain": [
       "plot without title"
      ]
     },
     "metadata": {
      "image/png": {
       "height": 420,
       "width": 420
      }
     },
     "output_type": "display_data"
    }
   ],
   "source": [
    "prp(rpart_model, snip = TRUE) # Працює у RStudio"
   ]
  },
  {
   "cell_type": "markdown",
   "id": "0d3c7a3a-aafb-4881-a921-871e5e4ff8ea",
   "metadata": {},
   "source": [
    "Побудуємо також “розфарбоване” дерево рішень за допомогою пакетів `rattle` та `RColorBrewer`:"
   ]
  },
  {
   "cell_type": "code",
   "execution_count": 54,
   "id": "5d6a167d-e722-47b6-aa3b-352da2d0a9e6",
   "metadata": {},
   "outputs": [
    {
     "data": {
      "image/png": "[encoded data removed]",
      "text/plain": [
       "Plot with title \"\""
      ]
     },
     "metadata": {
      "image/png": {
       "height": 420,
       "width": 420
      }
     },
     "output_type": "display_data"
    }
   ],
   "source": [
    "library(rattle)\n",
    "library(RColorBrewer)\n",
    "fancyRpartPlot(rpart_model)"
   ]
  },
  {
   "cell_type": "markdown",
   "id": "3da14268-4dea-47b0-8a11-20cfbc5ff5e3",
   "metadata": {},
   "source": [
    "---"
   ]
  },
  {
   "cell_type": "markdown",
   "id": "b05c00e8-7926-4ee2-aaea-b34731c37c82",
   "metadata": {},
   "source": [
    "### Побудова моделі з розділеннями"
   ]
  },
  {
   "cell_type": "markdown",
   "id": "01d9649e-39c9-4eaa-8ba6-39841f06f37f",
   "metadata": {},
   "source": [
    "Побудуємо модель з вказанням мінімальної кількості розділень даних (`minsplit`):"
   ]
  },
  {
   "cell_type": "code",
   "execution_count": 76,
   "id": "324993ff-fe08-4384-878c-06e905ce27c5",
   "metadata": {},
   "outputs": [],
   "source": [
    "rpart_model2 <- rpart(Balance ~ ., train_data, control = rpart.control(minsplit = 10))"
   ]
  },
  {
   "cell_type": "markdown",
   "id": "971cc121-8f82-4577-828d-34b0d9fcb8fc",
   "metadata": {},
   "source": [
    "Отримаємо прогнозовані значення для обох вибірок на основі другої моделі:"
   ]
  },
  {
   "cell_type": "code",
   "execution_count": 77,
   "id": "dda62287-da41-494e-90a3-8a74ada2a398",
   "metadata": {},
   "outputs": [
    {
     "data": {
      "text/html": [
       "<table class=\"dataframe\">\n",
       "<caption>A data.frame: 6 × 4</caption>\n",
       "<thead>\n",
       "\t<tr><th></th><th scope=col>No</th><th scope=col>Balance</th><th scope=col>RPartPredicted</th><th scope=col>RPartPredicted10</th></tr>\n",
       "\t<tr><th></th><th scope=col>&lt;int&gt;</th><th scope=col>&lt;int&gt;</th><th scope=col>&lt;dbl&gt;</th><th scope=col>&lt;dbl&gt;</th></tr>\n",
       "</thead>\n",
       "<tbody>\n",
       "\t<tr><th scope=row>373</th><td>1</td><td>840</td><td>453.17778</td><td>836.25000</td></tr>\n",
       "\t<tr><th scope=row>361</th><td>2</td><td>712</td><td>891.97561</td><td>891.97561</td></tr>\n",
       "\t<tr><th scope=row>243</th><td>3</td><td> 16</td><td> 64.26136</td><td> 64.26136</td></tr>\n",
       "\t<tr><th scope=row>282</th><td>4</td><td>  0</td><td> 64.26136</td><td> 64.26136</td></tr>\n",
       "\t<tr><th scope=row>44</th><td>5</td><td>976</td><td>891.97561</td><td>891.97561</td></tr>\n",
       "\t<tr><th scope=row>354</th><td>6</td><td>425</td><td>453.17778</td><td>415.80488</td></tr>\n",
       "</tbody>\n",
       "</table>\n"
      ],
      "text/latex": [
       "A data.frame: 6 × 4\n",
       "\\begin{tabular}{r|llll}\n",
       "  & No & Balance & RPartPredicted & RPartPredicted10\\\\\n",
       "  & <int> & <int> & <dbl> & <dbl>\\\\\n",
       "\\hline\n",
       "\t373 & 1 & 840 & 453.17778 & 836.25000\\\\\n",
       "\t361 & 2 & 712 & 891.97561 & 891.97561\\\\\n",
       "\t243 & 3 &  16 &  64.26136 &  64.26136\\\\\n",
       "\t282 & 4 &   0 &  64.26136 &  64.26136\\\\\n",
       "\t44 & 5 & 976 & 891.97561 & 891.97561\\\\\n",
       "\t354 & 6 & 425 & 453.17778 & 415.80488\\\\\n",
       "\\end{tabular}\n"
      ],
      "text/markdown": [
       "\n",
       "A data.frame: 6 × 4\n",
       "\n",
       "| <!--/--> | No &lt;int&gt; | Balance &lt;int&gt; | RPartPredicted &lt;dbl&gt; | RPartPredicted10 &lt;dbl&gt; |\n",
       "|---|---|---|---|---|\n",
       "| 373 | 1 | 840 | 453.17778 | 836.25000 |\n",
       "| 361 | 2 | 712 | 891.97561 | 891.97561 |\n",
       "| 243 | 3 |  16 |  64.26136 |  64.26136 |\n",
       "| 282 | 4 |   0 |  64.26136 |  64.26136 |\n",
       "| 44 | 5 | 976 | 891.97561 | 891.97561 |\n",
       "| 354 | 6 | 425 | 453.17778 | 415.80488 |\n",
       "\n"
      ],
      "text/plain": [
       "    No Balance RPartPredicted RPartPredicted10\n",
       "373 1  840     453.17778      836.25000       \n",
       "361 2  712     891.97561      891.97561       \n",
       "243 3   16      64.26136       64.26136       \n",
       "282 4    0      64.26136       64.26136       \n",
       "44  5  976     891.97561      891.97561       \n",
       "354 6  425     453.17778      415.80488       "
      ]
     },
     "metadata": {},
     "output_type": "display_data"
    }
   ],
   "source": [
    "train_res$RPartPredicted10 <- predict(rpart_model2, train_data)\n",
    "test_res$RPartPredicted10 <- predict(rpart_model2, test_data)\n",
    "\n",
    "head(train_res)"
   ]
  },
  {
   "cell_type": "markdown",
   "id": "a435286d-5f5c-43de-acc1-eb0e3e09c083",
   "metadata": {},
   "source": [
    "### Оцінка метрик"
   ]
  },
  {
   "cell_type": "markdown",
   "id": "cc4f1490-8d28-46a2-9ae5-a26c2f62b3f1",
   "metadata": {},
   "source": [
    "Переглянемо похибки:"
   ]
  },
  {
   "cell_type": "code",
   "execution_count": 78,
   "id": "433d99bf-1504-46f6-b011-1e69c341fcf1",
   "metadata": {},
   "outputs": [
    {
     "data": {
      "text/html": [
       "<style>\n",
       ".dl-inline {width: auto; margin:0; padding: 0}\n",
       ".dl-inline>dt, .dl-inline>dd {float: none; width: auto; display: inline-block}\n",
       ".dl-inline>dt::after {content: \":\\0020\"; padding-right: .5ex}\n",
       ".dl-inline>dt:not(:first-of-type) {padding-left: .5ex}\n",
       "</style><dl class=dl-inline><dt>mae</dt><dd>115.002097019276</dd><dt>mse</dt><dd>23883.0154977523</dd><dt>rmse</dt><dd>154.541306768619</dd><dt>mape</dt><dd>Inf</dd></dl>\n"
      ],
      "text/latex": [
       "\\begin{description*}\n",
       "\\item[mae] 115.002097019276\n",
       "\\item[mse] 23883.0154977523\n",
       "\\item[rmse] 154.541306768619\n",
       "\\item[mape] Inf\n",
       "\\end{description*}\n"
      ],
      "text/markdown": [
       "mae\n",
       ":   115.002097019276mse\n",
       ":   23883.0154977523rmse\n",
       ":   154.541306768619mape\n",
       ":   Inf\n",
       "\n"
      ],
      "text/plain": [
       "       mae        mse       rmse       mape \n",
       "  115.0021 23883.0155   154.5413        Inf "
      ]
     },
     "metadata": {},
     "output_type": "display_data"
    },
    {
     "data": {
      "text/html": [
       "<style>\n",
       ".dl-inline {width: auto; margin:0; padding: 0}\n",
       ".dl-inline>dt, .dl-inline>dd {float: none; width: auto; display: inline-block}\n",
       ".dl-inline>dt::after {content: \":\\0020\"; padding-right: .5ex}\n",
       ".dl-inline>dt:not(:first-of-type) {padding-left: .5ex}\n",
       "</style><dl class=dl-inline><dt>mae</dt><dd>152.524889090623</dd><dt>mse</dt><dd>43219.8819877103</dd><dt>rmse</dt><dd>207.89392003546</dd><dt>mape</dt><dd>Inf</dd></dl>\n"
      ],
      "text/latex": [
       "\\begin{description*}\n",
       "\\item[mae] 152.524889090623\n",
       "\\item[mse] 43219.8819877103\n",
       "\\item[rmse] 207.89392003546\n",
       "\\item[mape] Inf\n",
       "\\end{description*}\n"
      ],
      "text/markdown": [
       "mae\n",
       ":   152.524889090623mse\n",
       ":   43219.8819877103rmse\n",
       ":   207.89392003546mape\n",
       ":   Inf\n",
       "\n"
      ],
      "text/plain": [
       "       mae        mse       rmse       mape \n",
       "  152.5249 43219.8820   207.8939        Inf "
      ]
     },
     "metadata": {},
     "output_type": "display_data"
    }
   ],
   "source": [
    "regr.eval(train_res$Balance, train_res$RPartPredicted10)\n",
    "regr.eval(test_res$Balance, test_res$RPartPredicted10)"
   ]
  },
  {
   "cell_type": "markdown",
   "id": "7f10510c-96fe-4f65-8d47-a670ae83d9c4",
   "metadata": {},
   "source": [
    "Оцінимо точність моделі за допомогою коефіцієнта детермінації:"
   ]
  },
  {
   "cell_type": "code",
   "execution_count": 79,
   "id": "17eb32b8-d975-4a74-adb2-e7be072bcc3e",
   "metadata": {},
   "outputs": [
    {
     "name": "stdout",
     "output_type": "stream",
     "text": [
      "[1] \"R_train =0.883867796629392\"\n",
      "[1] \"R_test =0.805983358303455\"\n"
     ]
    }
   ],
   "source": [
    "r_train <- cor(train_res$Balance, train_res$RPartPredicted10)^2\n",
    "r_test <- cor(test_res$Balance, test_res$RPartPredicted10)^2\n",
    "\n",
    "print(paste(\"R_train =\", r_train, sep = \"\"))\n",
    "print(paste(\"R_test =\", r_test, sep = \"\"))"
   ]
  },
  {
   "cell_type": "markdown",
   "id": "689ccf10-2982-4f52-b009-0ad547a98a73",
   "metadata": {},
   "source": [
    "### Візуалізація результатів"
   ]
  },
  {
   "cell_type": "markdown",
   "id": "9c7efd14-16fc-4482-9a82-9a47a1d1f978",
   "metadata": {},
   "source": [
    "Візуалізуємо модель:"
   ]
  },
  {
   "cell_type": "code",
   "execution_count": 80,
   "id": "d0c14a58-50f2-4d46-b38c-1be5b21daf97",
   "metadata": {},
   "outputs": [
    {
     "data": {
      "image/png": "[encoded data removed]",
      "text/plain": [
       "plot without title"
      ]
     },
     "metadata": {
      "image/png": {
       "height": 420,
       "width": 420
      }
     },
     "output_type": "display_data"
    }
   ],
   "source": [
    "prp(rpart_model2)"
   ]
  },
  {
   "cell_type": "markdown",
   "id": "08bd1507-4322-43c4-83b1-c262b6a68140",
   "metadata": {},
   "source": [
    "---"
   ]
  },
  {
   "cell_type": "markdown",
   "id": "83539f62-f729-4821-a1c3-a778e58f83b5",
   "metadata": {},
   "source": [
    "## Моделювання. Робота з пакетом `partykit`"
   ]
  },
  {
   "cell_type": "markdown",
   "id": "c6c724ea-80de-41d0-a416-8f77da2a5029",
   "metadata": {},
   "source": [
    "Побудуємо дерево рішень на основі `partykit` та функції `ctree()` та порівняємо з результатами роботи `rpart()`."
   ]
  },
  {
   "cell_type": "code",
   "execution_count": 82,
   "id": "924d8fca-bbef-44c9-bf77-6080ceb7a11e",
   "metadata": {},
   "outputs": [
    {
     "name": "stdout",
     "output_type": "stream",
     "text": [
      "\n",
      "Model formula:\n",
      "Balance ~ Income + Limit + Rating + Cards + Age + Education + \n",
      "    Gender + Student + Married + Ethnicity\n",
      "\n",
      "Fitted party:\n",
      "[1] root\n",
      "|   [2] Rating <= 342\n",
      "|   |   [3] Rating <= 245: 3.360 (n = 25, err = 4597.8)\n",
      "|   |   [4] Rating > 245\n",
      "|   |   |   [5] Income <= 19.782: 416.200 (n = 10, err = 290573.6)\n",
      "|   |   |   [6] Income > 19.782: 221.889 (n = 18, err = 254079.8)\n",
      "|   [7] Rating > 342\n",
      "|   |   [8] Rating <= 599: 765.051 (n = 39, err = 1913599.9)\n",
      "|   |   [9] Rating > 599: 1380.625 (n = 8, err = 720389.9)\n",
      "\n",
      "Number of inner nodes:    4\n",
      "Number of terminal nodes: 5\n"
     ]
    }
   ],
   "source": [
    "library(partykit)\n",
    "party_model <- ctree(Balance ~ ., data = train_data[1:100,]) # перших 100 спостережень\n",
    "print(party_model)"
   ]
  },
  {
   "cell_type": "code",
   "execution_count": 83,
   "id": "285ea486-eb41-4fd9-9417-1285b017786a",
   "metadata": {},
   "outputs": [
    {
     "data": {
      "image/png": "[encoded data removed]",
      "text/plain": [
       "plot without title"
      ]
     },
     "metadata": {
      "image/png": {
       "height": 420,
       "width": 420
      }
     },
     "output_type": "display_data"
    }
   ],
   "source": [
    "plot(party_model)"
   ]
  },
  {
   "cell_type": "code",
   "execution_count": 84,
   "id": "f4ac8563-4325-4fb5-95ee-acdca5d93e08",
   "metadata": {},
   "outputs": [
    {
     "name": "stdout",
     "output_type": "stream",
     "text": [
      "\n",
      "Model formula:\n",
      "Balance ~ Income + Limit + Rating + Cards + Age + Education + \n",
      "    Gender + Student + Married + Ethnicity\n",
      "\n",
      "Fitted party:\n",
      "[1] root\n",
      "|   [2] Rating <= 353\n",
      "|   |   [3] Rating <= 278\n",
      "|   |   |   [4] Student in No\n",
      "|   |   |   |   [5] Rating <= 249: 8.516 (n = 62, err = 64369.5)\n",
      "|   |   |   |   [6] Rating > 249: 167.056 (n = 18, err = 91486.9)\n",
      "|   |   |   [7] Student in Yes: 265.000 (n = 8, err = 223014.0)\n",
      "|   |   [8] Rating > 278\n",
      "|   |   |   [9] Income <= 44.978: 453.178 (n = 45, err = 1330364.6)\n",
      "|   |   |   [10] Income > 44.978: 104.273 (n = 11, err = 45162.2)\n",
      "|   [11] Rating > 353\n",
      "|   |   [12] Rating <= 682\n",
      "|   |   |   [13] Limit <= 5310\n",
      "|   |   |   |   [14] Income <= 48.218: 717.778 (n = 27, err = 670882.7)\n",
      "|   |   |   |   [15] Income > 48.218: 352.583 (n = 12, err = 243564.9)\n",
      "|   |   |   [16] Limit > 5310\n",
      "|   |   |   |   [17] Student in No\n",
      "|   |   |   |   |   [18] Income <= 101.788\n",
      "|   |   |   |   |   |   [19] Rating <= 536\n",
      "|   |   |   |   |   |   |   [20] Income <= 63.809\n",
      "|   |   |   |   |   |   |   |   [21] Rating <= 456\n",
      "|   |   |   |   |   |   |   |   |   [22] Income <= 34.48: 934.222 (n = 18, err = 95773.1)\n",
      "|   |   |   |   |   |   |   |   |   [23] Income > 34.48: 808.000 (n = 7, err = 45006.0)\n",
      "|   |   |   |   |   |   |   |   [24] Rating > 456: 1028.533 (n = 15, err = 106875.7)\n",
      "|   |   |   |   |   |   |   [25] Income > 63.809: 734.714 (n = 14, err = 332820.9)\n",
      "|   |   |   |   |   |   [26] Rating > 536: 1173.250 (n = 12, err = 307664.2)\n",
      "|   |   |   |   |   [27] Income > 101.788: 667.545 (n = 11, err = 816958.7)\n",
      "|   |   |   |   [28] Student in Yes: 1160.778 (n = 9, err = 523847.6)\n",
      "|   |   [29] Rating > 682: 1584.909 (n = 11, err = 510442.9)\n",
      "\n",
      "Number of inner nodes:    14\n",
      "Number of terminal nodes: 15\n"
     ]
    }
   ],
   "source": [
    "party_model <- ctree(Balance ~ ., data = train_data) \n",
    "print(party_model)"
   ]
  },
  {
   "cell_type": "code",
   "execution_count": 85,
   "id": "844b49b9-4e0e-49a1-ae0d-ec71e44ef36f",
   "metadata": {},
   "outputs": [
    {
     "data": {
      "image/png": "[encoded data removed]",
      "text/plain": [
       "plot without title"
      ]
     },
     "metadata": {
      "image/png": {
       "height": 420,
       "width": 420
      }
     },
     "output_type": "display_data"
    }
   ],
   "source": [
    "plot(party_model)"
   ]
  },
  {
   "cell_type": "markdown",
   "id": "b46fa692-dc0c-4684-b2dd-2a25760c9961",
   "metadata": {},
   "source": [
    "Обчислимо модельовані значення середнього балансу по карті:"
   ]
  },
  {
   "cell_type": "code",
   "execution_count": 86,
   "id": "54dc96d7-23b3-4775-8462-5a96675e91d2",
   "metadata": {},
   "outputs": [],
   "source": [
    "train_res$PredictedParty <- predict(party_model, train_data)\n",
    "test_res$PredictedParty <- predict(party_model, test_data)"
   ]
  },
  {
   "cell_type": "markdown",
   "id": "9a9a74f0-ebf2-40df-947f-06e25e8e8f01",
   "metadata": {},
   "source": [
    "Переглянемо коефіцієнти детермінації:"
   ]
  },
  {
   "cell_type": "code",
   "execution_count": 87,
   "id": "1b6fd5cb-36fe-4ed6-ba66-559e77d57883",
   "metadata": {},
   "outputs": [
    {
     "name": "stdout",
     "output_type": "stream",
     "text": [
      "[1] \"R_train = 0.906079382030953\"\n",
      "[1] \"R_test = 0.857313458113989\"\n"
     ]
    }
   ],
   "source": [
    "r_train <- cor(train_res$Balance, train_res$PredictedParty)^2\n",
    "r_test <- cor(test_res$Balance, test_res$PredictedParty)^2\n",
    "\n",
    "print(paste(\"R_train = \", r_train, sep = \"\"))\n",
    "print(paste(\"R_test = \", r_test, sep = \"\"))"
   ]
  },
  {
   "cell_type": "markdown",
   "id": "0f01c720-66be-46e4-925c-769cd3ffc3a2",
   "metadata": {},
   "source": [
    "---"
   ]
  }
 ],
 "metadata": {
  "kernelspec": {
   "display_name": "R",
   "language": "R",
   "name": "ir"
  },
  "language_info": {
   "codemirror_mode": "r",
   "file_extension": ".r",
   "mimetype": "text/x-r-source",
   "name": "R",
   "pygments_lexer": "r",
   "version": "4.1.3"
  },
  "toc-showtags": true
 },
 "nbformat": 4,
 "nbformat_minor": 5
}
